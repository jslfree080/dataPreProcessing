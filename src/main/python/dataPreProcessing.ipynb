{
 "cells": [
  {
   "cell_type": "code",
   "execution_count": 1,
   "id": "c55d6d68-277c-40c4-a134-23bba59a2ee4",
   "metadata": {},
   "outputs": [
    {
     "data": {
      "text/plain": [
       "'\\n!pip install -U scikit-learn\\n!pip install -U imbalanced-learn\\n!pip install notebook\\n!pip install pandas\\n!pip install numpy\\n'"
      ]
     },
     "execution_count": 1,
     "metadata": {},
     "output_type": "execute_result"
    }
   ],
   "source": [
    "\"\"\"\n",
    "!pip install -U scikit-learn\n",
    "!pip install -U imbalanced-learn\n",
    "!pip install notebook\n",
    "!pip install pandas\n",
    "!pip install numpy\n",
    "\"\"\""
   ]
  },
  {
   "cell_type": "markdown",
   "id": "3ed898c3-126b-4cfc-b1dc-3eb4dea07242",
   "metadata": {},
   "source": [
    "# Data cleaning"
   ]
  },
  {
   "cell_type": "code",
   "execution_count": 2,
   "id": "3a9e2af7-3608-4083-b97c-171801cef366",
   "metadata": {},
   "outputs": [
    {
     "data": {
      "text/html": [
       "<div>\n",
       "<style scoped>\n",
       "    .dataframe tbody tr th:only-of-type {\n",
       "        vertical-align: middle;\n",
       "    }\n",
       "\n",
       "    .dataframe tbody tr th {\n",
       "        vertical-align: top;\n",
       "    }\n",
       "\n",
       "    .dataframe thead th {\n",
       "        text-align: right;\n",
       "    }\n",
       "</style>\n",
       "<table border=\"1\" class=\"dataframe\">\n",
       "  <thead>\n",
       "    <tr style=\"text-align: right;\">\n",
       "      <th></th>\n",
       "      <th>mean radius</th>\n",
       "      <th>mean texture</th>\n",
       "      <th>mean perimeter</th>\n",
       "      <th>mean area</th>\n",
       "      <th>mean smoothness</th>\n",
       "      <th>mean compactness</th>\n",
       "      <th>mean concavity</th>\n",
       "      <th>mean concave points</th>\n",
       "      <th>mean symmetry</th>\n",
       "      <th>mean fractal dimension</th>\n",
       "      <th>...</th>\n",
       "      <th>worst texture</th>\n",
       "      <th>worst perimeter</th>\n",
       "      <th>worst area</th>\n",
       "      <th>worst smoothness</th>\n",
       "      <th>worst compactness</th>\n",
       "      <th>worst concavity</th>\n",
       "      <th>worst concave points</th>\n",
       "      <th>worst symmetry</th>\n",
       "      <th>worst fractal dimension</th>\n",
       "      <th>target</th>\n",
       "    </tr>\n",
       "  </thead>\n",
       "  <tbody>\n",
       "    <tr>\n",
       "      <th>0</th>\n",
       "      <td>NaN</td>\n",
       "      <td>10.38</td>\n",
       "      <td>122.80</td>\n",
       "      <td>1001.0</td>\n",
       "      <td>0.11840</td>\n",
       "      <td>0.27760</td>\n",
       "      <td>0.3001</td>\n",
       "      <td>0.14710</td>\n",
       "      <td>0.2419</td>\n",
       "      <td>0.07871</td>\n",
       "      <td>...</td>\n",
       "      <td>17.33</td>\n",
       "      <td>NaN</td>\n",
       "      <td>2019.0</td>\n",
       "      <td>0.16220</td>\n",
       "      <td>0.6656</td>\n",
       "      <td>0.7119</td>\n",
       "      <td>0.2654</td>\n",
       "      <td>0.4601</td>\n",
       "      <td>0.11890</td>\n",
       "      <td>0</td>\n",
       "    </tr>\n",
       "    <tr>\n",
       "      <th>1</th>\n",
       "      <td>20.57</td>\n",
       "      <td>17.77</td>\n",
       "      <td>132.90</td>\n",
       "      <td>1326.0</td>\n",
       "      <td>NaN</td>\n",
       "      <td>NaN</td>\n",
       "      <td>0.0869</td>\n",
       "      <td>0.07017</td>\n",
       "      <td>NaN</td>\n",
       "      <td>0.05667</td>\n",
       "      <td>...</td>\n",
       "      <td>23.41</td>\n",
       "      <td>158.80</td>\n",
       "      <td>1956.0</td>\n",
       "      <td>0.12380</td>\n",
       "      <td>0.1866</td>\n",
       "      <td>0.2416</td>\n",
       "      <td>0.1860</td>\n",
       "      <td>0.2750</td>\n",
       "      <td>NaN</td>\n",
       "      <td>0</td>\n",
       "    </tr>\n",
       "    <tr>\n",
       "      <th>2</th>\n",
       "      <td>19.69</td>\n",
       "      <td>21.25</td>\n",
       "      <td>130.00</td>\n",
       "      <td>1203.0</td>\n",
       "      <td>0.10960</td>\n",
       "      <td>0.15990</td>\n",
       "      <td>NaN</td>\n",
       "      <td>NaN</td>\n",
       "      <td>NaN</td>\n",
       "      <td>0.05999</td>\n",
       "      <td>...</td>\n",
       "      <td>25.53</td>\n",
       "      <td>NaN</td>\n",
       "      <td>1709.0</td>\n",
       "      <td>0.14440</td>\n",
       "      <td>0.4245</td>\n",
       "      <td>0.4504</td>\n",
       "      <td>0.2430</td>\n",
       "      <td>0.3613</td>\n",
       "      <td>0.08758</td>\n",
       "      <td>0</td>\n",
       "    </tr>\n",
       "    <tr>\n",
       "      <th>3</th>\n",
       "      <td>11.42</td>\n",
       "      <td>20.38</td>\n",
       "      <td>77.58</td>\n",
       "      <td>386.1</td>\n",
       "      <td>0.14250</td>\n",
       "      <td>0.28390</td>\n",
       "      <td>0.2414</td>\n",
       "      <td>NaN</td>\n",
       "      <td>0.2597</td>\n",
       "      <td>0.09744</td>\n",
       "      <td>...</td>\n",
       "      <td>26.50</td>\n",
       "      <td>NaN</td>\n",
       "      <td>567.7</td>\n",
       "      <td>0.20980</td>\n",
       "      <td>0.8663</td>\n",
       "      <td>0.6869</td>\n",
       "      <td>0.2575</td>\n",
       "      <td>0.6638</td>\n",
       "      <td>0.17300</td>\n",
       "      <td>0</td>\n",
       "    </tr>\n",
       "    <tr>\n",
       "      <th>4</th>\n",
       "      <td>20.29</td>\n",
       "      <td>14.34</td>\n",
       "      <td>NaN</td>\n",
       "      <td>NaN</td>\n",
       "      <td>NaN</td>\n",
       "      <td>0.13280</td>\n",
       "      <td>0.1980</td>\n",
       "      <td>NaN</td>\n",
       "      <td>0.1809</td>\n",
       "      <td>NaN</td>\n",
       "      <td>...</td>\n",
       "      <td>16.67</td>\n",
       "      <td>152.20</td>\n",
       "      <td>1575.0</td>\n",
       "      <td>0.13740</td>\n",
       "      <td>NaN</td>\n",
       "      <td>0.4000</td>\n",
       "      <td>0.1625</td>\n",
       "      <td>0.2364</td>\n",
       "      <td>0.07678</td>\n",
       "      <td>0</td>\n",
       "    </tr>\n",
       "    <tr>\n",
       "      <th>...</th>\n",
       "      <td>...</td>\n",
       "      <td>...</td>\n",
       "      <td>...</td>\n",
       "      <td>...</td>\n",
       "      <td>...</td>\n",
       "      <td>...</td>\n",
       "      <td>...</td>\n",
       "      <td>...</td>\n",
       "      <td>...</td>\n",
       "      <td>...</td>\n",
       "      <td>...</td>\n",
       "      <td>...</td>\n",
       "      <td>...</td>\n",
       "      <td>...</td>\n",
       "      <td>...</td>\n",
       "      <td>...</td>\n",
       "      <td>...</td>\n",
       "      <td>...</td>\n",
       "      <td>...</td>\n",
       "      <td>...</td>\n",
       "      <td>...</td>\n",
       "    </tr>\n",
       "    <tr>\n",
       "      <th>564</th>\n",
       "      <td>21.56</td>\n",
       "      <td>22.39</td>\n",
       "      <td>142.00</td>\n",
       "      <td>1479.0</td>\n",
       "      <td>0.11100</td>\n",
       "      <td>NaN</td>\n",
       "      <td>0.2439</td>\n",
       "      <td>0.13890</td>\n",
       "      <td>0.1726</td>\n",
       "      <td>0.05623</td>\n",
       "      <td>...</td>\n",
       "      <td>26.40</td>\n",
       "      <td>166.10</td>\n",
       "      <td>2027.0</td>\n",
       "      <td>0.14100</td>\n",
       "      <td>0.2113</td>\n",
       "      <td>0.4107</td>\n",
       "      <td>0.2216</td>\n",
       "      <td>0.2060</td>\n",
       "      <td>0.07115</td>\n",
       "      <td>0</td>\n",
       "    </tr>\n",
       "    <tr>\n",
       "      <th>565</th>\n",
       "      <td>NaN</td>\n",
       "      <td>28.25</td>\n",
       "      <td>131.20</td>\n",
       "      <td>1261.0</td>\n",
       "      <td>0.09780</td>\n",
       "      <td>0.10340</td>\n",
       "      <td>0.1440</td>\n",
       "      <td>0.09791</td>\n",
       "      <td>0.1752</td>\n",
       "      <td>NaN</td>\n",
       "      <td>...</td>\n",
       "      <td>38.25</td>\n",
       "      <td>155.00</td>\n",
       "      <td>1731.0</td>\n",
       "      <td>0.11660</td>\n",
       "      <td>0.1922</td>\n",
       "      <td>0.3215</td>\n",
       "      <td>0.1628</td>\n",
       "      <td>0.2572</td>\n",
       "      <td>NaN</td>\n",
       "      <td>0</td>\n",
       "    </tr>\n",
       "    <tr>\n",
       "      <th>566</th>\n",
       "      <td>16.60</td>\n",
       "      <td>28.08</td>\n",
       "      <td>108.30</td>\n",
       "      <td>NaN</td>\n",
       "      <td>0.08455</td>\n",
       "      <td>0.10230</td>\n",
       "      <td>NaN</td>\n",
       "      <td>0.05302</td>\n",
       "      <td>0.1590</td>\n",
       "      <td>0.05648</td>\n",
       "      <td>...</td>\n",
       "      <td>34.12</td>\n",
       "      <td>126.70</td>\n",
       "      <td>1124.0</td>\n",
       "      <td>0.11390</td>\n",
       "      <td>NaN</td>\n",
       "      <td>0.3403</td>\n",
       "      <td>0.1418</td>\n",
       "      <td>0.2218</td>\n",
       "      <td>0.07820</td>\n",
       "      <td>0</td>\n",
       "    </tr>\n",
       "    <tr>\n",
       "      <th>567</th>\n",
       "      <td>20.60</td>\n",
       "      <td>29.33</td>\n",
       "      <td>140.10</td>\n",
       "      <td>1265.0</td>\n",
       "      <td>0.11780</td>\n",
       "      <td>0.27700</td>\n",
       "      <td>0.3514</td>\n",
       "      <td>0.15200</td>\n",
       "      <td>0.2397</td>\n",
       "      <td>NaN</td>\n",
       "      <td>...</td>\n",
       "      <td>NaN</td>\n",
       "      <td>184.60</td>\n",
       "      <td>1821.0</td>\n",
       "      <td>0.16500</td>\n",
       "      <td>0.8681</td>\n",
       "      <td>0.9387</td>\n",
       "      <td>0.2650</td>\n",
       "      <td>0.4087</td>\n",
       "      <td>0.12400</td>\n",
       "      <td>0</td>\n",
       "    </tr>\n",
       "    <tr>\n",
       "      <th>568</th>\n",
       "      <td>7.76</td>\n",
       "      <td>NaN</td>\n",
       "      <td>47.92</td>\n",
       "      <td>181.0</td>\n",
       "      <td>0.05263</td>\n",
       "      <td>0.04362</td>\n",
       "      <td>0.0000</td>\n",
       "      <td>0.00000</td>\n",
       "      <td>0.1587</td>\n",
       "      <td>0.05884</td>\n",
       "      <td>...</td>\n",
       "      <td>30.37</td>\n",
       "      <td>59.16</td>\n",
       "      <td>NaN</td>\n",
       "      <td>0.08996</td>\n",
       "      <td>NaN</td>\n",
       "      <td>0.0000</td>\n",
       "      <td>0.0000</td>\n",
       "      <td>0.2871</td>\n",
       "      <td>0.07039</td>\n",
       "      <td>1</td>\n",
       "    </tr>\n",
       "  </tbody>\n",
       "</table>\n",
       "<p>569 rows × 31 columns</p>\n",
       "</div>"
      ],
      "text/plain": [
       "     mean radius  mean texture  mean perimeter  mean area  mean smoothness  \\\n",
       "0            NaN         10.38          122.80     1001.0          0.11840   \n",
       "1          20.57         17.77          132.90     1326.0              NaN   \n",
       "2          19.69         21.25          130.00     1203.0          0.10960   \n",
       "3          11.42         20.38           77.58      386.1          0.14250   \n",
       "4          20.29         14.34             NaN        NaN              NaN   \n",
       "..           ...           ...             ...        ...              ...   \n",
       "564        21.56         22.39          142.00     1479.0          0.11100   \n",
       "565          NaN         28.25          131.20     1261.0          0.09780   \n",
       "566        16.60         28.08          108.30        NaN          0.08455   \n",
       "567        20.60         29.33          140.10     1265.0          0.11780   \n",
       "568         7.76           NaN           47.92      181.0          0.05263   \n",
       "\n",
       "     mean compactness  mean concavity  mean concave points  mean symmetry  \\\n",
       "0             0.27760          0.3001              0.14710         0.2419   \n",
       "1                 NaN          0.0869              0.07017            NaN   \n",
       "2             0.15990             NaN                  NaN            NaN   \n",
       "3             0.28390          0.2414                  NaN         0.2597   \n",
       "4             0.13280          0.1980                  NaN         0.1809   \n",
       "..                ...             ...                  ...            ...   \n",
       "564               NaN          0.2439              0.13890         0.1726   \n",
       "565           0.10340          0.1440              0.09791         0.1752   \n",
       "566           0.10230             NaN              0.05302         0.1590   \n",
       "567           0.27700          0.3514              0.15200         0.2397   \n",
       "568           0.04362          0.0000              0.00000         0.1587   \n",
       "\n",
       "     mean fractal dimension  ...  worst texture  worst perimeter  worst area  \\\n",
       "0                   0.07871  ...          17.33              NaN      2019.0   \n",
       "1                   0.05667  ...          23.41           158.80      1956.0   \n",
       "2                   0.05999  ...          25.53              NaN      1709.0   \n",
       "3                   0.09744  ...          26.50              NaN       567.7   \n",
       "4                       NaN  ...          16.67           152.20      1575.0   \n",
       "..                      ...  ...            ...              ...         ...   \n",
       "564                 0.05623  ...          26.40           166.10      2027.0   \n",
       "565                     NaN  ...          38.25           155.00      1731.0   \n",
       "566                 0.05648  ...          34.12           126.70      1124.0   \n",
       "567                     NaN  ...            NaN           184.60      1821.0   \n",
       "568                 0.05884  ...          30.37            59.16         NaN   \n",
       "\n",
       "    worst smoothness  worst compactness  worst concavity  \\\n",
       "0            0.16220             0.6656           0.7119   \n",
       "1            0.12380             0.1866           0.2416   \n",
       "2            0.14440             0.4245           0.4504   \n",
       "3            0.20980             0.8663           0.6869   \n",
       "4            0.13740                NaN           0.4000   \n",
       "..               ...                ...              ...   \n",
       "564          0.14100             0.2113           0.4107   \n",
       "565          0.11660             0.1922           0.3215   \n",
       "566          0.11390                NaN           0.3403   \n",
       "567          0.16500             0.8681           0.9387   \n",
       "568          0.08996                NaN           0.0000   \n",
       "\n",
       "     worst concave points  worst symmetry  worst fractal dimension  target  \n",
       "0                  0.2654          0.4601                  0.11890       0  \n",
       "1                  0.1860          0.2750                      NaN       0  \n",
       "2                  0.2430          0.3613                  0.08758       0  \n",
       "3                  0.2575          0.6638                  0.17300       0  \n",
       "4                  0.1625          0.2364                  0.07678       0  \n",
       "..                    ...             ...                      ...     ...  \n",
       "564                0.2216          0.2060                  0.07115       0  \n",
       "565                0.1628          0.2572                      NaN       0  \n",
       "566                0.1418          0.2218                  0.07820       0  \n",
       "567                0.2650          0.4087                  0.12400       0  \n",
       "568                0.0000          0.2871                  0.07039       1  \n",
       "\n",
       "[569 rows x 31 columns]"
      ]
     },
     "execution_count": 2,
     "metadata": {},
     "output_type": "execute_result"
    }
   ],
   "source": [
    "import pandas as pd\n",
    "\n",
    "df = pd.read_csv('sample_dataset.csv')\n",
    "df"
   ]
  },
  {
   "cell_type": "code",
   "execution_count": 3,
   "id": "ea437a7c-5a33-4b3c-b126-75aeb959a366",
   "metadata": {},
   "outputs": [
    {
     "data": {
      "text/plain": [
       "mean radius                float64\n",
       "mean texture               float64\n",
       "mean perimeter             float64\n",
       "mean area                  float64\n",
       "mean smoothness            float64\n",
       "mean compactness           float64\n",
       "mean concavity             float64\n",
       "mean concave points        float64\n",
       "mean symmetry              float64\n",
       "mean fractal dimension     float64\n",
       "radius error               float64\n",
       "texture error              float64\n",
       "perimeter error            float64\n",
       "area error                  object\n",
       "smoothness error           float64\n",
       "compactness error          float64\n",
       "concavity error            float64\n",
       "concave points error       float64\n",
       "symmetry error             float64\n",
       "fractal dimension error    float64\n",
       "worst radius               float64\n",
       "worst texture              float64\n",
       "worst perimeter            float64\n",
       "worst area                 float64\n",
       "worst smoothness           float64\n",
       "worst compactness          float64\n",
       "worst concavity            float64\n",
       "worst concave points       float64\n",
       "worst symmetry             float64\n",
       "worst fractal dimension    float64\n",
       "target                       int64\n",
       "dtype: object"
      ]
     },
     "execution_count": 3,
     "metadata": {},
     "output_type": "execute_result"
    }
   ],
   "source": [
    "df.dtypes"
   ]
  },
  {
   "cell_type": "markdown",
   "id": "712974c8-8f29-4ba6-b5ea-86c77a896218",
   "metadata": {},
   "source": [
    "## Selecting numerical and categorical variables"
   ]
  },
  {
   "cell_type": "code",
   "execution_count": 4,
   "id": "1248914a-0b4c-4608-b767-ff19b5c6c144",
   "metadata": {},
   "outputs": [],
   "source": [
    "numerical_variables = df.select_dtypes(exclude=['object','category','bool']).columns\n",
    "categorical_variables = df.select_dtypes(include=['object','category','bool']).columns"
   ]
  },
  {
   "cell_type": "code",
   "execution_count": 5,
   "id": "5e239939-7b2b-4f50-9d6b-41416cc3699a",
   "metadata": {},
   "outputs": [
    {
     "data": {
      "text/plain": [
       "Index(['mean radius', 'mean texture', 'mean perimeter', 'mean area',\n",
       "       'mean smoothness', 'mean compactness', 'mean concavity',\n",
       "       'mean concave points', 'mean symmetry', 'mean fractal dimension',\n",
       "       'radius error', 'texture error', 'perimeter error', 'smoothness error',\n",
       "       'compactness error', 'concavity error', 'concave points error',\n",
       "       'symmetry error', 'fractal dimension error', 'worst radius',\n",
       "       'worst texture', 'worst perimeter', 'worst area', 'worst smoothness',\n",
       "       'worst compactness', 'worst concavity', 'worst concave points',\n",
       "       'worst symmetry', 'worst fractal dimension', 'target'],\n",
       "      dtype='object')"
      ]
     },
     "execution_count": 5,
     "metadata": {},
     "output_type": "execute_result"
    }
   ],
   "source": [
    "numerical_variables"
   ]
  },
  {
   "cell_type": "code",
   "execution_count": 6,
   "id": "46f3c485-d16a-4465-8dd7-737008399b9c",
   "metadata": {},
   "outputs": [
    {
     "data": {
      "text/plain": [
       "Index(['area error'], dtype='object')"
      ]
     },
     "execution_count": 6,
     "metadata": {},
     "output_type": "execute_result"
    }
   ],
   "source": [
    "categorical_variables"
   ]
  },
  {
   "cell_type": "code",
   "execution_count": 7,
   "id": "e9297d39-01e1-4e66-af7f-fc62d7fee9e8",
   "metadata": {},
   "outputs": [
    {
     "data": {
      "text/plain": [
       "area error\n",
       "A    489\n",
       "B      4\n",
       "C      1\n",
       "Name: count, dtype: int64"
      ]
     },
     "execution_count": 7,
     "metadata": {},
     "output_type": "execute_result"
    }
   ],
   "source": [
    "df['area error'].value_counts()"
   ]
  },
  {
   "cell_type": "markdown",
   "id": "9b1a494e-30e6-44b3-afa6-63c151e0e85e",
   "metadata": {},
   "source": [
    "## Cleaning the numerical features"
   ]
  },
  {
   "cell_type": "code",
   "execution_count": 8,
   "id": "2c927165-5fca-4515-894d-4ab0c1c1380a",
   "metadata": {},
   "outputs": [
    {
     "data": {
      "text/html": [
       "<div>\n",
       "<style scoped>\n",
       "    .dataframe tbody tr th:only-of-type {\n",
       "        vertical-align: middle;\n",
       "    }\n",
       "\n",
       "    .dataframe tbody tr th {\n",
       "        vertical-align: top;\n",
       "    }\n",
       "\n",
       "    .dataframe thead th {\n",
       "        text-align: right;\n",
       "    }\n",
       "</style>\n",
       "<table border=\"1\" class=\"dataframe\">\n",
       "  <thead>\n",
       "    <tr style=\"text-align: right;\">\n",
       "      <th></th>\n",
       "      <th>mean radius</th>\n",
       "      <th>mean texture</th>\n",
       "      <th>mean perimeter</th>\n",
       "    </tr>\n",
       "  </thead>\n",
       "  <tbody>\n",
       "    <tr>\n",
       "      <th>0</th>\n",
       "      <td>NaN</td>\n",
       "      <td>10.38</td>\n",
       "      <td>122.80</td>\n",
       "    </tr>\n",
       "    <tr>\n",
       "      <th>1</th>\n",
       "      <td>20.57</td>\n",
       "      <td>17.77</td>\n",
       "      <td>132.90</td>\n",
       "    </tr>\n",
       "    <tr>\n",
       "      <th>2</th>\n",
       "      <td>19.69</td>\n",
       "      <td>21.25</td>\n",
       "      <td>130.00</td>\n",
       "    </tr>\n",
       "    <tr>\n",
       "      <th>3</th>\n",
       "      <td>11.42</td>\n",
       "      <td>20.38</td>\n",
       "      <td>77.58</td>\n",
       "    </tr>\n",
       "    <tr>\n",
       "      <th>4</th>\n",
       "      <td>20.29</td>\n",
       "      <td>14.34</td>\n",
       "      <td>NaN</td>\n",
       "    </tr>\n",
       "    <tr>\n",
       "      <th>...</th>\n",
       "      <td>...</td>\n",
       "      <td>...</td>\n",
       "      <td>...</td>\n",
       "    </tr>\n",
       "    <tr>\n",
       "      <th>564</th>\n",
       "      <td>21.56</td>\n",
       "      <td>22.39</td>\n",
       "      <td>142.00</td>\n",
       "    </tr>\n",
       "    <tr>\n",
       "      <th>565</th>\n",
       "      <td>NaN</td>\n",
       "      <td>28.25</td>\n",
       "      <td>131.20</td>\n",
       "    </tr>\n",
       "    <tr>\n",
       "      <th>566</th>\n",
       "      <td>16.60</td>\n",
       "      <td>28.08</td>\n",
       "      <td>108.30</td>\n",
       "    </tr>\n",
       "    <tr>\n",
       "      <th>567</th>\n",
       "      <td>20.60</td>\n",
       "      <td>29.33</td>\n",
       "      <td>140.10</td>\n",
       "    </tr>\n",
       "    <tr>\n",
       "      <th>568</th>\n",
       "      <td>7.76</td>\n",
       "      <td>NaN</td>\n",
       "      <td>47.92</td>\n",
       "    </tr>\n",
       "  </tbody>\n",
       "</table>\n",
       "<p>569 rows × 3 columns</p>\n",
       "</div>"
      ],
      "text/plain": [
       "     mean radius  mean texture  mean perimeter\n",
       "0            NaN         10.38          122.80\n",
       "1          20.57         17.77          132.90\n",
       "2          19.69         21.25          130.00\n",
       "3          11.42         20.38           77.58\n",
       "4          20.29         14.34             NaN\n",
       "..           ...           ...             ...\n",
       "564        21.56         22.39          142.00\n",
       "565          NaN         28.25          131.20\n",
       "566        16.60         28.08          108.30\n",
       "567        20.60         29.33          140.10\n",
       "568         7.76           NaN           47.92\n",
       "\n",
       "[569 rows x 3 columns]"
      ]
     },
     "execution_count": 8,
     "metadata": {},
     "output_type": "execute_result"
    }
   ],
   "source": [
    "X = df.iloc[:,0:3]\n",
    "X"
   ]
  },
  {
   "cell_type": "markdown",
   "id": "7bf88546-fe60-41d7-8099-40e0c5f5bc48",
   "metadata": {},
   "source": [
    "### Replace blanks with the mean value"
   ]
  },
  {
   "cell_type": "code",
   "execution_count": 9,
   "id": "e477b319-6942-44c3-9f68-3256c618c39d",
   "metadata": {},
   "outputs": [
    {
     "data": {
      "text/plain": [
       "14.059547717842323"
      ]
     },
     "execution_count": 9,
     "metadata": {},
     "output_type": "execute_result"
    }
   ],
   "source": [
    "X['mean radius'].mean()"
   ]
  },
  {
   "cell_type": "code",
   "execution_count": 10,
   "id": "23cba558-dd1a-42f2-949c-cd341c2cfeb4",
   "metadata": {},
   "outputs": [
    {
     "data": {
      "text/plain": [
       "19.311829268292684"
      ]
     },
     "execution_count": 10,
     "metadata": {},
     "output_type": "execute_result"
    }
   ],
   "source": [
    "X['mean texture'].mean()"
   ]
  },
  {
   "cell_type": "code",
   "execution_count": 11,
   "id": "4c4eb9e2-f295-442d-a4f6-30e7301dc650",
   "metadata": {},
   "outputs": [
    {
     "data": {
      "text/plain": [
       "92.03902534113061"
      ]
     },
     "execution_count": 11,
     "metadata": {},
     "output_type": "execute_result"
    }
   ],
   "source": [
    "X['mean perimeter'].mean()"
   ]
  },
  {
   "cell_type": "code",
   "execution_count": 12,
   "id": "952b6111-0a5c-4052-bf7c-5b5c18ab8956",
   "metadata": {},
   "outputs": [
    {
     "data": {
      "text/plain": [
       "array([[ 14.05954772,  10.38      , 122.8       ],\n",
       "       [ 20.57      ,  17.77      , 132.9       ],\n",
       "       [ 19.69      ,  21.25      , 130.        ],\n",
       "       ...,\n",
       "       [ 16.6       ,  28.08      , 108.3       ],\n",
       "       [ 20.6       ,  29.33      , 140.1       ],\n",
       "       [  7.76      ,  19.31182927,  47.92      ]])"
      ]
     },
     "execution_count": 12,
     "metadata": {},
     "output_type": "execute_result"
    }
   ],
   "source": [
    "from sklearn.impute import SimpleImputer\n",
    "\n",
    "cleaner = SimpleImputer()  # strategy='mean'\n",
    "\"\"\"\n",
    "cleaner.fit(X)\n",
    "cleaner.transform(X)\n",
    "\"\"\"\n",
    "cleaner.fit_transform(X)"
   ]
  },
  {
   "cell_type": "markdown",
   "id": "76dfe637-2fad-424b-b6ce-dfab26d76855",
   "metadata": {},
   "source": [
    "### Replace blanks with the median value (try with skewed distribution)"
   ]
  },
  {
   "cell_type": "code",
   "execution_count": 13,
   "id": "e6276625-6d2b-4e8f-b5f1-e02bbe455966",
   "metadata": {},
   "outputs": [
    {
     "data": {
      "text/plain": [
       "13.28"
      ]
     },
     "execution_count": 13,
     "metadata": {},
     "output_type": "execute_result"
    }
   ],
   "source": [
    "X['mean radius'].median()"
   ]
  },
  {
   "cell_type": "code",
   "execution_count": 14,
   "id": "5f528cf1-d417-4cf0-9466-071ca1d1b8f2",
   "metadata": {},
   "outputs": [
    {
     "data": {
      "text/plain": [
       "18.86"
      ]
     },
     "execution_count": 14,
     "metadata": {},
     "output_type": "execute_result"
    }
   ],
   "source": [
    "X['mean texture'].median()"
   ]
  },
  {
   "cell_type": "code",
   "execution_count": 15,
   "id": "ec84ea67-3bcd-4174-84c1-708bddd1cd7e",
   "metadata": {},
   "outputs": [
    {
     "data": {
      "text/plain": [
       "86.34"
      ]
     },
     "execution_count": 15,
     "metadata": {},
     "output_type": "execute_result"
    }
   ],
   "source": [
    "X['mean perimeter'].median()"
   ]
  },
  {
   "cell_type": "code",
   "execution_count": 16,
   "id": "f9b5b76e-248d-4c25-bd26-b2c7491e1b87",
   "metadata": {},
   "outputs": [
    {
     "data": {
      "text/plain": [
       "array([[ 13.28,  10.38, 122.8 ],\n",
       "       [ 20.57,  17.77, 132.9 ],\n",
       "       [ 19.69,  21.25, 130.  ],\n",
       "       ...,\n",
       "       [ 16.6 ,  28.08, 108.3 ],\n",
       "       [ 20.6 ,  29.33, 140.1 ],\n",
       "       [  7.76,  18.86,  47.92]])"
      ]
     },
     "execution_count": 16,
     "metadata": {},
     "output_type": "execute_result"
    }
   ],
   "source": [
    "cleaner = SimpleImputer(strategy='median')\n",
    "cleaner.fit_transform(X)"
   ]
  },
  {
   "cell_type": "markdown",
   "id": "0941cb2a-cd01-40ae-bf24-9e3b437eeba7",
   "metadata": {},
   "source": [
    "### Replace blanks with fixed value"
   ]
  },
  {
   "cell_type": "code",
   "execution_count": 17,
   "id": "cf04e5cb-da58-44a3-83a7-2b8644e5654b",
   "metadata": {},
   "outputs": [
    {
     "data": {
      "text/plain": [
       "array([[  0.  ,  10.38, 122.8 ],\n",
       "       [ 20.57,  17.77, 132.9 ],\n",
       "       [ 19.69,  21.25, 130.  ],\n",
       "       ...,\n",
       "       [ 16.6 ,  28.08, 108.3 ],\n",
       "       [ 20.6 ,  29.33, 140.1 ],\n",
       "       [  7.76,   0.  ,  47.92]])"
      ]
     },
     "execution_count": 17,
     "metadata": {},
     "output_type": "execute_result"
    }
   ],
   "source": [
    "cleaner = SimpleImputer(strategy='constant',fill_value=0)\n",
    "cleaner.fit_transform(X)"
   ]
  },
  {
   "cell_type": "markdown",
   "id": "2b976a12-09b2-46ef-9d8e-32a9b0f21850",
   "metadata": {},
   "source": [
    "## Cleaning the categorical features"
   ]
  },
  {
   "cell_type": "code",
   "execution_count": 18,
   "id": "e256de9d-87d5-498e-bf0d-0fa0276a7dd8",
   "metadata": {},
   "outputs": [
    {
     "data": {
      "text/plain": [
       "area error    75\n",
       "dtype: int64"
      ]
     },
     "execution_count": 18,
     "metadata": {},
     "output_type": "execute_result"
    }
   ],
   "source": [
    "X = df[['area error']]\n",
    "X.isnull().sum()"
   ]
  },
  {
   "cell_type": "markdown",
   "id": "39263ec5-5d49-41cf-873c-f0421133d808",
   "metadata": {},
   "source": [
    "### Cleaning using the most probable value"
   ]
  },
  {
   "cell_type": "code",
   "execution_count": 19,
   "id": "abf07626-31d2-43a9-909d-daf568a73b73",
   "metadata": {},
   "outputs": [
    {
     "data": {
      "text/plain": [
       "A    564\n",
       "B      4\n",
       "C      1\n",
       "Name: count, dtype: int64"
      ]
     },
     "execution_count": 19,
     "metadata": {},
     "output_type": "execute_result"
    }
   ],
   "source": [
    "cleaner = SimpleImputer(strategy='most_frequent')\n",
    "pd.DataFrame(cleaner.fit_transform(X)).value_counts()"
   ]
  },
  {
   "cell_type": "markdown",
   "id": "a228e546-1cc4-4c98-8bae-25459840baec",
   "metadata": {},
   "source": [
    "### Cleaning using a new value"
   ]
  },
  {
   "cell_type": "code",
   "execution_count": 20,
   "id": "56757565-9aa4-4f2d-82e2-cbfaf5a4c29a",
   "metadata": {},
   "outputs": [
    {
     "data": {
      "text/plain": [
       "A            489\n",
       "Undefined     75\n",
       "B              4\n",
       "C              1\n",
       "Name: count, dtype: int64"
      ]
     },
     "execution_count": 20,
     "metadata": {},
     "output_type": "execute_result"
    }
   ],
   "source": [
    "cleaner = SimpleImputer(strategy='constant',fill_value='Undefined')\n",
    "pd.DataFrame(cleaner.fit_transform(X)).value_counts()"
   ]
  },
  {
   "cell_type": "markdown",
   "id": "64104271-d2d1-447f-a1d8-97db868bf11d",
   "metadata": {},
   "source": [
    "## KNN blank filling"
   ]
  },
  {
   "cell_type": "code",
   "execution_count": 21,
   "id": "555a1ed9-2761-40be-bd21-e7f91b9da52b",
   "metadata": {},
   "outputs": [
    {
     "data": {
      "text/html": [
       "<div>\n",
       "<style scoped>\n",
       "    .dataframe tbody tr th:only-of-type {\n",
       "        vertical-align: middle;\n",
       "    }\n",
       "\n",
       "    .dataframe tbody tr th {\n",
       "        vertical-align: top;\n",
       "    }\n",
       "\n",
       "    .dataframe thead th {\n",
       "        text-align: right;\n",
       "    }\n",
       "</style>\n",
       "<table border=\"1\" class=\"dataframe\">\n",
       "  <thead>\n",
       "    <tr style=\"text-align: right;\">\n",
       "      <th></th>\n",
       "      <th>mean radius</th>\n",
       "      <th>mean texture</th>\n",
       "      <th>mean perimeter</th>\n",
       "    </tr>\n",
       "  </thead>\n",
       "  <tbody>\n",
       "    <tr>\n",
       "      <th>0</th>\n",
       "      <td>NaN</td>\n",
       "      <td>10.38</td>\n",
       "      <td>122.80</td>\n",
       "    </tr>\n",
       "    <tr>\n",
       "      <th>1</th>\n",
       "      <td>20.57</td>\n",
       "      <td>17.77</td>\n",
       "      <td>132.90</td>\n",
       "    </tr>\n",
       "    <tr>\n",
       "      <th>2</th>\n",
       "      <td>19.69</td>\n",
       "      <td>21.25</td>\n",
       "      <td>130.00</td>\n",
       "    </tr>\n",
       "    <tr>\n",
       "      <th>3</th>\n",
       "      <td>11.42</td>\n",
       "      <td>20.38</td>\n",
       "      <td>77.58</td>\n",
       "    </tr>\n",
       "    <tr>\n",
       "      <th>4</th>\n",
       "      <td>20.29</td>\n",
       "      <td>14.34</td>\n",
       "      <td>NaN</td>\n",
       "    </tr>\n",
       "    <tr>\n",
       "      <th>...</th>\n",
       "      <td>...</td>\n",
       "      <td>...</td>\n",
       "      <td>...</td>\n",
       "    </tr>\n",
       "    <tr>\n",
       "      <th>564</th>\n",
       "      <td>21.56</td>\n",
       "      <td>22.39</td>\n",
       "      <td>142.00</td>\n",
       "    </tr>\n",
       "    <tr>\n",
       "      <th>565</th>\n",
       "      <td>NaN</td>\n",
       "      <td>28.25</td>\n",
       "      <td>131.20</td>\n",
       "    </tr>\n",
       "    <tr>\n",
       "      <th>566</th>\n",
       "      <td>16.60</td>\n",
       "      <td>28.08</td>\n",
       "      <td>108.30</td>\n",
       "    </tr>\n",
       "    <tr>\n",
       "      <th>567</th>\n",
       "      <td>20.60</td>\n",
       "      <td>29.33</td>\n",
       "      <td>140.10</td>\n",
       "    </tr>\n",
       "    <tr>\n",
       "      <th>568</th>\n",
       "      <td>7.76</td>\n",
       "      <td>NaN</td>\n",
       "      <td>47.92</td>\n",
       "    </tr>\n",
       "  </tbody>\n",
       "</table>\n",
       "<p>569 rows × 3 columns</p>\n",
       "</div>"
      ],
      "text/plain": [
       "     mean radius  mean texture  mean perimeter\n",
       "0            NaN         10.38          122.80\n",
       "1          20.57         17.77          132.90\n",
       "2          19.69         21.25          130.00\n",
       "3          11.42         20.38           77.58\n",
       "4          20.29         14.34             NaN\n",
       "..           ...           ...             ...\n",
       "564        21.56         22.39          142.00\n",
       "565          NaN         28.25          131.20\n",
       "566        16.60         28.08          108.30\n",
       "567        20.60         29.33          140.10\n",
       "568         7.76           NaN           47.92\n",
       "\n",
       "[569 rows x 3 columns]"
      ]
     },
     "execution_count": 21,
     "metadata": {},
     "output_type": "execute_result"
    }
   ],
   "source": [
    "X = df.iloc[:,0:3]\n",
    "X"
   ]
  },
  {
   "cell_type": "markdown",
   "id": "ab639a7a-09a9-405a-9162-634d1c49897f",
   "metadata": {},
   "source": [
    "### KNN imputer without weights"
   ]
  },
  {
   "cell_type": "code",
   "execution_count": 22,
   "id": "99a860ed-8fc2-4671-be08-2c18cac75fb3",
   "metadata": {},
   "outputs": [
    {
     "data": {
      "text/plain": [
       "array([[ 15.8968,  10.38  , 122.8   ],\n",
       "       [ 20.57  ,  17.77  , 132.9   ],\n",
       "       [ 19.69  ,  21.25  , 130.    ],\n",
       "       ...,\n",
       "       [ 16.6   ,  28.08  , 108.3   ],\n",
       "       [ 20.6   ,  29.33  , 140.1   ],\n",
       "       [  7.76  ,  19.408 ,  47.92  ]])"
      ]
     },
     "execution_count": 22,
     "metadata": {},
     "output_type": "execute_result"
    }
   ],
   "source": [
    "from sklearn.impute import KNNImputer\n",
    "\n",
    "cleaner = KNNImputer(n_neighbors=10) # weights='uniform'\n",
    "cleaner.fit_transform(X)"
   ]
  },
  {
   "cell_type": "markdown",
   "id": "1bb4961c-2932-41c7-a060-7ec31e2a15ed",
   "metadata": {},
   "source": [
    "### KNN imputer with weights (inverse values of each distance)"
   ]
  },
  {
   "cell_type": "code",
   "execution_count": 23,
   "id": "27e9db73-bde6-40c1-9efe-06581c1f7be4",
   "metadata": {},
   "outputs": [
    {
     "data": {
      "text/plain": [
       "array([[ 15.51148032,  10.38      , 122.8       ],\n",
       "       [ 20.57      ,  17.77      , 132.9       ],\n",
       "       [ 19.69      ,  21.25      , 130.        ],\n",
       "       ...,\n",
       "       [ 16.6       ,  28.08      , 108.3       ],\n",
       "       [ 20.6       ,  29.33      , 140.1       ],\n",
       "       [  7.76      ,  24.25892267,  47.92      ]])"
      ]
     },
     "execution_count": 23,
     "metadata": {},
     "output_type": "execute_result"
    }
   ],
   "source": [
    "cleaner = KNNImputer(n_neighbors=10,weights='distance')\n",
    "cleaner.fit_transform(X)"
   ]
  },
  {
   "cell_type": "markdown",
   "id": "5692307f-79e3-4d82-b356-73a3f2bde6ae",
   "metadata": {},
   "source": [
    "## ColumnTransformer and make_column_selector"
   ]
  },
  {
   "cell_type": "code",
   "execution_count": 24,
   "id": "8183c62d-5903-4d26-aa21-d132473f35b3",
   "metadata": {},
   "outputs": [],
   "source": [
    "from sklearn.compose import ColumnTransformer, make_column_selector"
   ]
  },
  {
   "cell_type": "markdown",
   "id": "330b64d4-dfbb-470a-aab0-3a9b80b90026",
   "metadata": {},
   "source": [
    "### Using ColumnTransformer"
   ]
  },
  {
   "cell_type": "code",
   "execution_count": 25,
   "id": "68849e8a-fc80-4a92-b34f-4af7b0ab8a37",
   "metadata": {},
   "outputs": [
    {
     "data": {
      "text/plain": [
       "array([[14.059547717842323, 10.38, 122.8, ..., 0.1189, 0.0, 'A'],\n",
       "       [20.57, 17.77, 132.9, ..., 0.08436317021276594, 0.0, 'A'],\n",
       "       [19.69, 21.25, 130.0, ..., 0.08758, 0.0, 'A'],\n",
       "       ...,\n",
       "       [16.6, 28.08, 108.3, ..., 0.0782, 0.0, 'A'],\n",
       "       [20.6, 29.33, 140.1, ..., 0.124, 0.0, 'A'],\n",
       "       [7.76, 19.311829268292684, 47.92, ..., 0.07039, 1.0, 'A']],\n",
       "      dtype=object)"
      ]
     },
     "execution_count": 25,
     "metadata": {},
     "output_type": "execute_result"
    }
   ],
   "source": [
    "cleaner = ColumnTransformer([\n",
    "    ('numerical_transformer',SimpleImputer(),numerical_variables),\n",
    "    ('categorical_transformer',SimpleImputer(strategy='most_frequent'),categorical_variables)\n",
    "])\n",
    "cleaner.fit_transform(df)"
   ]
  },
  {
   "cell_type": "markdown",
   "id": "55720a84-75a0-4720-932c-1a42ae345d36",
   "metadata": {},
   "source": [
    "### ,remainder='drop')"
   ]
  },
  {
   "cell_type": "code",
   "execution_count": 26,
   "id": "9b1ec6e5-262c-4b38-92da-eb641ab56d93",
   "metadata": {},
   "outputs": [
    {
     "data": {
      "text/plain": [
       "array([[14.059547717842323, 10.38, 'A'],\n",
       "       [20.57, 17.77, 'A'],\n",
       "       [19.69, 21.25, 'A'],\n",
       "       ...,\n",
       "       [16.6, 28.08, 'A'],\n",
       "       [20.6, 29.33, 'A'],\n",
       "       [7.76, 19.311829268292684, 'A']], dtype=object)"
      ]
     },
     "execution_count": 26,
     "metadata": {},
     "output_type": "execute_result"
    }
   ],
   "source": [
    "cleaner = ColumnTransformer([\n",
    "    ('numerical_transformer',SimpleImputer(),[0,1]),\n",
    "    ('categorical_transformer',SimpleImputer(strategy='most_frequent'),categorical_variables)\n",
    "],remainder='drop')\n",
    "cleaner.fit_transform(df)"
   ]
  },
  {
   "cell_type": "markdown",
   "id": "8c309162-aa7b-46ce-8b0e-3c89640c5c19",
   "metadata": {},
   "source": [
    "### ,remainder='passthrough')"
   ]
  },
  {
   "cell_type": "code",
   "execution_count": 27,
   "id": "314ef49d-a774-4703-9394-0ab42de5c0d8",
   "metadata": {},
   "outputs": [
    {
     "data": {
      "text/plain": [
       "array([[14.059547717842323, 10.38, 'A', ..., 0.4601, 0.1189, 0.0],\n",
       "       [20.57, 17.77, 'A', ..., 0.275, nan, 0.0],\n",
       "       [19.69, 21.25, 'A', ..., 0.3613, 0.08758, 0.0],\n",
       "       ...,\n",
       "       [16.6, 28.08, 'A', ..., 0.2218, 0.0782, 0.0],\n",
       "       [20.6, 29.33, 'A', ..., 0.4087, 0.124, 0.0],\n",
       "       [7.76, 19.311829268292684, 'A', ..., 0.2871, 0.07039, 1.0]],\n",
       "      dtype=object)"
      ]
     },
     "execution_count": 27,
     "metadata": {},
     "output_type": "execute_result"
    }
   ],
   "source": [
    "cleaner = ColumnTransformer([\n",
    "    ('numerical_transformer',SimpleImputer(),[0,1]),\n",
    "    ('categorical_transformer',SimpleImputer(strategy='most_frequent'),categorical_variables)\n",
    "],remainder='passthrough')\n",
    "cleaner.fit_transform(df)"
   ]
  },
  {
   "cell_type": "markdown",
   "id": "4bf9b72b-2ef2-4bb6-ba65-7a69a5560b07",
   "metadata": {},
   "source": [
    "### Using make_column_selector"
   ]
  },
  {
   "cell_type": "code",
   "execution_count": 28,
   "id": "38567e5f-5904-48a6-876a-29d24d437651",
   "metadata": {},
   "outputs": [
    {
     "data": {
      "text/plain": [
       "array([[14.059547717842323, 10.38, 122.8, ..., 0.1189, 0.0, 'A'],\n",
       "       [20.57, 17.77, 132.9, ..., 0.08436317021276594, 0.0, 'A'],\n",
       "       [19.69, 21.25, 130.0, ..., 0.08758, 0.0, 'A'],\n",
       "       ...,\n",
       "       [16.6, 28.08, 108.3, ..., 0.0782, 0.0, 'A'],\n",
       "       [20.6, 29.33, 140.1, ..., 0.124, 0.0, 'A'],\n",
       "       [7.76, 19.311829268292684, 47.92, ..., 0.07039, 1.0, 'A']],\n",
       "      dtype=object)"
      ]
     },
     "execution_count": 28,
     "metadata": {},
     "output_type": "execute_result"
    }
   ],
   "source": [
    "cleaner = ColumnTransformer([\n",
    "    ('numerical_transformer',SimpleImputer(),make_column_selector(dtype_exclude='object')),\n",
    "    ('categorical_transformer',SimpleImputer(strategy='most_frequent'),make_column_selector(dtype_include='object'))\n",
    "]) # ,remainder='drop'\n",
    "cleaner.fit_transform(df)"
   ]
  },
  {
   "cell_type": "markdown",
   "id": "a867dd2b-d771-4f98-a0af-35e911d6bb4f",
   "metadata": {},
   "source": [
    "## Exercise 1\n",
    "\n",
    "* Load sample_dataset.csv\n",
    "* Replace the missings in the categorical variables with \"N\"\n",
    "* Replace the missings in the numerical variables with the mean value"
   ]
  },
  {
   "cell_type": "code",
   "execution_count": 29,
   "id": "2cc41dce-1ffb-46bc-abf2-08426c7e4444",
   "metadata": {},
   "outputs": [
    {
     "data": {
      "text/plain": [
       "array([[14.059547717842323, 10.38, 122.8, ..., 0.1189, 0.0, 'A'],\n",
       "       [20.57, 17.77, 132.9, ..., 0.08436317021276594, 0.0, 'A'],\n",
       "       [19.69, 21.25, 130.0, ..., 0.08758, 0.0, 'A'],\n",
       "       ...,\n",
       "       [16.6, 28.08, 108.3, ..., 0.0782, 0.0, 'A'],\n",
       "       [20.6, 29.33, 140.1, ..., 0.124, 0.0, 'A'],\n",
       "       [7.76, 19.311829268292684, 47.92, ..., 0.07039, 1.0, 'A']],\n",
       "      dtype=object)"
      ]
     },
     "execution_count": 29,
     "metadata": {},
     "output_type": "execute_result"
    }
   ],
   "source": [
    "import pandas as pd\n",
    "from sklearn.compose import ColumnTransformer, make_column_selector\n",
    "from sklearn.impute import SimpleImputer\n",
    "\n",
    "df = pd.read_csv('sample_dataset.csv')\n",
    "cleaner = ColumnTransformer([\n",
    "    ('numerical_transformer',SimpleImputer(strategy='mean'),make_column_selector(dtype_exclude='object')),\n",
    "    ('categorical_transformer',SimpleImputer(strategy='constant',fill_value='N'),make_column_selector(dtype_include='object'))\n",
    "])\n",
    "cleaner.fit_transform(df)"
   ]
  },
  {
   "cell_type": "markdown",
   "id": "b718e8d1-9302-4b02-be83-5fee0b9b5286",
   "metadata": {},
   "source": [
    "## Exercise 2\n",
    "\n",
    "* Load sample_dataset.csv\n",
    "* Replace the missings in the float variables using KNN with 10 neighbors and a distance-based weights\n",
    "* Replace the missings in the categorical variables using the most frequent value"
   ]
  },
  {
   "cell_type": "code",
   "execution_count": 30,
   "id": "9890b2bd-3cd3-4590-a5da-63f18803ddac",
   "metadata": {},
   "outputs": [
    {
     "data": {
      "text/plain": [
       "array([[15.637884267617215, 10.38, 122.8, ..., 0.1189, 'A', 0],\n",
       "       [20.57, 17.77, 132.9, ..., 0.08216467870588635, 'A', 0],\n",
       "       [19.69, 21.25, 130.0, ..., 0.08758, 'A', 0],\n",
       "       ...,\n",
       "       [16.6, 28.08, 108.3, ..., 0.0782, 'A', 0],\n",
       "       [20.6, 29.33, 140.1, ..., 0.124, 'A', 0],\n",
       "       [7.76, 21.692427354277637, 47.92, ..., 0.07039, 'A', 1]],\n",
       "      dtype=object)"
      ]
     },
     "execution_count": 30,
     "metadata": {},
     "output_type": "execute_result"
    }
   ],
   "source": [
    "import pandas as pd\n",
    "from sklearn.compose import ColumnTransformer, make_column_selector\n",
    "from sklearn.impute import SimpleImputer, KNNImputer\n",
    "\n",
    "df = pd.read_csv('sample_dataset.csv')\n",
    "cleaner = ColumnTransformer([\n",
    "    ('float_transformer',KNNImputer(n_neighbors=10,weights='distance'),make_column_selector(dtype_include='float64')),\n",
    "    ('categorical_transformer',SimpleImputer(strategy='most_frequent'),make_column_selector(dtype_include='object'))\n",
    "],remainder='passthrough')\n",
    "cleaner.fit_transform(df)"
   ]
  },
  {
   "cell_type": "markdown",
   "id": "0e87ec07-19d3-43f1-8b31-763ffe00ffdf",
   "metadata": {},
   "source": [
    "# Encoding of the categorical features"
   ]
  },
  {
   "cell_type": "code",
   "execution_count": 31,
   "id": "6356b17d-ee20-4372-9994-720ee56f707a",
   "metadata": {},
   "outputs": [
    {
     "data": {
      "text/plain": [
       "array([['A'],\n",
       "       ['A'],\n",
       "       ['B'],\n",
       "       ['C']], dtype='<U1')"
      ]
     },
     "execution_count": 31,
     "metadata": {},
     "output_type": "execute_result"
    }
   ],
   "source": [
    "import numpy as np\n",
    "from sklearn.preprocessing import OneHotEncoder\n",
    "\n",
    "X = np.array([['A'],['A'],['B'],['C']])\n",
    "X"
   ]
  },
  {
   "cell_type": "markdown",
   "id": "ea8ebf21-dbf9-4d4a-9716-47a7eda36da2",
   "metadata": {},
   "source": [
    "## One-hot encoding (introduces dummy variables)"
   ]
  },
  {
   "cell_type": "code",
   "execution_count": 32,
   "id": "ac795a69-d79a-45a5-bdc1-43991ae4c92b",
   "metadata": {},
   "outputs": [
    {
     "data": {
      "text/plain": [
       "matrix([[1., 0., 0.],\n",
       "        [1., 0., 0.],\n",
       "        [0., 1., 0.],\n",
       "        [0., 0., 1.]])"
      ]
     },
     "execution_count": 32,
     "metadata": {},
     "output_type": "execute_result"
    }
   ],
   "source": [
    "encoder = OneHotEncoder()\n",
    "encoder.fit_transform(X).todense()"
   ]
  },
  {
   "cell_type": "markdown",
   "id": "35d9f1e3-0fca-4700-8f83-bc468fa2d3fb",
   "metadata": {},
   "source": [
    "### Output with dense matrix"
   ]
  },
  {
   "cell_type": "code",
   "execution_count": 33,
   "id": "9b85db45-a076-486f-a474-a3dfa2de4690",
   "metadata": {},
   "outputs": [
    {
     "data": {
      "text/plain": [
       "array([[1., 0., 0.],\n",
       "       [1., 0., 0.],\n",
       "       [0., 1., 0.],\n",
       "       [0., 0., 1.]])"
      ]
     },
     "execution_count": 33,
     "metadata": {},
     "output_type": "execute_result"
    }
   ],
   "source": [
    "encoder = OneHotEncoder(sparse_output=False)\n",
    "encoder.fit_transform(X)"
   ]
  },
  {
   "cell_type": "markdown",
   "id": "ed3d49b6-635e-4d00-ab40-1697dc8d1d9f",
   "metadata": {},
   "source": [
    "### Removing first dummy variable (useful when working with neural model or linear model/regression)"
   ]
  },
  {
   "cell_type": "code",
   "execution_count": 34,
   "id": "38b67acf-5a16-42a0-915b-e64e1241493d",
   "metadata": {},
   "outputs": [
    {
     "data": {
      "text/plain": [
       "array([[0., 0.],\n",
       "       [0., 0.],\n",
       "       [1., 0.],\n",
       "       [0., 1.]])"
      ]
     },
     "execution_count": 34,
     "metadata": {},
     "output_type": "execute_result"
    }
   ],
   "source": [
    "encoder = OneHotEncoder(sparse_output=False,drop='first')\n",
    "encoder.fit_transform(X)"
   ]
  },
  {
   "cell_type": "markdown",
   "id": "1b051b31-ea52-410b-b9d1-f352c9125613",
   "metadata": {},
   "source": [
    "### Removing one dummy variable from binary features"
   ]
  },
  {
   "cell_type": "code",
   "execution_count": 35,
   "id": "a18af8d5-31ef-46a8-9511-883723adeba3",
   "metadata": {},
   "outputs": [
    {
     "data": {
      "text/plain": [
       "array([['A'],\n",
       "       ['A'],\n",
       "       ['A'],\n",
       "       ['B']], dtype='<U1')"
      ]
     },
     "execution_count": 35,
     "metadata": {},
     "output_type": "execute_result"
    }
   ],
   "source": [
    "X = np.array([['A'],['A'],['A'],['B']])\n",
    "X"
   ]
  },
  {
   "cell_type": "code",
   "execution_count": 36,
   "id": "c487588f-2e9f-45aa-bb95-9bc0cfc587c5",
   "metadata": {},
   "outputs": [
    {
     "data": {
      "text/plain": [
       "array([[0.],\n",
       "       [0.],\n",
       "       [0.],\n",
       "       [1.]])"
      ]
     },
     "execution_count": 36,
     "metadata": {},
     "output_type": "execute_result"
    }
   ],
   "source": [
    "encoder = OneHotEncoder(sparse_output=False,drop='if_binary')\n",
    "encoder.fit_transform(X)"
   ]
  },
  {
   "cell_type": "markdown",
   "id": "6c9fcbc2-084a-452a-8263-e2d94489e1b2",
   "metadata": {},
   "source": [
    "### Error handling"
   ]
  },
  {
   "cell_type": "code",
   "execution_count": 37,
   "id": "fca89f57-7fb9-41d2-91b2-8073ec51d48e",
   "metadata": {},
   "outputs": [
    {
     "data": {
      "text/html": [
       "<style>#sk-container-id-1 {color: black;}#sk-container-id-1 pre{padding: 0;}#sk-container-id-1 div.sk-toggleable {background-color: white;}#sk-container-id-1 label.sk-toggleable__label {cursor: pointer;display: block;width: 100%;margin-bottom: 0;padding: 0.3em;box-sizing: border-box;text-align: center;}#sk-container-id-1 label.sk-toggleable__label-arrow:before {content: \"▸\";float: left;margin-right: 0.25em;color: #696969;}#sk-container-id-1 label.sk-toggleable__label-arrow:hover:before {color: black;}#sk-container-id-1 div.sk-estimator:hover label.sk-toggleable__label-arrow:before {color: black;}#sk-container-id-1 div.sk-toggleable__content {max-height: 0;max-width: 0;overflow: hidden;text-align: left;background-color: #f0f8ff;}#sk-container-id-1 div.sk-toggleable__content pre {margin: 0.2em;color: black;border-radius: 0.25em;background-color: #f0f8ff;}#sk-container-id-1 input.sk-toggleable__control:checked~div.sk-toggleable__content {max-height: 200px;max-width: 100%;overflow: auto;}#sk-container-id-1 input.sk-toggleable__control:checked~label.sk-toggleable__label-arrow:before {content: \"▾\";}#sk-container-id-1 div.sk-estimator input.sk-toggleable__control:checked~label.sk-toggleable__label {background-color: #d4ebff;}#sk-container-id-1 div.sk-label input.sk-toggleable__control:checked~label.sk-toggleable__label {background-color: #d4ebff;}#sk-container-id-1 input.sk-hidden--visually {border: 0;clip: rect(1px 1px 1px 1px);clip: rect(1px, 1px, 1px, 1px);height: 1px;margin: -1px;overflow: hidden;padding: 0;position: absolute;width: 1px;}#sk-container-id-1 div.sk-estimator {font-family: monospace;background-color: #f0f8ff;border: 1px dotted black;border-radius: 0.25em;box-sizing: border-box;margin-bottom: 0.5em;}#sk-container-id-1 div.sk-estimator:hover {background-color: #d4ebff;}#sk-container-id-1 div.sk-parallel-item::after {content: \"\";width: 100%;border-bottom: 1px solid gray;flex-grow: 1;}#sk-container-id-1 div.sk-label:hover label.sk-toggleable__label {background-color: #d4ebff;}#sk-container-id-1 div.sk-serial::before {content: \"\";position: absolute;border-left: 1px solid gray;box-sizing: border-box;top: 0;bottom: 0;left: 50%;z-index: 0;}#sk-container-id-1 div.sk-serial {display: flex;flex-direction: column;align-items: center;background-color: white;padding-right: 0.2em;padding-left: 0.2em;position: relative;}#sk-container-id-1 div.sk-item {position: relative;z-index: 1;}#sk-container-id-1 div.sk-parallel {display: flex;align-items: stretch;justify-content: center;background-color: white;position: relative;}#sk-container-id-1 div.sk-item::before, #sk-container-id-1 div.sk-parallel-item::before {content: \"\";position: absolute;border-left: 1px solid gray;box-sizing: border-box;top: 0;bottom: 0;left: 50%;z-index: -1;}#sk-container-id-1 div.sk-parallel-item {display: flex;flex-direction: column;z-index: 1;position: relative;background-color: white;}#sk-container-id-1 div.sk-parallel-item:first-child::after {align-self: flex-end;width: 50%;}#sk-container-id-1 div.sk-parallel-item:last-child::after {align-self: flex-start;width: 50%;}#sk-container-id-1 div.sk-parallel-item:only-child::after {width: 0;}#sk-container-id-1 div.sk-dashed-wrapped {border: 1px dashed gray;margin: 0 0.4em 0.5em 0.4em;box-sizing: border-box;padding-bottom: 0.4em;background-color: white;}#sk-container-id-1 div.sk-label label {font-family: monospace;font-weight: bold;display: inline-block;line-height: 1.2em;}#sk-container-id-1 div.sk-label-container {text-align: center;}#sk-container-id-1 div.sk-container {/* jupyter's `normalize.less` sets `[hidden] { display: none; }` but bootstrap.min.css set `[hidden] { display: none !important; }` so we also need the `!important` here to be able to override the default hidden behavior on the sphinx rendered scikit-learn.org. See: https://github.com/scikit-learn/scikit-learn/issues/21755 */display: inline-block !important;position: relative;}#sk-container-id-1 div.sk-text-repr-fallback {display: none;}</style><div id=\"sk-container-id-1\" class=\"sk-top-container\"><div class=\"sk-text-repr-fallback\"><pre>OneHotEncoder(sparse_output=False)</pre><b>In a Jupyter environment, please rerun this cell to show the HTML representation or trust the notebook. <br />On GitHub, the HTML representation is unable to render, please try loading this page with nbviewer.org.</b></div><div class=\"sk-container\" hidden><div class=\"sk-item\"><div class=\"sk-estimator sk-toggleable\"><input class=\"sk-toggleable__control sk-hidden--visually\" id=\"sk-estimator-id-1\" type=\"checkbox\" checked><label for=\"sk-estimator-id-1\" class=\"sk-toggleable__label sk-toggleable__label-arrow\">OneHotEncoder</label><div class=\"sk-toggleable__content\"><pre>OneHotEncoder(sparse_output=False)</pre></div></div></div></div></div>"
      ],
      "text/plain": [
       "OneHotEncoder(sparse_output=False)"
      ]
     },
     "execution_count": 37,
     "metadata": {},
     "output_type": "execute_result"
    }
   ],
   "source": [
    "encoder = OneHotEncoder(sparse_output=False) # handle_unknown='error'\n",
    "encoder.fit(X)"
   ]
  },
  {
   "cell_type": "code",
   "execution_count": 38,
   "id": "90ecc999-4ab7-4eff-9b35-8cb1a4d7482e",
   "metadata": {},
   "outputs": [
    {
     "data": {
      "text/plain": [
       "array([[1., 0.],\n",
       "       [1., 0.],\n",
       "       [1., 0.],\n",
       "       [0., 1.]])"
      ]
     },
     "execution_count": 38,
     "metadata": {},
     "output_type": "execute_result"
    }
   ],
   "source": [
    "encoder.transform(X)"
   ]
  },
  {
   "cell_type": "code",
   "execution_count": 39,
   "id": "680cb30d-53c7-43f3-9260-bf6280c450e3",
   "metadata": {},
   "outputs": [],
   "source": [
    "Y = np.array([['A'],['A'],['B'],['C']])"
   ]
  },
  {
   "cell_type": "code",
   "execution_count": 40,
   "id": "0d9cf89f-80f9-4c09-9731-48c252999ca6",
   "metadata": {},
   "outputs": [
    {
     "data": {
      "text/plain": [
       "'\\nencoder.transform(Y)\\n\\n---------------------------------------------------------------------------\\nValueError                                Traceback (most recent call last)\\nCell In[39], line 2\\n      1 Y = np.array([[\\'A\\'],[\\'A\\'],[\\'B\\'],[\\'C\\']])\\n----> 2 encoder.transform(Y)\\n\\nFile /Library/Frameworks/Python.framework/Versions/3.8/lib/python3.8/site-packages/sklearn/utils/_set_output.py:157, in _wrap_method_output.<locals>.wrapped(self, X, *args, **kwargs)\\n    155 @wraps(f)\\n    156 def wrapped(self, X, *args, **kwargs):\\n--> 157     data_to_wrap = f(self, X, *args, **kwargs)\\n    158     if isinstance(data_to_wrap, tuple):\\n    159         # only wrap the first output for cross decomposition\\n    160         return_tuple = (\\n    161             _wrap_data_with_container(method, data_to_wrap[0], X, self),\\n    162             *data_to_wrap[1:],\\n    163         )\\n\\nFile /Library/Frameworks/Python.framework/Versions/3.8/lib/python3.8/site-packages/sklearn/preprocessing/_encoders.py:1027, in OneHotEncoder.transform(self, X)\\n   1022 # validation of X happens in _check_X called by _transform\\n   1023 warn_on_unknown = self.drop is not None and self.handle_unknown in {\\n   1024     \"ignore\",\\n   1025     \"infrequent_if_exist\",\\n   1026 }\\n-> 1027 X_int, X_mask = self._transform(\\n   1028     X,\\n   1029     handle_unknown=self.handle_unknown,\\n   1030     force_all_finite=\"allow-nan\",\\n   1031     warn_on_unknown=warn_on_unknown,\\n   1032 )\\n   1034 n_samples, n_features = X_int.shape\\n   1036 if self._drop_idx_after_grouping is not None:\\n\\nFile /Library/Frameworks/Python.framework/Versions/3.8/lib/python3.8/site-packages/sklearn/preprocessing/_encoders.py:200, in _BaseEncoder._transform(self, X, handle_unknown, force_all_finite, warn_on_unknown, ignore_category_indices)\\n    195 if handle_unknown == \"error\":\\n    196     msg = (\\n    197         \"Found unknown categories {0} in column {1}\"\\n    198         \" during transform\".format(diff, i)\\n    199     )\\n--> 200     raise ValueError(msg)\\n    201 else:\\n    202     if warn_on_unknown:\\n\\nValueError: Found unknown categories [\\'C\\'] in column 0 during transform\\n'"
      ]
     },
     "execution_count": 40,
     "metadata": {},
     "output_type": "execute_result"
    }
   ],
   "source": [
    "\"\"\"\n",
    "encoder.transform(Y)\n",
    "\n",
    "---------------------------------------------------------------------------\n",
    "ValueError                                Traceback (most recent call last)\n",
    "Cell In[39], line 2\n",
    "      1 Y = np.array([['A'],['A'],['B'],['C']])\n",
    "----> 2 encoder.transform(Y)\n",
    "\n",
    "File /Library/Frameworks/Python.framework/Versions/3.8/lib/python3.8/site-packages/sklearn/utils/_set_output.py:157, in _wrap_method_output.<locals>.wrapped(self, X, *args, **kwargs)\n",
    "    155 @wraps(f)\n",
    "    156 def wrapped(self, X, *args, **kwargs):\n",
    "--> 157     data_to_wrap = f(self, X, *args, **kwargs)\n",
    "    158     if isinstance(data_to_wrap, tuple):\n",
    "    159         # only wrap the first output for cross decomposition\n",
    "    160         return_tuple = (\n",
    "    161             _wrap_data_with_container(method, data_to_wrap[0], X, self),\n",
    "    162             *data_to_wrap[1:],\n",
    "    163         )\n",
    "\n",
    "File /Library/Frameworks/Python.framework/Versions/3.8/lib/python3.8/site-packages/sklearn/preprocessing/_encoders.py:1027, in OneHotEncoder.transform(self, X)\n",
    "   1022 # validation of X happens in _check_X called by _transform\n",
    "   1023 warn_on_unknown = self.drop is not None and self.handle_unknown in {\n",
    "   1024     \"ignore\",\n",
    "   1025     \"infrequent_if_exist\",\n",
    "   1026 }\n",
    "-> 1027 X_int, X_mask = self._transform(\n",
    "   1028     X,\n",
    "   1029     handle_unknown=self.handle_unknown,\n",
    "   1030     force_all_finite=\"allow-nan\",\n",
    "   1031     warn_on_unknown=warn_on_unknown,\n",
    "   1032 )\n",
    "   1034 n_samples, n_features = X_int.shape\n",
    "   1036 if self._drop_idx_after_grouping is not None:\n",
    "\n",
    "File /Library/Frameworks/Python.framework/Versions/3.8/lib/python3.8/site-packages/sklearn/preprocessing/_encoders.py:200, in _BaseEncoder._transform(self, X, handle_unknown, force_all_finite, warn_on_unknown, ignore_category_indices)\n",
    "    195 if handle_unknown == \"error\":\n",
    "    196     msg = (\n",
    "    197         \"Found unknown categories {0} in column {1}\"\n",
    "    198         \" during transform\".format(diff, i)\n",
    "    199     )\n",
    "--> 200     raise ValueError(msg)\n",
    "    201 else:\n",
    "    202     if warn_on_unknown:\n",
    "\n",
    "ValueError: Found unknown categories ['C'] in column 0 during transform\n",
    "\"\"\""
   ]
  },
  {
   "cell_type": "code",
   "execution_count": 41,
   "id": "530047f6-e138-443d-b720-6921be3c4cc0",
   "metadata": {},
   "outputs": [
    {
     "data": {
      "text/plain": [
       "array([[1., 0.],\n",
       "       [1., 0.],\n",
       "       [1., 0.],\n",
       "       [0., 1.]])"
      ]
     },
     "execution_count": 41,
     "metadata": {},
     "output_type": "execute_result"
    }
   ],
   "source": [
    "encoder = OneHotEncoder(sparse_output=False,handle_unknown='ignore')\n",
    "encoder.fit(X)\n",
    "encoder.transform(X)"
   ]
  },
  {
   "cell_type": "code",
   "execution_count": 42,
   "id": "fda3f45e-49f5-44d1-99e5-feb7d28a2c9a",
   "metadata": {},
   "outputs": [
    {
     "data": {
      "text/plain": [
       "array([[1., 0.],\n",
       "       [1., 0.],\n",
       "       [0., 1.],\n",
       "       [0., 0.]])"
      ]
     },
     "execution_count": 42,
     "metadata": {},
     "output_type": "execute_result"
    }
   ],
   "source": [
    "encoder.transform(Y)"
   ]
  },
  {
   "cell_type": "code",
   "execution_count": 43,
   "id": "35e0321b-463a-4308-8d8c-065741489c54",
   "metadata": {},
   "outputs": [
    {
     "data": {
      "text/plain": [
       "array([[1., 0., 0.],\n",
       "       [1., 0., 0.],\n",
       "       [0., 1., 0.],\n",
       "       [0., 0., 1.]])"
      ]
     },
     "execution_count": 43,
     "metadata": {},
     "output_type": "execute_result"
    }
   ],
   "source": [
    "encoder.fit(Y)\n",
    "encoder.transform(Y)"
   ]
  },
  {
   "cell_type": "markdown",
   "id": "583934d7-68eb-4dd0-ad4f-255591baa471",
   "metadata": {},
   "source": [
    "### Dealing with pairs of categories"
   ]
  },
  {
   "cell_type": "code",
   "execution_count": 44,
   "id": "50f985de-4933-45d1-8881-c44fdfeb17e1",
   "metadata": {},
   "outputs": [
    {
     "data": {
      "text/plain": [
       "array([[1., 0., 0., 0., 1., 0., 0.],\n",
       "       [0., 1., 0., 0., 0., 1., 0.],\n",
       "       [0., 0., 1., 0., 0., 0., 1.]])"
      ]
     },
     "execution_count": 44,
     "metadata": {},
     "output_type": "execute_result"
    }
   ],
   "source": [
    "X = [['A','X'],['B','Y'],['C','Z']]\n",
    "encoder = OneHotEncoder(sparse_output=False,categories=[['A','B','C','D'],['X','Y','Z']])\n",
    "encoder.fit_transform(X)"
   ]
  },
  {
   "cell_type": "code",
   "execution_count": 45,
   "id": "4004833d-b5bd-4e95-9bd2-651dd3ef1252",
   "metadata": {},
   "outputs": [
    {
     "data": {
      "text/plain": [
       "array([[0., 0., 0., 1., 0., 0., 1.]])"
      ]
     },
     "execution_count": 45,
     "metadata": {},
     "output_type": "execute_result"
    }
   ],
   "source": [
    "Y = [['D','Z']]\n",
    "encoder.transform(Y)"
   ]
  },
  {
   "cell_type": "markdown",
   "id": "ff69cb63-58fa-4e47-8501-a230c7f90bf6",
   "metadata": {},
   "source": [
    "## Ordinal encoding (no dummy variables / no dimensionality change)"
   ]
  },
  {
   "cell_type": "code",
   "execution_count": 46,
   "id": "0c19ae37-6d4f-486e-b7b6-42d6422c9cd0",
   "metadata": {},
   "outputs": [
    {
     "data": {
      "text/plain": [
       "array([[0.],\n",
       "       [1.],\n",
       "       [1.],\n",
       "       [2.]])"
      ]
     },
     "execution_count": 46,
     "metadata": {},
     "output_type": "execute_result"
    }
   ],
   "source": [
    "from sklearn.preprocessing import OrdinalEncoder\n",
    "X = [['High'],['Low'],['Low'],['Medium']]\n",
    "encoder = OrdinalEncoder()\n",
    "encoder.fit_transform(X)"
   ]
  },
  {
   "cell_type": "markdown",
   "id": "ea4a61e7-6ff4-435d-9ee9-8e90f94b471b",
   "metadata": {},
   "source": [
    "### We want Low -> 0 / Medium -> 1 / High -> 2"
   ]
  },
  {
   "cell_type": "code",
   "execution_count": 47,
   "id": "92139643-26d6-4cc3-a556-68f823679a6f",
   "metadata": {},
   "outputs": [
    {
     "data": {
      "text/plain": [
       "array([[2.],\n",
       "       [0.],\n",
       "       [0.],\n",
       "       [1.]])"
      ]
     },
     "execution_count": 47,
     "metadata": {},
     "output_type": "execute_result"
    }
   ],
   "source": [
    "encoder = OrdinalEncoder(categories=[['Low','Medium','High']])\n",
    "encoder.fit_transform(X)"
   ]
  },
  {
   "cell_type": "code",
   "execution_count": 48,
   "id": "a538f22b-4311-4c82-9abb-1fbab3f5fe1e",
   "metadata": {},
   "outputs": [
    {
     "data": {
      "text/plain": [
       "array([[2., 0.],\n",
       "       [0., 2.],\n",
       "       [0., 1.],\n",
       "       [1., 2.]])"
      ]
     },
     "execution_count": 48,
     "metadata": {},
     "output_type": "execute_result"
    }
   ],
   "source": [
    "X = [['High','A'],['Low','C'],['Low','B'],['Medium','C']]\n",
    "encoder = OrdinalEncoder(categories=[['Low','Medium','High'],['A','B','C']])\n",
    "encoder.fit_transform(X)"
   ]
  },
  {
   "cell_type": "code",
   "execution_count": 49,
   "id": "2d88b80e-88a6-4725-8719-60c839dd58ec",
   "metadata": {},
   "outputs": [
    {
     "data": {
      "text/plain": [
       "array([[0.],\n",
       "       [1.],\n",
       "       [2.],\n",
       "       [3.]])"
      ]
     },
     "execution_count": 49,
     "metadata": {},
     "output_type": "execute_result"
    }
   ],
   "source": [
    "X = [['Under 18'],['18-25'],['25-30'],['Over 30']]\n",
    "encoder = OrdinalEncoder(categories=[['Under 18','18-25','25-30','Over 30']])\n",
    "encoder.fit_transform(X)"
   ]
  },
  {
   "cell_type": "markdown",
   "id": "4ca8ddb8-dbf6-42db-ae68-b4d6fa41e663",
   "metadata": {},
   "source": [
    "## Label encoding of the target variable (used only for target variables not feature variables to get integer labels (no order unlike ordinal encoding))"
   ]
  },
  {
   "cell_type": "code",
   "execution_count": 50,
   "id": "3d9af6d7-61a9-4b50-a467-40fb122684fb",
   "metadata": {},
   "outputs": [
    {
     "data": {
      "text/plain": [
       "array([0, 1, 1, 2, 3])"
      ]
     },
     "execution_count": 50,
     "metadata": {},
     "output_type": "execute_result"
    }
   ],
   "source": [
    "from sklearn.preprocessing import LabelEncoder\n",
    "\n",
    "Y = ['A','B','B','C','D']\n",
    "encoder = LabelEncoder()\n",
    "encoder.fit_transform(Y)"
   ]
  },
  {
   "cell_type": "code",
   "execution_count": 51,
   "id": "4e049924-ea4e-4d26-93df-7292f5c7d2a4",
   "metadata": {},
   "outputs": [
    {
     "data": {
      "text/plain": [
       "array(['A', 'B', 'B', 'C', 'D'], dtype='<U1')"
      ]
     },
     "execution_count": 51,
     "metadata": {},
     "output_type": "execute_result"
    }
   ],
   "source": [
    "encoder.inverse_transform(encoder.fit_transform(Y))"
   ]
  },
  {
   "cell_type": "markdown",
   "id": "a2c33a50-0d1e-4118-82f0-2d5400087afe",
   "metadata": {},
   "source": [
    "## Exercise 1\n",
    "* Use the dataset\n",
    "  X = [['X','High'],['Y','Low'],['Z','Medium'],['X','Low']]\n",
    "* Apply One-hot encoding to all variables\n",
    "* Apply One-hot encoding to the first column and ordinal encoding to the second column following the rank Low, Medium, High"
   ]
  },
  {
   "cell_type": "code",
   "execution_count": 52,
   "id": "6c92f663-4a12-4844-865f-b0927b4b4d14",
   "metadata": {},
   "outputs": [
    {
     "data": {
      "text/plain": [
       "array([[1., 0., 0., 1., 0., 0.],\n",
       "       [0., 1., 0., 0., 1., 0.],\n",
       "       [0., 0., 1., 0., 0., 1.],\n",
       "       [1., 0., 0., 0., 1., 0.]])"
      ]
     },
     "execution_count": 52,
     "metadata": {},
     "output_type": "execute_result"
    }
   ],
   "source": [
    "from sklearn.preprocessing import OneHotEncoder, OrdinalEncoder\n",
    "from sklearn.compose import ColumnTransformer\n",
    "\n",
    "X = [['X','High'],['Y','Low'],['Z','Medium'],['X','Low']]\n",
    "encoder = ColumnTransformer([\n",
    "    ('all_variables',OneHotEncoder(),[0,1])\n",
    "])\n",
    "encoder.fit_transform(X)"
   ]
  },
  {
   "cell_type": "code",
   "execution_count": 53,
   "id": "4c28fcd0-02aa-4907-b535-5b79d94d71a1",
   "metadata": {},
   "outputs": [
    {
     "data": {
      "text/plain": [
       "array([[1., 0., 0., 2.],\n",
       "       [0., 1., 0., 0.],\n",
       "       [0., 0., 1., 1.],\n",
       "       [1., 0., 0., 0.]])"
      ]
     },
     "execution_count": 53,
     "metadata": {},
     "output_type": "execute_result"
    }
   ],
   "source": [
    "encoder = ColumnTransformer([\n",
    "    ('first_column',OneHotEncoder(),[0]),\n",
    "    ('second_column',OrdinalEncoder(categories=[['Low','Medium','High']]),[1])\n",
    "])\n",
    "encoder.fit_transform(X)"
   ]
  },
  {
   "cell_type": "markdown",
   "id": "0ac8d28b-e5dd-4800-94fe-95425e4a4810",
   "metadata": {},
   "source": [
    "## Exercise 2\n",
    "* Use the dataset\n",
    "  X = [['X','High'],['Y','Low'],['Z','Medium'],['X','Low']]\n",
    "* Apply One-hot encoding to the first variable and ordinal encoding to the second variable.\n",
    "  - The first variable must be encoded considering this set of values: X, Y, Z, W.\n",
    "  - The second variable must be encoded considering this set of ranked values: Low, Medium, High, Very High\n",
    "* Consider the dataset:\n",
    "  Y = [['W','Very High']]\n",
    "* Transform this dataset according to the fitted encoder"
   ]
  },
  {
   "cell_type": "code",
   "execution_count": 54,
   "id": "05fc6e5b-7ae4-41da-85fb-0c7a2d1b91ad",
   "metadata": {},
   "outputs": [
    {
     "data": {
      "text/plain": [
       "array([[1., 0., 0., 0., 2.],\n",
       "       [0., 1., 0., 0., 0.],\n",
       "       [0., 0., 1., 0., 1.],\n",
       "       [1., 0., 0., 0., 0.]])"
      ]
     },
     "execution_count": 54,
     "metadata": {},
     "output_type": "execute_result"
    }
   ],
   "source": [
    "from sklearn.preprocessing import OneHotEncoder, OrdinalEncoder\n",
    "from sklearn.compose import ColumnTransformer\n",
    "\n",
    "X = [['X','High'],['Y','Low'],['Z','Medium'],['X','Low']]\n",
    "encoder = ColumnTransformer([\n",
    "    ('first_variable',OneHotEncoder(categories=[['X','Y','Z','W']]),[0]),\n",
    "    ('second_variable',OrdinalEncoder(categories=[['Low','Medium','High','Very High']]),[1])\n",
    "])\n",
    "encoder.fit_transform(X)"
   ]
  },
  {
   "cell_type": "code",
   "execution_count": 55,
   "id": "ed163867-c76c-403b-a972-08adc7e64339",
   "metadata": {},
   "outputs": [
    {
     "data": {
      "text/plain": [
       "array([[0., 0., 0., 1., 3.]])"
      ]
     },
     "execution_count": 55,
     "metadata": {},
     "output_type": "execute_result"
    }
   ],
   "source": [
    "Y = [['W','Very High']]\n",
    "encoder.transform(Y)"
   ]
  }
 ],
 "metadata": {
  "kernelspec": {
   "display_name": "Python 3 (ipykernel)",
   "language": "python",
   "name": "python3"
  },
  "language_info": {
   "codemirror_mode": {
    "name": "ipython",
    "version": 3
   },
   "file_extension": ".py",
   "mimetype": "text/x-python",
   "name": "python",
   "nbconvert_exporter": "python",
   "pygments_lexer": "ipython3",
   "version": "3.8.10"
  }
 },
 "nbformat": 4,
 "nbformat_minor": 5
}
