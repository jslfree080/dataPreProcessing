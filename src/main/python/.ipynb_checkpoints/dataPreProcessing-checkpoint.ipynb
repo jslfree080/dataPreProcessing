{
 "cells": [
  {
   "cell_type": "code",
   "execution_count": 1,
   "id": "c55d6d68-277c-40c4-a134-23bba59a2ee4",
   "metadata": {},
   "outputs": [
    {
     "data": {
      "text/plain": [
       "'\\n!pip install -U scikit-learn\\n!pip install -U imbalanced-learn\\n!pip install notebook\\n!pip install pandas\\n!pip install numpy\\n'"
      ]
     },
     "execution_count": 1,
     "metadata": {},
     "output_type": "execute_result"
    }
   ],
   "source": [
    "\"\"\"\n",
    "!pip install -U scikit-learn\n",
    "!pip install -U imbalanced-learn\n",
    "!pip install notebook\n",
    "!pip install pandas\n",
    "!pip install numpy\n",
    "\"\"\""
   ]
  },
  {
   "cell_type": "markdown",
   "id": "3ed898c3-126b-4cfc-b1dc-3eb4dea07242",
   "metadata": {},
   "source": [
    "# Data cleaning"
   ]
  },
  {
   "cell_type": "code",
   "execution_count": 2,
   "id": "3a9e2af7-3608-4083-b97c-171801cef366",
   "metadata": {},
   "outputs": [
    {
     "data": {
      "text/html": [
       "<div>\n",
       "<style scoped>\n",
       "    .dataframe tbody tr th:only-of-type {\n",
       "        vertical-align: middle;\n",
       "    }\n",
       "\n",
       "    .dataframe tbody tr th {\n",
       "        vertical-align: top;\n",
       "    }\n",
       "\n",
       "    .dataframe thead th {\n",
       "        text-align: right;\n",
       "    }\n",
       "</style>\n",
       "<table border=\"1\" class=\"dataframe\">\n",
       "  <thead>\n",
       "    <tr style=\"text-align: right;\">\n",
       "      <th></th>\n",
       "      <th>mean radius</th>\n",
       "      <th>mean texture</th>\n",
       "      <th>mean perimeter</th>\n",
       "      <th>mean area</th>\n",
       "      <th>mean smoothness</th>\n",
       "      <th>mean compactness</th>\n",
       "      <th>mean concavity</th>\n",
       "      <th>mean concave points</th>\n",
       "      <th>mean symmetry</th>\n",
       "      <th>mean fractal dimension</th>\n",
       "      <th>...</th>\n",
       "      <th>worst texture</th>\n",
       "      <th>worst perimeter</th>\n",
       "      <th>worst area</th>\n",
       "      <th>worst smoothness</th>\n",
       "      <th>worst compactness</th>\n",
       "      <th>worst concavity</th>\n",
       "      <th>worst concave points</th>\n",
       "      <th>worst symmetry</th>\n",
       "      <th>worst fractal dimension</th>\n",
       "      <th>target</th>\n",
       "    </tr>\n",
       "  </thead>\n",
       "  <tbody>\n",
       "    <tr>\n",
       "      <th>0</th>\n",
       "      <td>NaN</td>\n",
       "      <td>10.38</td>\n",
       "      <td>122.80</td>\n",
       "      <td>1001.0</td>\n",
       "      <td>0.11840</td>\n",
       "      <td>0.27760</td>\n",
       "      <td>0.3001</td>\n",
       "      <td>0.14710</td>\n",
       "      <td>0.2419</td>\n",
       "      <td>0.07871</td>\n",
       "      <td>...</td>\n",
       "      <td>17.33</td>\n",
       "      <td>NaN</td>\n",
       "      <td>2019.0</td>\n",
       "      <td>0.16220</td>\n",
       "      <td>0.6656</td>\n",
       "      <td>0.7119</td>\n",
       "      <td>0.2654</td>\n",
       "      <td>0.4601</td>\n",
       "      <td>0.11890</td>\n",
       "      <td>0</td>\n",
       "    </tr>\n",
       "    <tr>\n",
       "      <th>1</th>\n",
       "      <td>20.57</td>\n",
       "      <td>17.77</td>\n",
       "      <td>132.90</td>\n",
       "      <td>1326.0</td>\n",
       "      <td>NaN</td>\n",
       "      <td>NaN</td>\n",
       "      <td>0.0869</td>\n",
       "      <td>0.07017</td>\n",
       "      <td>NaN</td>\n",
       "      <td>0.05667</td>\n",
       "      <td>...</td>\n",
       "      <td>23.41</td>\n",
       "      <td>158.80</td>\n",
       "      <td>1956.0</td>\n",
       "      <td>0.12380</td>\n",
       "      <td>0.1866</td>\n",
       "      <td>0.2416</td>\n",
       "      <td>0.1860</td>\n",
       "      <td>0.2750</td>\n",
       "      <td>NaN</td>\n",
       "      <td>0</td>\n",
       "    </tr>\n",
       "    <tr>\n",
       "      <th>2</th>\n",
       "      <td>19.69</td>\n",
       "      <td>21.25</td>\n",
       "      <td>130.00</td>\n",
       "      <td>1203.0</td>\n",
       "      <td>0.10960</td>\n",
       "      <td>0.15990</td>\n",
       "      <td>NaN</td>\n",
       "      <td>NaN</td>\n",
       "      <td>NaN</td>\n",
       "      <td>0.05999</td>\n",
       "      <td>...</td>\n",
       "      <td>25.53</td>\n",
       "      <td>NaN</td>\n",
       "      <td>1709.0</td>\n",
       "      <td>0.14440</td>\n",
       "      <td>0.4245</td>\n",
       "      <td>0.4504</td>\n",
       "      <td>0.2430</td>\n",
       "      <td>0.3613</td>\n",
       "      <td>0.08758</td>\n",
       "      <td>0</td>\n",
       "    </tr>\n",
       "    <tr>\n",
       "      <th>3</th>\n",
       "      <td>11.42</td>\n",
       "      <td>20.38</td>\n",
       "      <td>77.58</td>\n",
       "      <td>386.1</td>\n",
       "      <td>0.14250</td>\n",
       "      <td>0.28390</td>\n",
       "      <td>0.2414</td>\n",
       "      <td>NaN</td>\n",
       "      <td>0.2597</td>\n",
       "      <td>0.09744</td>\n",
       "      <td>...</td>\n",
       "      <td>26.50</td>\n",
       "      <td>NaN</td>\n",
       "      <td>567.7</td>\n",
       "      <td>0.20980</td>\n",
       "      <td>0.8663</td>\n",
       "      <td>0.6869</td>\n",
       "      <td>0.2575</td>\n",
       "      <td>0.6638</td>\n",
       "      <td>0.17300</td>\n",
       "      <td>0</td>\n",
       "    </tr>\n",
       "    <tr>\n",
       "      <th>4</th>\n",
       "      <td>20.29</td>\n",
       "      <td>14.34</td>\n",
       "      <td>NaN</td>\n",
       "      <td>NaN</td>\n",
       "      <td>NaN</td>\n",
       "      <td>0.13280</td>\n",
       "      <td>0.1980</td>\n",
       "      <td>NaN</td>\n",
       "      <td>0.1809</td>\n",
       "      <td>NaN</td>\n",
       "      <td>...</td>\n",
       "      <td>16.67</td>\n",
       "      <td>152.20</td>\n",
       "      <td>1575.0</td>\n",
       "      <td>0.13740</td>\n",
       "      <td>NaN</td>\n",
       "      <td>0.4000</td>\n",
       "      <td>0.1625</td>\n",
       "      <td>0.2364</td>\n",
       "      <td>0.07678</td>\n",
       "      <td>0</td>\n",
       "    </tr>\n",
       "    <tr>\n",
       "      <th>...</th>\n",
       "      <td>...</td>\n",
       "      <td>...</td>\n",
       "      <td>...</td>\n",
       "      <td>...</td>\n",
       "      <td>...</td>\n",
       "      <td>...</td>\n",
       "      <td>...</td>\n",
       "      <td>...</td>\n",
       "      <td>...</td>\n",
       "      <td>...</td>\n",
       "      <td>...</td>\n",
       "      <td>...</td>\n",
       "      <td>...</td>\n",
       "      <td>...</td>\n",
       "      <td>...</td>\n",
       "      <td>...</td>\n",
       "      <td>...</td>\n",
       "      <td>...</td>\n",
       "      <td>...</td>\n",
       "      <td>...</td>\n",
       "      <td>...</td>\n",
       "    </tr>\n",
       "    <tr>\n",
       "      <th>564</th>\n",
       "      <td>21.56</td>\n",
       "      <td>22.39</td>\n",
       "      <td>142.00</td>\n",
       "      <td>1479.0</td>\n",
       "      <td>0.11100</td>\n",
       "      <td>NaN</td>\n",
       "      <td>0.2439</td>\n",
       "      <td>0.13890</td>\n",
       "      <td>0.1726</td>\n",
       "      <td>0.05623</td>\n",
       "      <td>...</td>\n",
       "      <td>26.40</td>\n",
       "      <td>166.10</td>\n",
       "      <td>2027.0</td>\n",
       "      <td>0.14100</td>\n",
       "      <td>0.2113</td>\n",
       "      <td>0.4107</td>\n",
       "      <td>0.2216</td>\n",
       "      <td>0.2060</td>\n",
       "      <td>0.07115</td>\n",
       "      <td>0</td>\n",
       "    </tr>\n",
       "    <tr>\n",
       "      <th>565</th>\n",
       "      <td>NaN</td>\n",
       "      <td>28.25</td>\n",
       "      <td>131.20</td>\n",
       "      <td>1261.0</td>\n",
       "      <td>0.09780</td>\n",
       "      <td>0.10340</td>\n",
       "      <td>0.1440</td>\n",
       "      <td>0.09791</td>\n",
       "      <td>0.1752</td>\n",
       "      <td>NaN</td>\n",
       "      <td>...</td>\n",
       "      <td>38.25</td>\n",
       "      <td>155.00</td>\n",
       "      <td>1731.0</td>\n",
       "      <td>0.11660</td>\n",
       "      <td>0.1922</td>\n",
       "      <td>0.3215</td>\n",
       "      <td>0.1628</td>\n",
       "      <td>0.2572</td>\n",
       "      <td>NaN</td>\n",
       "      <td>0</td>\n",
       "    </tr>\n",
       "    <tr>\n",
       "      <th>566</th>\n",
       "      <td>16.60</td>\n",
       "      <td>28.08</td>\n",
       "      <td>108.30</td>\n",
       "      <td>NaN</td>\n",
       "      <td>0.08455</td>\n",
       "      <td>0.10230</td>\n",
       "      <td>NaN</td>\n",
       "      <td>0.05302</td>\n",
       "      <td>0.1590</td>\n",
       "      <td>0.05648</td>\n",
       "      <td>...</td>\n",
       "      <td>34.12</td>\n",
       "      <td>126.70</td>\n",
       "      <td>1124.0</td>\n",
       "      <td>0.11390</td>\n",
       "      <td>NaN</td>\n",
       "      <td>0.3403</td>\n",
       "      <td>0.1418</td>\n",
       "      <td>0.2218</td>\n",
       "      <td>0.07820</td>\n",
       "      <td>0</td>\n",
       "    </tr>\n",
       "    <tr>\n",
       "      <th>567</th>\n",
       "      <td>20.60</td>\n",
       "      <td>29.33</td>\n",
       "      <td>140.10</td>\n",
       "      <td>1265.0</td>\n",
       "      <td>0.11780</td>\n",
       "      <td>0.27700</td>\n",
       "      <td>0.3514</td>\n",
       "      <td>0.15200</td>\n",
       "      <td>0.2397</td>\n",
       "      <td>NaN</td>\n",
       "      <td>...</td>\n",
       "      <td>NaN</td>\n",
       "      <td>184.60</td>\n",
       "      <td>1821.0</td>\n",
       "      <td>0.16500</td>\n",
       "      <td>0.8681</td>\n",
       "      <td>0.9387</td>\n",
       "      <td>0.2650</td>\n",
       "      <td>0.4087</td>\n",
       "      <td>0.12400</td>\n",
       "      <td>0</td>\n",
       "    </tr>\n",
       "    <tr>\n",
       "      <th>568</th>\n",
       "      <td>7.76</td>\n",
       "      <td>NaN</td>\n",
       "      <td>47.92</td>\n",
       "      <td>181.0</td>\n",
       "      <td>0.05263</td>\n",
       "      <td>0.04362</td>\n",
       "      <td>0.0000</td>\n",
       "      <td>0.00000</td>\n",
       "      <td>0.1587</td>\n",
       "      <td>0.05884</td>\n",
       "      <td>...</td>\n",
       "      <td>30.37</td>\n",
       "      <td>59.16</td>\n",
       "      <td>NaN</td>\n",
       "      <td>0.08996</td>\n",
       "      <td>NaN</td>\n",
       "      <td>0.0000</td>\n",
       "      <td>0.0000</td>\n",
       "      <td>0.2871</td>\n",
       "      <td>0.07039</td>\n",
       "      <td>1</td>\n",
       "    </tr>\n",
       "  </tbody>\n",
       "</table>\n",
       "<p>569 rows × 31 columns</p>\n",
       "</div>"
      ],
      "text/plain": [
       "     mean radius  mean texture  mean perimeter  mean area  mean smoothness  \\\n",
       "0            NaN         10.38          122.80     1001.0          0.11840   \n",
       "1          20.57         17.77          132.90     1326.0              NaN   \n",
       "2          19.69         21.25          130.00     1203.0          0.10960   \n",
       "3          11.42         20.38           77.58      386.1          0.14250   \n",
       "4          20.29         14.34             NaN        NaN              NaN   \n",
       "..           ...           ...             ...        ...              ...   \n",
       "564        21.56         22.39          142.00     1479.0          0.11100   \n",
       "565          NaN         28.25          131.20     1261.0          0.09780   \n",
       "566        16.60         28.08          108.30        NaN          0.08455   \n",
       "567        20.60         29.33          140.10     1265.0          0.11780   \n",
       "568         7.76           NaN           47.92      181.0          0.05263   \n",
       "\n",
       "     mean compactness  mean concavity  mean concave points  mean symmetry  \\\n",
       "0             0.27760          0.3001              0.14710         0.2419   \n",
       "1                 NaN          0.0869              0.07017            NaN   \n",
       "2             0.15990             NaN                  NaN            NaN   \n",
       "3             0.28390          0.2414                  NaN         0.2597   \n",
       "4             0.13280          0.1980                  NaN         0.1809   \n",
       "..                ...             ...                  ...            ...   \n",
       "564               NaN          0.2439              0.13890         0.1726   \n",
       "565           0.10340          0.1440              0.09791         0.1752   \n",
       "566           0.10230             NaN              0.05302         0.1590   \n",
       "567           0.27700          0.3514              0.15200         0.2397   \n",
       "568           0.04362          0.0000              0.00000         0.1587   \n",
       "\n",
       "     mean fractal dimension  ...  worst texture  worst perimeter  worst area  \\\n",
       "0                   0.07871  ...          17.33              NaN      2019.0   \n",
       "1                   0.05667  ...          23.41           158.80      1956.0   \n",
       "2                   0.05999  ...          25.53              NaN      1709.0   \n",
       "3                   0.09744  ...          26.50              NaN       567.7   \n",
       "4                       NaN  ...          16.67           152.20      1575.0   \n",
       "..                      ...  ...            ...              ...         ...   \n",
       "564                 0.05623  ...          26.40           166.10      2027.0   \n",
       "565                     NaN  ...          38.25           155.00      1731.0   \n",
       "566                 0.05648  ...          34.12           126.70      1124.0   \n",
       "567                     NaN  ...            NaN           184.60      1821.0   \n",
       "568                 0.05884  ...          30.37            59.16         NaN   \n",
       "\n",
       "    worst smoothness  worst compactness  worst concavity  \\\n",
       "0            0.16220             0.6656           0.7119   \n",
       "1            0.12380             0.1866           0.2416   \n",
       "2            0.14440             0.4245           0.4504   \n",
       "3            0.20980             0.8663           0.6869   \n",
       "4            0.13740                NaN           0.4000   \n",
       "..               ...                ...              ...   \n",
       "564          0.14100             0.2113           0.4107   \n",
       "565          0.11660             0.1922           0.3215   \n",
       "566          0.11390                NaN           0.3403   \n",
       "567          0.16500             0.8681           0.9387   \n",
       "568          0.08996                NaN           0.0000   \n",
       "\n",
       "     worst concave points  worst symmetry  worst fractal dimension  target  \n",
       "0                  0.2654          0.4601                  0.11890       0  \n",
       "1                  0.1860          0.2750                      NaN       0  \n",
       "2                  0.2430          0.3613                  0.08758       0  \n",
       "3                  0.2575          0.6638                  0.17300       0  \n",
       "4                  0.1625          0.2364                  0.07678       0  \n",
       "..                    ...             ...                      ...     ...  \n",
       "564                0.2216          0.2060                  0.07115       0  \n",
       "565                0.1628          0.2572                      NaN       0  \n",
       "566                0.1418          0.2218                  0.07820       0  \n",
       "567                0.2650          0.4087                  0.12400       0  \n",
       "568                0.0000          0.2871                  0.07039       1  \n",
       "\n",
       "[569 rows x 31 columns]"
      ]
     },
     "execution_count": 2,
     "metadata": {},
     "output_type": "execute_result"
    }
   ],
   "source": [
    "import pandas as pd\n",
    "\n",
    "df = pd.read_csv('sample_dataset.csv')\n",
    "df"
   ]
  },
  {
   "cell_type": "code",
   "execution_count": 3,
   "id": "ea437a7c-5a33-4b3c-b126-75aeb959a366",
   "metadata": {},
   "outputs": [
    {
     "data": {
      "text/plain": [
       "mean radius                float64\n",
       "mean texture               float64\n",
       "mean perimeter             float64\n",
       "mean area                  float64\n",
       "mean smoothness            float64\n",
       "mean compactness           float64\n",
       "mean concavity             float64\n",
       "mean concave points        float64\n",
       "mean symmetry              float64\n",
       "mean fractal dimension     float64\n",
       "radius error               float64\n",
       "texture error              float64\n",
       "perimeter error            float64\n",
       "area error                  object\n",
       "smoothness error           float64\n",
       "compactness error          float64\n",
       "concavity error            float64\n",
       "concave points error       float64\n",
       "symmetry error             float64\n",
       "fractal dimension error    float64\n",
       "worst radius               float64\n",
       "worst texture              float64\n",
       "worst perimeter            float64\n",
       "worst area                 float64\n",
       "worst smoothness           float64\n",
       "worst compactness          float64\n",
       "worst concavity            float64\n",
       "worst concave points       float64\n",
       "worst symmetry             float64\n",
       "worst fractal dimension    float64\n",
       "target                       int64\n",
       "dtype: object"
      ]
     },
     "execution_count": 3,
     "metadata": {},
     "output_type": "execute_result"
    }
   ],
   "source": [
    "df.dtypes"
   ]
  },
  {
   "cell_type": "markdown",
   "id": "712974c8-8f29-4ba6-b5ea-86c77a896218",
   "metadata": {},
   "source": [
    "## Selecting numerical and categorical variables"
   ]
  },
  {
   "cell_type": "code",
   "execution_count": 4,
   "id": "1248914a-0b4c-4608-b767-ff19b5c6c144",
   "metadata": {},
   "outputs": [],
   "source": [
    "numerical_variables = df.select_dtypes(exclude=['object','category','bool']).columns\n",
    "categorical_variables = df.select_dtypes(include=['object','category','bool']).columns"
   ]
  },
  {
   "cell_type": "code",
   "execution_count": 5,
   "id": "5e239939-7b2b-4f50-9d6b-41416cc3699a",
   "metadata": {},
   "outputs": [
    {
     "data": {
      "text/plain": [
       "Index(['mean radius', 'mean texture', 'mean perimeter', 'mean area',\n",
       "       'mean smoothness', 'mean compactness', 'mean concavity',\n",
       "       'mean concave points', 'mean symmetry', 'mean fractal dimension',\n",
       "       'radius error', 'texture error', 'perimeter error', 'smoothness error',\n",
       "       'compactness error', 'concavity error', 'concave points error',\n",
       "       'symmetry error', 'fractal dimension error', 'worst radius',\n",
       "       'worst texture', 'worst perimeter', 'worst area', 'worst smoothness',\n",
       "       'worst compactness', 'worst concavity', 'worst concave points',\n",
       "       'worst symmetry', 'worst fractal dimension', 'target'],\n",
       "      dtype='object')"
      ]
     },
     "execution_count": 5,
     "metadata": {},
     "output_type": "execute_result"
    }
   ],
   "source": [
    "numerical_variables"
   ]
  },
  {
   "cell_type": "code",
   "execution_count": 6,
   "id": "46f3c485-d16a-4465-8dd7-737008399b9c",
   "metadata": {},
   "outputs": [
    {
     "data": {
      "text/plain": [
       "Index(['area error'], dtype='object')"
      ]
     },
     "execution_count": 6,
     "metadata": {},
     "output_type": "execute_result"
    }
   ],
   "source": [
    "categorical_variables"
   ]
  },
  {
   "cell_type": "code",
   "execution_count": 7,
   "id": "e9297d39-01e1-4e66-af7f-fc62d7fee9e8",
   "metadata": {},
   "outputs": [
    {
     "data": {
      "text/plain": [
       "area error\n",
       "A    489\n",
       "B      4\n",
       "C      1\n",
       "Name: count, dtype: int64"
      ]
     },
     "execution_count": 7,
     "metadata": {},
     "output_type": "execute_result"
    }
   ],
   "source": [
    "df['area error'].value_counts()"
   ]
  },
  {
   "cell_type": "markdown",
   "id": "9b1a494e-30e6-44b3-afa6-63c151e0e85e",
   "metadata": {},
   "source": [
    "## Cleaning the numerical features"
   ]
  },
  {
   "cell_type": "code",
   "execution_count": 8,
   "id": "2c927165-5fca-4515-894d-4ab0c1c1380a",
   "metadata": {},
   "outputs": [
    {
     "data": {
      "text/html": [
       "<div>\n",
       "<style scoped>\n",
       "    .dataframe tbody tr th:only-of-type {\n",
       "        vertical-align: middle;\n",
       "    }\n",
       "\n",
       "    .dataframe tbody tr th {\n",
       "        vertical-align: top;\n",
       "    }\n",
       "\n",
       "    .dataframe thead th {\n",
       "        text-align: right;\n",
       "    }\n",
       "</style>\n",
       "<table border=\"1\" class=\"dataframe\">\n",
       "  <thead>\n",
       "    <tr style=\"text-align: right;\">\n",
       "      <th></th>\n",
       "      <th>mean radius</th>\n",
       "      <th>mean texture</th>\n",
       "      <th>mean perimeter</th>\n",
       "    </tr>\n",
       "  </thead>\n",
       "  <tbody>\n",
       "    <tr>\n",
       "      <th>0</th>\n",
       "      <td>NaN</td>\n",
       "      <td>10.38</td>\n",
       "      <td>122.80</td>\n",
       "    </tr>\n",
       "    <tr>\n",
       "      <th>1</th>\n",
       "      <td>20.57</td>\n",
       "      <td>17.77</td>\n",
       "      <td>132.90</td>\n",
       "    </tr>\n",
       "    <tr>\n",
       "      <th>2</th>\n",
       "      <td>19.69</td>\n",
       "      <td>21.25</td>\n",
       "      <td>130.00</td>\n",
       "    </tr>\n",
       "    <tr>\n",
       "      <th>3</th>\n",
       "      <td>11.42</td>\n",
       "      <td>20.38</td>\n",
       "      <td>77.58</td>\n",
       "    </tr>\n",
       "    <tr>\n",
       "      <th>4</th>\n",
       "      <td>20.29</td>\n",
       "      <td>14.34</td>\n",
       "      <td>NaN</td>\n",
       "    </tr>\n",
       "    <tr>\n",
       "      <th>...</th>\n",
       "      <td>...</td>\n",
       "      <td>...</td>\n",
       "      <td>...</td>\n",
       "    </tr>\n",
       "    <tr>\n",
       "      <th>564</th>\n",
       "      <td>21.56</td>\n",
       "      <td>22.39</td>\n",
       "      <td>142.00</td>\n",
       "    </tr>\n",
       "    <tr>\n",
       "      <th>565</th>\n",
       "      <td>NaN</td>\n",
       "      <td>28.25</td>\n",
       "      <td>131.20</td>\n",
       "    </tr>\n",
       "    <tr>\n",
       "      <th>566</th>\n",
       "      <td>16.60</td>\n",
       "      <td>28.08</td>\n",
       "      <td>108.30</td>\n",
       "    </tr>\n",
       "    <tr>\n",
       "      <th>567</th>\n",
       "      <td>20.60</td>\n",
       "      <td>29.33</td>\n",
       "      <td>140.10</td>\n",
       "    </tr>\n",
       "    <tr>\n",
       "      <th>568</th>\n",
       "      <td>7.76</td>\n",
       "      <td>NaN</td>\n",
       "      <td>47.92</td>\n",
       "    </tr>\n",
       "  </tbody>\n",
       "</table>\n",
       "<p>569 rows × 3 columns</p>\n",
       "</div>"
      ],
      "text/plain": [
       "     mean radius  mean texture  mean perimeter\n",
       "0            NaN         10.38          122.80\n",
       "1          20.57         17.77          132.90\n",
       "2          19.69         21.25          130.00\n",
       "3          11.42         20.38           77.58\n",
       "4          20.29         14.34             NaN\n",
       "..           ...           ...             ...\n",
       "564        21.56         22.39          142.00\n",
       "565          NaN         28.25          131.20\n",
       "566        16.60         28.08          108.30\n",
       "567        20.60         29.33          140.10\n",
       "568         7.76           NaN           47.92\n",
       "\n",
       "[569 rows x 3 columns]"
      ]
     },
     "execution_count": 8,
     "metadata": {},
     "output_type": "execute_result"
    }
   ],
   "source": [
    "X = df.iloc[:,0:3]\n",
    "X"
   ]
  },
  {
   "cell_type": "markdown",
   "id": "7bf88546-fe60-41d7-8099-40e0c5f5bc48",
   "metadata": {},
   "source": [
    "### Replace blanks with the mean value"
   ]
  },
  {
   "cell_type": "code",
   "execution_count": 9,
   "id": "e477b319-6942-44c3-9f68-3256c618c39d",
   "metadata": {},
   "outputs": [
    {
     "data": {
      "text/plain": [
       "14.059547717842323"
      ]
     },
     "execution_count": 9,
     "metadata": {},
     "output_type": "execute_result"
    }
   ],
   "source": [
    "X['mean radius'].mean()"
   ]
  },
  {
   "cell_type": "code",
   "execution_count": 10,
   "id": "23cba558-dd1a-42f2-949c-cd341c2cfeb4",
   "metadata": {},
   "outputs": [
    {
     "data": {
      "text/plain": [
       "19.311829268292684"
      ]
     },
     "execution_count": 10,
     "metadata": {},
     "output_type": "execute_result"
    }
   ],
   "source": [
    "X['mean texture'].mean()"
   ]
  },
  {
   "cell_type": "code",
   "execution_count": 11,
   "id": "4c4eb9e2-f295-442d-a4f6-30e7301dc650",
   "metadata": {},
   "outputs": [
    {
     "data": {
      "text/plain": [
       "92.03902534113061"
      ]
     },
     "execution_count": 11,
     "metadata": {},
     "output_type": "execute_result"
    }
   ],
   "source": [
    "X['mean perimeter'].mean()"
   ]
  },
  {
   "cell_type": "code",
   "execution_count": 12,
   "id": "952b6111-0a5c-4052-bf7c-5b5c18ab8956",
   "metadata": {},
   "outputs": [
    {
     "data": {
      "text/plain": [
       "array([[ 14.05954772,  10.38      , 122.8       ],\n",
       "       [ 20.57      ,  17.77      , 132.9       ],\n",
       "       [ 19.69      ,  21.25      , 130.        ],\n",
       "       ...,\n",
       "       [ 16.6       ,  28.08      , 108.3       ],\n",
       "       [ 20.6       ,  29.33      , 140.1       ],\n",
       "       [  7.76      ,  19.31182927,  47.92      ]])"
      ]
     },
     "execution_count": 12,
     "metadata": {},
     "output_type": "execute_result"
    }
   ],
   "source": [
    "from sklearn.impute import SimpleImputer\n",
    "\n",
    "cleaner = SimpleImputer()  # strategy='mean'\n",
    "\"\"\"\n",
    "cleaner.fit(X)\n",
    "cleaner.transform(X)\n",
    "\"\"\"\n",
    "cleaner.fit_transform(X)"
   ]
  },
  {
   "cell_type": "markdown",
   "id": "76dfe637-2fad-424b-b6ce-dfab26d76855",
   "metadata": {},
   "source": [
    "### Replace blanks with the median value (try with skewed distribution)"
   ]
  },
  {
   "cell_type": "code",
   "execution_count": 13,
   "id": "e6276625-6d2b-4e8f-b5f1-e02bbe455966",
   "metadata": {},
   "outputs": [
    {
     "data": {
      "text/plain": [
       "13.28"
      ]
     },
     "execution_count": 13,
     "metadata": {},
     "output_type": "execute_result"
    }
   ],
   "source": [
    "X['mean radius'].median()"
   ]
  },
  {
   "cell_type": "code",
   "execution_count": 14,
   "id": "5f528cf1-d417-4cf0-9466-071ca1d1b8f2",
   "metadata": {},
   "outputs": [
    {
     "data": {
      "text/plain": [
       "18.86"
      ]
     },
     "execution_count": 14,
     "metadata": {},
     "output_type": "execute_result"
    }
   ],
   "source": [
    "X['mean texture'].median()"
   ]
  },
  {
   "cell_type": "code",
   "execution_count": 15,
   "id": "ec84ea67-3bcd-4174-84c1-708bddd1cd7e",
   "metadata": {},
   "outputs": [
    {
     "data": {
      "text/plain": [
       "86.34"
      ]
     },
     "execution_count": 15,
     "metadata": {},
     "output_type": "execute_result"
    }
   ],
   "source": [
    "X['mean perimeter'].median()"
   ]
  },
  {
   "cell_type": "code",
   "execution_count": 16,
   "id": "f9b5b76e-248d-4c25-bd26-b2c7491e1b87",
   "metadata": {},
   "outputs": [
    {
     "data": {
      "text/plain": [
       "array([[ 13.28,  10.38, 122.8 ],\n",
       "       [ 20.57,  17.77, 132.9 ],\n",
       "       [ 19.69,  21.25, 130.  ],\n",
       "       ...,\n",
       "       [ 16.6 ,  28.08, 108.3 ],\n",
       "       [ 20.6 ,  29.33, 140.1 ],\n",
       "       [  7.76,  18.86,  47.92]])"
      ]
     },
     "execution_count": 16,
     "metadata": {},
     "output_type": "execute_result"
    }
   ],
   "source": [
    "cleaner = SimpleImputer(strategy='median')\n",
    "cleaner.fit_transform(X)"
   ]
  },
  {
   "cell_type": "markdown",
   "id": "0941cb2a-cd01-40ae-bf24-9e3b437eeba7",
   "metadata": {},
   "source": [
    "### Replace blanks with fixed value"
   ]
  },
  {
   "cell_type": "code",
   "execution_count": 17,
   "id": "cf04e5cb-da58-44a3-83a7-2b8644e5654b",
   "metadata": {},
   "outputs": [
    {
     "data": {
      "text/plain": [
       "array([[  0.  ,  10.38, 122.8 ],\n",
       "       [ 20.57,  17.77, 132.9 ],\n",
       "       [ 19.69,  21.25, 130.  ],\n",
       "       ...,\n",
       "       [ 16.6 ,  28.08, 108.3 ],\n",
       "       [ 20.6 ,  29.33, 140.1 ],\n",
       "       [  7.76,   0.  ,  47.92]])"
      ]
     },
     "execution_count": 17,
     "metadata": {},
     "output_type": "execute_result"
    }
   ],
   "source": [
    "cleaner = SimpleImputer(strategy='constant',fill_value=0)\n",
    "cleaner.fit_transform(X)"
   ]
  },
  {
   "cell_type": "markdown",
   "id": "2b976a12-09b2-46ef-9d8e-32a9b0f21850",
   "metadata": {},
   "source": [
    "## Cleaning the categorical features"
   ]
  },
  {
   "cell_type": "code",
   "execution_count": 18,
   "id": "e256de9d-87d5-498e-bf0d-0fa0276a7dd8",
   "metadata": {},
   "outputs": [
    {
     "data": {
      "text/plain": [
       "area error    75\n",
       "dtype: int64"
      ]
     },
     "execution_count": 18,
     "metadata": {},
     "output_type": "execute_result"
    }
   ],
   "source": [
    "X = df[['area error']]\n",
    "X.isnull().sum()"
   ]
  },
  {
   "cell_type": "markdown",
   "id": "39263ec5-5d49-41cf-873c-f0421133d808",
   "metadata": {},
   "source": [
    "### Cleaning using the most probable value"
   ]
  },
  {
   "cell_type": "code",
   "execution_count": 19,
   "id": "abf07626-31d2-43a9-909d-daf568a73b73",
   "metadata": {},
   "outputs": [
    {
     "data": {
      "text/plain": [
       "A    564\n",
       "B      4\n",
       "C      1\n",
       "Name: count, dtype: int64"
      ]
     },
     "execution_count": 19,
     "metadata": {},
     "output_type": "execute_result"
    }
   ],
   "source": [
    "cleaner = SimpleImputer(strategy='most_frequent')\n",
    "pd.DataFrame(cleaner.fit_transform(X)).value_counts()"
   ]
  },
  {
   "cell_type": "markdown",
   "id": "a228e546-1cc4-4c98-8bae-25459840baec",
   "metadata": {},
   "source": [
    "### Cleaning using a new value"
   ]
  },
  {
   "cell_type": "code",
   "execution_count": 20,
   "id": "56757565-9aa4-4f2d-82e2-cbfaf5a4c29a",
   "metadata": {},
   "outputs": [
    {
     "data": {
      "text/plain": [
       "A            489\n",
       "Undefined     75\n",
       "B              4\n",
       "C              1\n",
       "Name: count, dtype: int64"
      ]
     },
     "execution_count": 20,
     "metadata": {},
     "output_type": "execute_result"
    }
   ],
   "source": [
    "cleaner = SimpleImputer(strategy='constant',fill_value='Undefined')\n",
    "pd.DataFrame(cleaner.fit_transform(X)).value_counts()"
   ]
  },
  {
   "cell_type": "markdown",
   "id": "64104271-d2d1-447f-a1d8-97db868bf11d",
   "metadata": {},
   "source": [
    "## KNN blank filling"
   ]
  },
  {
   "cell_type": "code",
   "execution_count": 21,
   "id": "555a1ed9-2761-40be-bd21-e7f91b9da52b",
   "metadata": {},
   "outputs": [
    {
     "data": {
      "text/html": [
       "<div>\n",
       "<style scoped>\n",
       "    .dataframe tbody tr th:only-of-type {\n",
       "        vertical-align: middle;\n",
       "    }\n",
       "\n",
       "    .dataframe tbody tr th {\n",
       "        vertical-align: top;\n",
       "    }\n",
       "\n",
       "    .dataframe thead th {\n",
       "        text-align: right;\n",
       "    }\n",
       "</style>\n",
       "<table border=\"1\" class=\"dataframe\">\n",
       "  <thead>\n",
       "    <tr style=\"text-align: right;\">\n",
       "      <th></th>\n",
       "      <th>mean radius</th>\n",
       "      <th>mean texture</th>\n",
       "      <th>mean perimeter</th>\n",
       "    </tr>\n",
       "  </thead>\n",
       "  <tbody>\n",
       "    <tr>\n",
       "      <th>0</th>\n",
       "      <td>NaN</td>\n",
       "      <td>10.38</td>\n",
       "      <td>122.80</td>\n",
       "    </tr>\n",
       "    <tr>\n",
       "      <th>1</th>\n",
       "      <td>20.57</td>\n",
       "      <td>17.77</td>\n",
       "      <td>132.90</td>\n",
       "    </tr>\n",
       "    <tr>\n",
       "      <th>2</th>\n",
       "      <td>19.69</td>\n",
       "      <td>21.25</td>\n",
       "      <td>130.00</td>\n",
       "    </tr>\n",
       "    <tr>\n",
       "      <th>3</th>\n",
       "      <td>11.42</td>\n",
       "      <td>20.38</td>\n",
       "      <td>77.58</td>\n",
       "    </tr>\n",
       "    <tr>\n",
       "      <th>4</th>\n",
       "      <td>20.29</td>\n",
       "      <td>14.34</td>\n",
       "      <td>NaN</td>\n",
       "    </tr>\n",
       "    <tr>\n",
       "      <th>...</th>\n",
       "      <td>...</td>\n",
       "      <td>...</td>\n",
       "      <td>...</td>\n",
       "    </tr>\n",
       "    <tr>\n",
       "      <th>564</th>\n",
       "      <td>21.56</td>\n",
       "      <td>22.39</td>\n",
       "      <td>142.00</td>\n",
       "    </tr>\n",
       "    <tr>\n",
       "      <th>565</th>\n",
       "      <td>NaN</td>\n",
       "      <td>28.25</td>\n",
       "      <td>131.20</td>\n",
       "    </tr>\n",
       "    <tr>\n",
       "      <th>566</th>\n",
       "      <td>16.60</td>\n",
       "      <td>28.08</td>\n",
       "      <td>108.30</td>\n",
       "    </tr>\n",
       "    <tr>\n",
       "      <th>567</th>\n",
       "      <td>20.60</td>\n",
       "      <td>29.33</td>\n",
       "      <td>140.10</td>\n",
       "    </tr>\n",
       "    <tr>\n",
       "      <th>568</th>\n",
       "      <td>7.76</td>\n",
       "      <td>NaN</td>\n",
       "      <td>47.92</td>\n",
       "    </tr>\n",
       "  </tbody>\n",
       "</table>\n",
       "<p>569 rows × 3 columns</p>\n",
       "</div>"
      ],
      "text/plain": [
       "     mean radius  mean texture  mean perimeter\n",
       "0            NaN         10.38          122.80\n",
       "1          20.57         17.77          132.90\n",
       "2          19.69         21.25          130.00\n",
       "3          11.42         20.38           77.58\n",
       "4          20.29         14.34             NaN\n",
       "..           ...           ...             ...\n",
       "564        21.56         22.39          142.00\n",
       "565          NaN         28.25          131.20\n",
       "566        16.60         28.08          108.30\n",
       "567        20.60         29.33          140.10\n",
       "568         7.76           NaN           47.92\n",
       "\n",
       "[569 rows x 3 columns]"
      ]
     },
     "execution_count": 21,
     "metadata": {},
     "output_type": "execute_result"
    }
   ],
   "source": [
    "X = df.iloc[:,0:3]\n",
    "X"
   ]
  },
  {
   "cell_type": "markdown",
   "id": "ab639a7a-09a9-405a-9162-634d1c49897f",
   "metadata": {},
   "source": [
    "### KNN imputer without weights"
   ]
  },
  {
   "cell_type": "code",
   "execution_count": 22,
   "id": "99a860ed-8fc2-4671-be08-2c18cac75fb3",
   "metadata": {},
   "outputs": [
    {
     "data": {
      "text/plain": [
       "array([[ 15.8968,  10.38  , 122.8   ],\n",
       "       [ 20.57  ,  17.77  , 132.9   ],\n",
       "       [ 19.69  ,  21.25  , 130.    ],\n",
       "       ...,\n",
       "       [ 16.6   ,  28.08  , 108.3   ],\n",
       "       [ 20.6   ,  29.33  , 140.1   ],\n",
       "       [  7.76  ,  19.408 ,  47.92  ]])"
      ]
     },
     "execution_count": 22,
     "metadata": {},
     "output_type": "execute_result"
    }
   ],
   "source": [
    "from sklearn.impute import KNNImputer\n",
    "\n",
    "cleaner = KNNImputer(n_neighbors=10) # weights='uniform'\n",
    "cleaner.fit_transform(X)"
   ]
  },
  {
   "cell_type": "markdown",
   "id": "1bb4961c-2932-41c7-a060-7ec31e2a15ed",
   "metadata": {},
   "source": [
    "### KNN imputer with weights (inverse values of each distance)"
   ]
  },
  {
   "cell_type": "code",
   "execution_count": 23,
   "id": "27e9db73-bde6-40c1-9efe-06581c1f7be4",
   "metadata": {},
   "outputs": [
    {
     "data": {
      "text/plain": [
       "array([[ 15.51148032,  10.38      , 122.8       ],\n",
       "       [ 20.57      ,  17.77      , 132.9       ],\n",
       "       [ 19.69      ,  21.25      , 130.        ],\n",
       "       ...,\n",
       "       [ 16.6       ,  28.08      , 108.3       ],\n",
       "       [ 20.6       ,  29.33      , 140.1       ],\n",
       "       [  7.76      ,  24.25892267,  47.92      ]])"
      ]
     },
     "execution_count": 23,
     "metadata": {},
     "output_type": "execute_result"
    }
   ],
   "source": [
    "cleaner = KNNImputer(n_neighbors=10,weights='distance')\n",
    "cleaner.fit_transform(X)"
   ]
  },
  {
   "cell_type": "markdown",
   "id": "5692307f-79e3-4d82-b356-73a3f2bde6ae",
   "metadata": {},
   "source": [
    "## ColumnTransformer and make_column_selector"
   ]
  },
  {
   "cell_type": "code",
   "execution_count": 24,
   "id": "8183c62d-5903-4d26-aa21-d132473f35b3",
   "metadata": {},
   "outputs": [],
   "source": [
    "from sklearn.compose import ColumnTransformer, make_column_selector"
   ]
  },
  {
   "cell_type": "markdown",
   "id": "330b64d4-dfbb-470a-aab0-3a9b80b90026",
   "metadata": {},
   "source": [
    "### Using ColumnTransformer"
   ]
  },
  {
   "cell_type": "code",
   "execution_count": 25,
   "id": "68849e8a-fc80-4a92-b34f-4af7b0ab8a37",
   "metadata": {},
   "outputs": [
    {
     "data": {
      "text/plain": [
       "array([[14.059547717842323, 10.38, 122.8, ..., 0.1189, 0.0, 'A'],\n",
       "       [20.57, 17.77, 132.9, ..., 0.08436317021276594, 0.0, 'A'],\n",
       "       [19.69, 21.25, 130.0, ..., 0.08758, 0.0, 'A'],\n",
       "       ...,\n",
       "       [16.6, 28.08, 108.3, ..., 0.0782, 0.0, 'A'],\n",
       "       [20.6, 29.33, 140.1, ..., 0.124, 0.0, 'A'],\n",
       "       [7.76, 19.311829268292684, 47.92, ..., 0.07039, 1.0, 'A']],\n",
       "      dtype=object)"
      ]
     },
     "execution_count": 25,
     "metadata": {},
     "output_type": "execute_result"
    }
   ],
   "source": [
    "cleaner = ColumnTransformer([\n",
    "    ('numerical_transformer',SimpleImputer(),numerical_variables),\n",
    "    ('categorical_transformer',SimpleImputer(strategy='most_frequent'),categorical_variables)\n",
    "])\n",
    "cleaner.fit_transform(df)"
   ]
  },
  {
   "cell_type": "markdown",
   "id": "55720a84-75a0-4720-932c-1a42ae345d36",
   "metadata": {},
   "source": [
    "### ,remainder='drop')"
   ]
  },
  {
   "cell_type": "code",
   "execution_count": 26,
   "id": "9b1ec6e5-262c-4b38-92da-eb641ab56d93",
   "metadata": {},
   "outputs": [
    {
     "data": {
      "text/plain": [
       "array([[14.059547717842323, 10.38, 'A'],\n",
       "       [20.57, 17.77, 'A'],\n",
       "       [19.69, 21.25, 'A'],\n",
       "       ...,\n",
       "       [16.6, 28.08, 'A'],\n",
       "       [20.6, 29.33, 'A'],\n",
       "       [7.76, 19.311829268292684, 'A']], dtype=object)"
      ]
     },
     "execution_count": 26,
     "metadata": {},
     "output_type": "execute_result"
    }
   ],
   "source": [
    "cleaner = ColumnTransformer([\n",
    "    ('numerical_transformer',SimpleImputer(),[0,1]),\n",
    "    ('categorical_transformer',SimpleImputer(strategy='most_frequent'),categorical_variables)\n",
    "],remainder='drop')\n",
    "cleaner.fit_transform(df)"
   ]
  },
  {
   "cell_type": "markdown",
   "id": "8c309162-aa7b-46ce-8b0e-3c89640c5c19",
   "metadata": {},
   "source": [
    "### ,remainder='passthrough')"
   ]
  },
  {
   "cell_type": "code",
   "execution_count": 27,
   "id": "314ef49d-a774-4703-9394-0ab42de5c0d8",
   "metadata": {},
   "outputs": [
    {
     "data": {
      "text/plain": [
       "array([[14.059547717842323, 10.38, 'A', ..., 0.4601, 0.1189, 0.0],\n",
       "       [20.57, 17.77, 'A', ..., 0.275, nan, 0.0],\n",
       "       [19.69, 21.25, 'A', ..., 0.3613, 0.08758, 0.0],\n",
       "       ...,\n",
       "       [16.6, 28.08, 'A', ..., 0.2218, 0.0782, 0.0],\n",
       "       [20.6, 29.33, 'A', ..., 0.4087, 0.124, 0.0],\n",
       "       [7.76, 19.311829268292684, 'A', ..., 0.2871, 0.07039, 1.0]],\n",
       "      dtype=object)"
      ]
     },
     "execution_count": 27,
     "metadata": {},
     "output_type": "execute_result"
    }
   ],
   "source": [
    "cleaner = ColumnTransformer([\n",
    "    ('numerical_transformer',SimpleImputer(),[0,1]),\n",
    "    ('categorical_transformer',SimpleImputer(strategy='most_frequent'),categorical_variables)\n",
    "],remainder='passthrough')\n",
    "cleaner.fit_transform(df)"
   ]
  },
  {
   "cell_type": "markdown",
   "id": "4bf9b72b-2ef2-4bb6-ba65-7a69a5560b07",
   "metadata": {},
   "source": [
    "### Using make_column_selector"
   ]
  },
  {
   "cell_type": "code",
   "execution_count": 28,
   "id": "38567e5f-5904-48a6-876a-29d24d437651",
   "metadata": {},
   "outputs": [
    {
     "data": {
      "text/plain": [
       "array([[14.059547717842323, 10.38, 122.8, ..., 0.1189, 0.0, 'A'],\n",
       "       [20.57, 17.77, 132.9, ..., 0.08436317021276594, 0.0, 'A'],\n",
       "       [19.69, 21.25, 130.0, ..., 0.08758, 0.0, 'A'],\n",
       "       ...,\n",
       "       [16.6, 28.08, 108.3, ..., 0.0782, 0.0, 'A'],\n",
       "       [20.6, 29.33, 140.1, ..., 0.124, 0.0, 'A'],\n",
       "       [7.76, 19.311829268292684, 47.92, ..., 0.07039, 1.0, 'A']],\n",
       "      dtype=object)"
      ]
     },
     "execution_count": 28,
     "metadata": {},
     "output_type": "execute_result"
    }
   ],
   "source": [
    "cleaner = ColumnTransformer([\n",
    "    ('numerical_transformer',SimpleImputer(),make_column_selector(dtype_exclude='object')),\n",
    "    ('categorical_transformer',SimpleImputer(strategy='most_frequent'),make_column_selector(dtype_include='object'))\n",
    "]) # ,remainder='drop'\n",
    "cleaner.fit_transform(df)"
   ]
  },
  {
   "cell_type": "markdown",
   "id": "a867dd2b-d771-4f98-a0af-35e911d6bb4f",
   "metadata": {},
   "source": [
    "## Exercise 1\n",
    "\n",
    "* Load sample_dataset.csv\n",
    "* Replace the missings in the categorical variables with \"N\"\n",
    "* Replace the missings in the numerical variables with the mean value"
   ]
  },
  {
   "cell_type": "code",
   "execution_count": 29,
   "id": "2cc41dce-1ffb-46bc-abf2-08426c7e4444",
   "metadata": {},
   "outputs": [
    {
     "data": {
      "text/plain": [
       "array([[14.059547717842323, 10.38, 122.8, ..., 0.1189, 0.0, 'A'],\n",
       "       [20.57, 17.77, 132.9, ..., 0.08436317021276594, 0.0, 'A'],\n",
       "       [19.69, 21.25, 130.0, ..., 0.08758, 0.0, 'A'],\n",
       "       ...,\n",
       "       [16.6, 28.08, 108.3, ..., 0.0782, 0.0, 'A'],\n",
       "       [20.6, 29.33, 140.1, ..., 0.124, 0.0, 'A'],\n",
       "       [7.76, 19.311829268292684, 47.92, ..., 0.07039, 1.0, 'A']],\n",
       "      dtype=object)"
      ]
     },
     "execution_count": 29,
     "metadata": {},
     "output_type": "execute_result"
    }
   ],
   "source": [
    "import pandas as pd\n",
    "from sklearn.compose import ColumnTransformer, make_column_selector\n",
    "from sklearn.impute import SimpleImputer\n",
    "\n",
    "df = pd.read_csv('sample_dataset.csv')\n",
    "cleaner = ColumnTransformer([\n",
    "    ('numerical_transformer',SimpleImputer(strategy='mean'),make_column_selector(dtype_exclude='object')),\n",
    "    ('categorical_transformer',SimpleImputer(strategy='constant',fill_value='N'),make_column_selector(dtype_include='object'))\n",
    "])\n",
    "cleaner.fit_transform(df)"
   ]
  },
  {
   "cell_type": "markdown",
   "id": "b718e8d1-9302-4b02-be83-5fee0b9b5286",
   "metadata": {},
   "source": [
    "## Exercise 2\n",
    "\n",
    "* Load sample_dataset.csv\n",
    "* Replace the missings in the float variables using KNN with 10 neighbors and a distance-based weights\n",
    "* Replace the missings in the categorical variables using the most frequent value"
   ]
  },
  {
   "cell_type": "code",
   "execution_count": 30,
   "id": "9890b2bd-3cd3-4590-a5da-63f18803ddac",
   "metadata": {},
   "outputs": [
    {
     "data": {
      "text/plain": [
       "array([[15.637884267617215, 10.38, 122.8, ..., 0.1189, 'A', 0],\n",
       "       [20.57, 17.77, 132.9, ..., 0.08216467870588635, 'A', 0],\n",
       "       [19.69, 21.25, 130.0, ..., 0.08758, 'A', 0],\n",
       "       ...,\n",
       "       [16.6, 28.08, 108.3, ..., 0.0782, 'A', 0],\n",
       "       [20.6, 29.33, 140.1, ..., 0.124, 'A', 0],\n",
       "       [7.76, 21.692427354277637, 47.92, ..., 0.07039, 'A', 1]],\n",
       "      dtype=object)"
      ]
     },
     "execution_count": 30,
     "metadata": {},
     "output_type": "execute_result"
    }
   ],
   "source": [
    "import pandas as pd\n",
    "from sklearn.compose import ColumnTransformer, make_column_selector\n",
    "from sklearn.impute import SimpleImputer, KNNImputer\n",
    "\n",
    "df = pd.read_csv('sample_dataset.csv')\n",
    "cleaner = ColumnTransformer([\n",
    "    ('float_transformer',KNNImputer(n_neighbors=10,weights='distance'),make_column_selector(dtype_include='float64')),\n",
    "    ('categorical_transformer',SimpleImputer(strategy='most_frequent'),make_column_selector(dtype_include='object'))\n",
    "],remainder='passthrough')\n",
    "cleaner.fit_transform(df)"
   ]
  },
  {
   "cell_type": "markdown",
   "id": "0e87ec07-19d3-43f1-8b31-763ffe00ffdf",
   "metadata": {},
   "source": [
    "# Encoding of the categorical features"
   ]
  },
  {
   "cell_type": "code",
   "execution_count": 31,
   "id": "6356b17d-ee20-4372-9994-720ee56f707a",
   "metadata": {},
   "outputs": [
    {
     "data": {
      "text/plain": [
       "array([['A'],\n",
       "       ['A'],\n",
       "       ['B'],\n",
       "       ['C']], dtype='<U1')"
      ]
     },
     "execution_count": 31,
     "metadata": {},
     "output_type": "execute_result"
    }
   ],
   "source": [
    "import numpy as np\n",
    "from sklearn.preprocessing import OneHotEncoder\n",
    "\n",
    "X = np.array([['A'],['A'],['B'],['C']])\n",
    "X"
   ]
  },
  {
   "cell_type": "markdown",
   "id": "ea8ebf21-dbf9-4d4a-9716-47a7eda36da2",
   "metadata": {},
   "source": [
    "## One-hot encoding (introduces dummy variables)"
   ]
  },
  {
   "cell_type": "code",
   "execution_count": 32,
   "id": "ac795a69-d79a-45a5-bdc1-43991ae4c92b",
   "metadata": {},
   "outputs": [
    {
     "data": {
      "text/plain": [
       "matrix([[1., 0., 0.],\n",
       "        [1., 0., 0.],\n",
       "        [0., 1., 0.],\n",
       "        [0., 0., 1.]])"
      ]
     },
     "execution_count": 32,
     "metadata": {},
     "output_type": "execute_result"
    }
   ],
   "source": [
    "encoder = OneHotEncoder()\n",
    "encoder.fit_transform(X).todense()"
   ]
  },
  {
   "cell_type": "markdown",
   "id": "35d9f1e3-0fca-4700-8f83-bc468fa2d3fb",
   "metadata": {},
   "source": [
    "### Output with dense matrix"
   ]
  },
  {
   "cell_type": "code",
   "execution_count": 33,
   "id": "9b85db45-a076-486f-a474-a3dfa2de4690",
   "metadata": {},
   "outputs": [
    {
     "data": {
      "text/plain": [
       "array([[1., 0., 0.],\n",
       "       [1., 0., 0.],\n",
       "       [0., 1., 0.],\n",
       "       [0., 0., 1.]])"
      ]
     },
     "execution_count": 33,
     "metadata": {},
     "output_type": "execute_result"
    }
   ],
   "source": [
    "encoder = OneHotEncoder(sparse_output=False)\n",
    "encoder.fit_transform(X)"
   ]
  },
  {
   "cell_type": "markdown",
   "id": "ed3d49b6-635e-4d00-ab40-1697dc8d1d9f",
   "metadata": {},
   "source": [
    "### Removing first dummy variable (useful when working with neural model or linear model/regression)"
   ]
  },
  {
   "cell_type": "code",
   "execution_count": 34,
   "id": "38b67acf-5a16-42a0-915b-e64e1241493d",
   "metadata": {},
   "outputs": [
    {
     "data": {
      "text/plain": [
       "array([[0., 0.],\n",
       "       [0., 0.],\n",
       "       [1., 0.],\n",
       "       [0., 1.]])"
      ]
     },
     "execution_count": 34,
     "metadata": {},
     "output_type": "execute_result"
    }
   ],
   "source": [
    "encoder = OneHotEncoder(sparse_output=False,drop='first')\n",
    "encoder.fit_transform(X)"
   ]
  },
  {
   "cell_type": "markdown",
   "id": "1b051b31-ea52-410b-b9d1-f352c9125613",
   "metadata": {},
   "source": [
    "### Removing one dummy variable from binary features"
   ]
  },
  {
   "cell_type": "code",
   "execution_count": 35,
   "id": "a18af8d5-31ef-46a8-9511-883723adeba3",
   "metadata": {},
   "outputs": [
    {
     "data": {
      "text/plain": [
       "array([['A'],\n",
       "       ['A'],\n",
       "       ['A'],\n",
       "       ['B']], dtype='<U1')"
      ]
     },
     "execution_count": 35,
     "metadata": {},
     "output_type": "execute_result"
    }
   ],
   "source": [
    "X = np.array([['A'],['A'],['A'],['B']])\n",
    "X"
   ]
  },
  {
   "cell_type": "code",
   "execution_count": 36,
   "id": "c487588f-2e9f-45aa-bb95-9bc0cfc587c5",
   "metadata": {},
   "outputs": [
    {
     "data": {
      "text/plain": [
       "array([[0.],\n",
       "       [0.],\n",
       "       [0.],\n",
       "       [1.]])"
      ]
     },
     "execution_count": 36,
     "metadata": {},
     "output_type": "execute_result"
    }
   ],
   "source": [
    "encoder = OneHotEncoder(sparse_output=False,drop='if_binary')\n",
    "encoder.fit_transform(X)"
   ]
  },
  {
   "cell_type": "markdown",
   "id": "6c9fcbc2-084a-452a-8263-e2d94489e1b2",
   "metadata": {},
   "source": [
    "### Error handling"
   ]
  },
  {
   "cell_type": "code",
   "execution_count": 37,
   "id": "fca89f57-7fb9-41d2-91b2-8073ec51d48e",
   "metadata": {},
   "outputs": [
    {
     "data": {
      "text/html": [
       "<style>#sk-container-id-1 {color: black;}#sk-container-id-1 pre{padding: 0;}#sk-container-id-1 div.sk-toggleable {background-color: white;}#sk-container-id-1 label.sk-toggleable__label {cursor: pointer;display: block;width: 100%;margin-bottom: 0;padding: 0.3em;box-sizing: border-box;text-align: center;}#sk-container-id-1 label.sk-toggleable__label-arrow:before {content: \"▸\";float: left;margin-right: 0.25em;color: #696969;}#sk-container-id-1 label.sk-toggleable__label-arrow:hover:before {color: black;}#sk-container-id-1 div.sk-estimator:hover label.sk-toggleable__label-arrow:before {color: black;}#sk-container-id-1 div.sk-toggleable__content {max-height: 0;max-width: 0;overflow: hidden;text-align: left;background-color: #f0f8ff;}#sk-container-id-1 div.sk-toggleable__content pre {margin: 0.2em;color: black;border-radius: 0.25em;background-color: #f0f8ff;}#sk-container-id-1 input.sk-toggleable__control:checked~div.sk-toggleable__content {max-height: 200px;max-width: 100%;overflow: auto;}#sk-container-id-1 input.sk-toggleable__control:checked~label.sk-toggleable__label-arrow:before {content: \"▾\";}#sk-container-id-1 div.sk-estimator input.sk-toggleable__control:checked~label.sk-toggleable__label {background-color: #d4ebff;}#sk-container-id-1 div.sk-label input.sk-toggleable__control:checked~label.sk-toggleable__label {background-color: #d4ebff;}#sk-container-id-1 input.sk-hidden--visually {border: 0;clip: rect(1px 1px 1px 1px);clip: rect(1px, 1px, 1px, 1px);height: 1px;margin: -1px;overflow: hidden;padding: 0;position: absolute;width: 1px;}#sk-container-id-1 div.sk-estimator {font-family: monospace;background-color: #f0f8ff;border: 1px dotted black;border-radius: 0.25em;box-sizing: border-box;margin-bottom: 0.5em;}#sk-container-id-1 div.sk-estimator:hover {background-color: #d4ebff;}#sk-container-id-1 div.sk-parallel-item::after {content: \"\";width: 100%;border-bottom: 1px solid gray;flex-grow: 1;}#sk-container-id-1 div.sk-label:hover label.sk-toggleable__label {background-color: #d4ebff;}#sk-container-id-1 div.sk-serial::before {content: \"\";position: absolute;border-left: 1px solid gray;box-sizing: border-box;top: 0;bottom: 0;left: 50%;z-index: 0;}#sk-container-id-1 div.sk-serial {display: flex;flex-direction: column;align-items: center;background-color: white;padding-right: 0.2em;padding-left: 0.2em;position: relative;}#sk-container-id-1 div.sk-item {position: relative;z-index: 1;}#sk-container-id-1 div.sk-parallel {display: flex;align-items: stretch;justify-content: center;background-color: white;position: relative;}#sk-container-id-1 div.sk-item::before, #sk-container-id-1 div.sk-parallel-item::before {content: \"\";position: absolute;border-left: 1px solid gray;box-sizing: border-box;top: 0;bottom: 0;left: 50%;z-index: -1;}#sk-container-id-1 div.sk-parallel-item {display: flex;flex-direction: column;z-index: 1;position: relative;background-color: white;}#sk-container-id-1 div.sk-parallel-item:first-child::after {align-self: flex-end;width: 50%;}#sk-container-id-1 div.sk-parallel-item:last-child::after {align-self: flex-start;width: 50%;}#sk-container-id-1 div.sk-parallel-item:only-child::after {width: 0;}#sk-container-id-1 div.sk-dashed-wrapped {border: 1px dashed gray;margin: 0 0.4em 0.5em 0.4em;box-sizing: border-box;padding-bottom: 0.4em;background-color: white;}#sk-container-id-1 div.sk-label label {font-family: monospace;font-weight: bold;display: inline-block;line-height: 1.2em;}#sk-container-id-1 div.sk-label-container {text-align: center;}#sk-container-id-1 div.sk-container {/* jupyter's `normalize.less` sets `[hidden] { display: none; }` but bootstrap.min.css set `[hidden] { display: none !important; }` so we also need the `!important` here to be able to override the default hidden behavior on the sphinx rendered scikit-learn.org. See: https://github.com/scikit-learn/scikit-learn/issues/21755 */display: inline-block !important;position: relative;}#sk-container-id-1 div.sk-text-repr-fallback {display: none;}</style><div id=\"sk-container-id-1\" class=\"sk-top-container\"><div class=\"sk-text-repr-fallback\"><pre>OneHotEncoder(sparse_output=False)</pre><b>In a Jupyter environment, please rerun this cell to show the HTML representation or trust the notebook. <br />On GitHub, the HTML representation is unable to render, please try loading this page with nbviewer.org.</b></div><div class=\"sk-container\" hidden><div class=\"sk-item\"><div class=\"sk-estimator sk-toggleable\"><input class=\"sk-toggleable__control sk-hidden--visually\" id=\"sk-estimator-id-1\" type=\"checkbox\" checked><label for=\"sk-estimator-id-1\" class=\"sk-toggleable__label sk-toggleable__label-arrow\">OneHotEncoder</label><div class=\"sk-toggleable__content\"><pre>OneHotEncoder(sparse_output=False)</pre></div></div></div></div></div>"
      ],
      "text/plain": [
       "OneHotEncoder(sparse_output=False)"
      ]
     },
     "execution_count": 37,
     "metadata": {},
     "output_type": "execute_result"
    }
   ],
   "source": [
    "encoder = OneHotEncoder(sparse_output=False) # handle_unknown='error'\n",
    "encoder.fit(X)"
   ]
  },
  {
   "cell_type": "code",
   "execution_count": 38,
   "id": "90ecc999-4ab7-4eff-9b35-8cb1a4d7482e",
   "metadata": {},
   "outputs": [
    {
     "data": {
      "text/plain": [
       "array([[1., 0.],\n",
       "       [1., 0.],\n",
       "       [1., 0.],\n",
       "       [0., 1.]])"
      ]
     },
     "execution_count": 38,
     "metadata": {},
     "output_type": "execute_result"
    }
   ],
   "source": [
    "encoder.transform(X)"
   ]
  },
  {
   "cell_type": "code",
   "execution_count": 39,
   "id": "680cb30d-53c7-43f3-9260-bf6280c450e3",
   "metadata": {},
   "outputs": [],
   "source": [
    "Y = np.array([['A'],['A'],['B'],['C']])"
   ]
  },
  {
   "cell_type": "code",
   "execution_count": 40,
   "id": "0d9cf89f-80f9-4c09-9731-48c252999ca6",
   "metadata": {},
   "outputs": [
    {
     "data": {
      "text/plain": [
       "'\\nencoder.transform(Y)\\n\\n---------------------------------------------------------------------------\\nValueError                                Traceback (most recent call last)\\nCell In[39], line 2\\n      1 Y = np.array([[\\'A\\'],[\\'A\\'],[\\'B\\'],[\\'C\\']])\\n----> 2 encoder.transform(Y)\\n\\nFile /Library/Frameworks/Python.framework/Versions/3.8/lib/python3.8/site-packages/sklearn/utils/_set_output.py:157, in _wrap_method_output.<locals>.wrapped(self, X, *args, **kwargs)\\n    155 @wraps(f)\\n    156 def wrapped(self, X, *args, **kwargs):\\n--> 157     data_to_wrap = f(self, X, *args, **kwargs)\\n    158     if isinstance(data_to_wrap, tuple):\\n    159         # only wrap the first output for cross decomposition\\n    160         return_tuple = (\\n    161             _wrap_data_with_container(method, data_to_wrap[0], X, self),\\n    162             *data_to_wrap[1:],\\n    163         )\\n\\nFile /Library/Frameworks/Python.framework/Versions/3.8/lib/python3.8/site-packages/sklearn/preprocessing/_encoders.py:1027, in OneHotEncoder.transform(self, X)\\n   1022 # validation of X happens in _check_X called by _transform\\n   1023 warn_on_unknown = self.drop is not None and self.handle_unknown in {\\n   1024     \"ignore\",\\n   1025     \"infrequent_if_exist\",\\n   1026 }\\n-> 1027 X_int, X_mask = self._transform(\\n   1028     X,\\n   1029     handle_unknown=self.handle_unknown,\\n   1030     force_all_finite=\"allow-nan\",\\n   1031     warn_on_unknown=warn_on_unknown,\\n   1032 )\\n   1034 n_samples, n_features = X_int.shape\\n   1036 if self._drop_idx_after_grouping is not None:\\n\\nFile /Library/Frameworks/Python.framework/Versions/3.8/lib/python3.8/site-packages/sklearn/preprocessing/_encoders.py:200, in _BaseEncoder._transform(self, X, handle_unknown, force_all_finite, warn_on_unknown, ignore_category_indices)\\n    195 if handle_unknown == \"error\":\\n    196     msg = (\\n    197         \"Found unknown categories {0} in column {1}\"\\n    198         \" during transform\".format(diff, i)\\n    199     )\\n--> 200     raise ValueError(msg)\\n    201 else:\\n    202     if warn_on_unknown:\\n\\nValueError: Found unknown categories [\\'C\\'] in column 0 during transform\\n'"
      ]
     },
     "execution_count": 40,
     "metadata": {},
     "output_type": "execute_result"
    }
   ],
   "source": [
    "\"\"\"\n",
    "encoder.transform(Y)\n",
    "\n",
    "---------------------------------------------------------------------------\n",
    "ValueError                                Traceback (most recent call last)\n",
    "Cell In[39], line 2\n",
    "      1 Y = np.array([['A'],['A'],['B'],['C']])\n",
    "----> 2 encoder.transform(Y)\n",
    "\n",
    "File /Library/Frameworks/Python.framework/Versions/3.8/lib/python3.8/site-packages/sklearn/utils/_set_output.py:157, in _wrap_method_output.<locals>.wrapped(self, X, *args, **kwargs)\n",
    "    155 @wraps(f)\n",
    "    156 def wrapped(self, X, *args, **kwargs):\n",
    "--> 157     data_to_wrap = f(self, X, *args, **kwargs)\n",
    "    158     if isinstance(data_to_wrap, tuple):\n",
    "    159         # only wrap the first output for cross decomposition\n",
    "    160         return_tuple = (\n",
    "    161             _wrap_data_with_container(method, data_to_wrap[0], X, self),\n",
    "    162             *data_to_wrap[1:],\n",
    "    163         )\n",
    "\n",
    "File /Library/Frameworks/Python.framework/Versions/3.8/lib/python3.8/site-packages/sklearn/preprocessing/_encoders.py:1027, in OneHotEncoder.transform(self, X)\n",
    "   1022 # validation of X happens in _check_X called by _transform\n",
    "   1023 warn_on_unknown = self.drop is not None and self.handle_unknown in {\n",
    "   1024     \"ignore\",\n",
    "   1025     \"infrequent_if_exist\",\n",
    "   1026 }\n",
    "-> 1027 X_int, X_mask = self._transform(\n",
    "   1028     X,\n",
    "   1029     handle_unknown=self.handle_unknown,\n",
    "   1030     force_all_finite=\"allow-nan\",\n",
    "   1031     warn_on_unknown=warn_on_unknown,\n",
    "   1032 )\n",
    "   1034 n_samples, n_features = X_int.shape\n",
    "   1036 if self._drop_idx_after_grouping is not None:\n",
    "\n",
    "File /Library/Frameworks/Python.framework/Versions/3.8/lib/python3.8/site-packages/sklearn/preprocessing/_encoders.py:200, in _BaseEncoder._transform(self, X, handle_unknown, force_all_finite, warn_on_unknown, ignore_category_indices)\n",
    "    195 if handle_unknown == \"error\":\n",
    "    196     msg = (\n",
    "    197         \"Found unknown categories {0} in column {1}\"\n",
    "    198         \" during transform\".format(diff, i)\n",
    "    199     )\n",
    "--> 200     raise ValueError(msg)\n",
    "    201 else:\n",
    "    202     if warn_on_unknown:\n",
    "\n",
    "ValueError: Found unknown categories ['C'] in column 0 during transform\n",
    "\"\"\""
   ]
  },
  {
   "cell_type": "code",
   "execution_count": 41,
   "id": "530047f6-e138-443d-b720-6921be3c4cc0",
   "metadata": {},
   "outputs": [
    {
     "data": {
      "text/plain": [
       "array([[1., 0.],\n",
       "       [1., 0.],\n",
       "       [1., 0.],\n",
       "       [0., 1.]])"
      ]
     },
     "execution_count": 41,
     "metadata": {},
     "output_type": "execute_result"
    }
   ],
   "source": [
    "encoder = OneHotEncoder(sparse_output=False,handle_unknown='ignore')\n",
    "encoder.fit(X)\n",
    "encoder.transform(X)"
   ]
  },
  {
   "cell_type": "code",
   "execution_count": 42,
   "id": "fda3f45e-49f5-44d1-99e5-feb7d28a2c9a",
   "metadata": {},
   "outputs": [
    {
     "data": {
      "text/plain": [
       "array([[1., 0.],\n",
       "       [1., 0.],\n",
       "       [0., 1.],\n",
       "       [0., 0.]])"
      ]
     },
     "execution_count": 42,
     "metadata": {},
     "output_type": "execute_result"
    }
   ],
   "source": [
    "encoder.transform(Y)"
   ]
  },
  {
   "cell_type": "code",
   "execution_count": 43,
   "id": "35e0321b-463a-4308-8d8c-065741489c54",
   "metadata": {},
   "outputs": [
    {
     "data": {
      "text/plain": [
       "array([[1., 0., 0.],\n",
       "       [1., 0., 0.],\n",
       "       [0., 1., 0.],\n",
       "       [0., 0., 1.]])"
      ]
     },
     "execution_count": 43,
     "metadata": {},
     "output_type": "execute_result"
    }
   ],
   "source": [
    "encoder.fit(Y)\n",
    "encoder.transform(Y)"
   ]
  },
  {
   "cell_type": "markdown",
   "id": "583934d7-68eb-4dd0-ad4f-255591baa471",
   "metadata": {},
   "source": [
    "### Dealing with pairs of categories"
   ]
  },
  {
   "cell_type": "code",
   "execution_count": 44,
   "id": "50f985de-4933-45d1-8881-c44fdfeb17e1",
   "metadata": {},
   "outputs": [
    {
     "data": {
      "text/plain": [
       "array([[1., 0., 0., 0., 1., 0., 0.],\n",
       "       [0., 1., 0., 0., 0., 1., 0.],\n",
       "       [0., 0., 1., 0., 0., 0., 1.]])"
      ]
     },
     "execution_count": 44,
     "metadata": {},
     "output_type": "execute_result"
    }
   ],
   "source": [
    "X = [['A','X'],['B','Y'],['C','Z']]\n",
    "encoder = OneHotEncoder(sparse_output=False,categories=[['A','B','C','D'],['X','Y','Z']])\n",
    "encoder.fit_transform(X)"
   ]
  },
  {
   "cell_type": "code",
   "execution_count": 45,
   "id": "4004833d-b5bd-4e95-9bd2-651dd3ef1252",
   "metadata": {},
   "outputs": [
    {
     "data": {
      "text/plain": [
       "array([[0., 0., 0., 1., 0., 0., 1.]])"
      ]
     },
     "execution_count": 45,
     "metadata": {},
     "output_type": "execute_result"
    }
   ],
   "source": [
    "Y = [['D','Z']]\n",
    "encoder.transform(Y)"
   ]
  },
  {
   "cell_type": "markdown",
   "id": "ff69cb63-58fa-4e47-8501-a230c7f90bf6",
   "metadata": {},
   "source": [
    "## Ordinal encoding (no dummy variables / no dimensionality change)"
   ]
  },
  {
   "cell_type": "code",
   "execution_count": 46,
   "id": "0c19ae37-6d4f-486e-b7b6-42d6422c9cd0",
   "metadata": {},
   "outputs": [
    {
     "data": {
      "text/plain": [
       "array([[0.],\n",
       "       [1.],\n",
       "       [1.],\n",
       "       [2.]])"
      ]
     },
     "execution_count": 46,
     "metadata": {},
     "output_type": "execute_result"
    }
   ],
   "source": [
    "from sklearn.preprocessing import OrdinalEncoder\n",
    "X = [['High'],['Low'],['Low'],['Medium']]\n",
    "encoder = OrdinalEncoder()\n",
    "encoder.fit_transform(X)"
   ]
  },
  {
   "cell_type": "markdown",
   "id": "ea4a61e7-6ff4-435d-9ee9-8e90f94b471b",
   "metadata": {},
   "source": [
    "### We want Low -> 0 / Medium -> 1 / High -> 2"
   ]
  },
  {
   "cell_type": "code",
   "execution_count": 47,
   "id": "92139643-26d6-4cc3-a556-68f823679a6f",
   "metadata": {},
   "outputs": [
    {
     "data": {
      "text/plain": [
       "array([[2.],\n",
       "       [0.],\n",
       "       [0.],\n",
       "       [1.]])"
      ]
     },
     "execution_count": 47,
     "metadata": {},
     "output_type": "execute_result"
    }
   ],
   "source": [
    "encoder = OrdinalEncoder(categories=[['Low','Medium','High']])\n",
    "encoder.fit_transform(X)"
   ]
  },
  {
   "cell_type": "code",
   "execution_count": 48,
   "id": "a538f22b-4311-4c82-9abb-1fbab3f5fe1e",
   "metadata": {},
   "outputs": [
    {
     "data": {
      "text/plain": [
       "array([[2., 0.],\n",
       "       [0., 2.],\n",
       "       [0., 1.],\n",
       "       [1., 2.]])"
      ]
     },
     "execution_count": 48,
     "metadata": {},
     "output_type": "execute_result"
    }
   ],
   "source": [
    "X = [['High','A'],['Low','C'],['Low','B'],['Medium','C']]\n",
    "encoder = OrdinalEncoder(categories=[['Low','Medium','High'],['A','B','C']])\n",
    "encoder.fit_transform(X)"
   ]
  },
  {
   "cell_type": "code",
   "execution_count": 49,
   "id": "2d88b80e-88a6-4725-8719-60c839dd58ec",
   "metadata": {},
   "outputs": [
    {
     "data": {
      "text/plain": [
       "array([[0.],\n",
       "       [1.],\n",
       "       [2.],\n",
       "       [3.]])"
      ]
     },
     "execution_count": 49,
     "metadata": {},
     "output_type": "execute_result"
    }
   ],
   "source": [
    "X = [['Under 18'],['18-25'],['25-30'],['Over 30']]\n",
    "encoder = OrdinalEncoder(categories=[['Under 18','18-25','25-30','Over 30']])\n",
    "encoder.fit_transform(X)"
   ]
  },
  {
   "cell_type": "markdown",
   "id": "4ca8ddb8-dbf6-42db-ae68-b4d6fa41e663",
   "metadata": {},
   "source": [
    "## Label encoding of the target variable (used only for target variables not feature variables, to get integer labels (no order unlike ordinal encoding))"
   ]
  },
  {
   "cell_type": "code",
   "execution_count": 50,
   "id": "3d9af6d7-61a9-4b50-a467-40fb122684fb",
   "metadata": {},
   "outputs": [
    {
     "data": {
      "text/plain": [
       "array([0, 1, 1, 2, 3])"
      ]
     },
     "execution_count": 50,
     "metadata": {},
     "output_type": "execute_result"
    }
   ],
   "source": [
    "from sklearn.preprocessing import LabelEncoder\n",
    "\n",
    "Y = ['A','B','B','C','D']\n",
    "encoder = LabelEncoder()\n",
    "encoder.fit_transform(Y)"
   ]
  },
  {
   "cell_type": "code",
   "execution_count": 51,
   "id": "4e049924-ea4e-4d26-93df-7292f5c7d2a4",
   "metadata": {},
   "outputs": [
    {
     "data": {
      "text/plain": [
       "array(['A', 'B', 'B', 'C', 'D'], dtype='<U1')"
      ]
     },
     "execution_count": 51,
     "metadata": {},
     "output_type": "execute_result"
    }
   ],
   "source": [
    "encoder.inverse_transform(encoder.fit_transform(Y))"
   ]
  },
  {
   "cell_type": "markdown",
   "id": "a2c33a50-0d1e-4118-82f0-2d5400087afe",
   "metadata": {},
   "source": [
    "## Exercise 1\n",
    "* Use the dataset\n",
    "  X = [['X','High'],['Y','Low'],['Z','Medium'],['X','Low']]\n",
    "* Apply One-hot encoding to all variables\n",
    "* Apply One-hot encoding to the first column and ordinal encoding to the second column following the rank Low, Medium, High"
   ]
  },
  {
   "cell_type": "code",
   "execution_count": 52,
   "id": "6c92f663-4a12-4844-865f-b0927b4b4d14",
   "metadata": {},
   "outputs": [
    {
     "data": {
      "text/plain": [
       "array([[1., 0., 0., 1., 0., 0.],\n",
       "       [0., 1., 0., 0., 1., 0.],\n",
       "       [0., 0., 1., 0., 0., 1.],\n",
       "       [1., 0., 0., 0., 1., 0.]])"
      ]
     },
     "execution_count": 52,
     "metadata": {},
     "output_type": "execute_result"
    }
   ],
   "source": [
    "from sklearn.preprocessing import OneHotEncoder, OrdinalEncoder\n",
    "from sklearn.compose import ColumnTransformer\n",
    "\n",
    "X = [['X','High'],['Y','Low'],['Z','Medium'],['X','Low']]\n",
    "encoder = ColumnTransformer([\n",
    "    ('all_variables',OneHotEncoder(),[0,1])\n",
    "])\n",
    "encoder.fit_transform(X)"
   ]
  },
  {
   "cell_type": "code",
   "execution_count": 53,
   "id": "4c28fcd0-02aa-4907-b535-5b79d94d71a1",
   "metadata": {},
   "outputs": [
    {
     "data": {
      "text/plain": [
       "array([[1., 0., 0., 2.],\n",
       "       [0., 1., 0., 0.],\n",
       "       [0., 0., 1., 1.],\n",
       "       [1., 0., 0., 0.]])"
      ]
     },
     "execution_count": 53,
     "metadata": {},
     "output_type": "execute_result"
    }
   ],
   "source": [
    "encoder = ColumnTransformer([\n",
    "    ('first_column',OneHotEncoder(),[0]),\n",
    "    ('second_column',OrdinalEncoder(categories=[['Low','Medium','High']]),[1])\n",
    "])\n",
    "encoder.fit_transform(X)"
   ]
  },
  {
   "cell_type": "markdown",
   "id": "0ac8d28b-e5dd-4800-94fe-95425e4a4810",
   "metadata": {},
   "source": [
    "## Exercise 2\n",
    "* Use the dataset\n",
    "  X = [['X','High'],['Y','Low'],['Z','Medium'],['X','Low']]\n",
    "* Apply One-hot encoding to the first variable and ordinal encoding to the second variable.\n",
    "  - The first variable must be encoded considering this set of values: X, Y, Z, W.\n",
    "  - The second variable must be encoded considering this set of ranked values: Low, Medium, High, Very High\n",
    "* Consider the dataset:\n",
    "  Y = [['W','Very High']]\n",
    "* Transform this dataset according to the fitted encoder"
   ]
  },
  {
   "cell_type": "code",
   "execution_count": 54,
   "id": "05fc6e5b-7ae4-41da-85fb-0c7a2d1b91ad",
   "metadata": {},
   "outputs": [
    {
     "data": {
      "text/plain": [
       "array([[1., 0., 0., 0., 2.],\n",
       "       [0., 1., 0., 0., 0.],\n",
       "       [0., 0., 1., 0., 1.],\n",
       "       [1., 0., 0., 0., 0.]])"
      ]
     },
     "execution_count": 54,
     "metadata": {},
     "output_type": "execute_result"
    }
   ],
   "source": [
    "from sklearn.preprocessing import OneHotEncoder, OrdinalEncoder\n",
    "from sklearn.compose import ColumnTransformer\n",
    "\n",
    "X = [['X','High'],['Y','Low'],['Z','Medium'],['X','Low']]\n",
    "encoder = ColumnTransformer([\n",
    "    ('first_variable',OneHotEncoder(categories=[['X','Y','Z','W']]),[0]),\n",
    "    ('second_variable',OrdinalEncoder(categories=[['Low','Medium','High','Very High']]),[1])\n",
    "])\n",
    "encoder.fit_transform(X)"
   ]
  },
  {
   "cell_type": "code",
   "execution_count": 55,
   "id": "ed163867-c76c-403b-a972-08adc7e64339",
   "metadata": {},
   "outputs": [
    {
     "data": {
      "text/plain": [
       "array([[0., 0., 0., 1., 3.]])"
      ]
     },
     "execution_count": 55,
     "metadata": {},
     "output_type": "execute_result"
    }
   ],
   "source": [
    "Y = [['W','Very High']]\n",
    "encoder.transform(Y)"
   ]
  },
  {
   "cell_type": "markdown",
   "id": "935148f6-c54e-4190-904c-0f997ab48606",
   "metadata": {},
   "source": [
    "# Transformations of the numerical features"
   ]
  },
  {
   "cell_type": "markdown",
   "id": "06d478b0-c636-4e69-9ba1-9bdfeb279b44",
   "metadata": {},
   "source": [
    "## Power Transformation (useful when we have features that have a high skewness (find the coefficients that lowers the skewness) to make the distribution of features more symmetrical / having a high skewness can yield problems when using distance-based algorithms (supervised machine learning: KNN / unsupervised machine learning: K-means & DBSCAN))"
   ]
  },
  {
   "cell_type": "code",
   "execution_count": 56,
   "id": "2080a63f-295f-4fe6-80b6-31856e17d736",
   "metadata": {},
   "outputs": [
    {
     "data": {
      "text/html": [
       "<div>\n",
       "<style scoped>\n",
       "    .dataframe tbody tr th:only-of-type {\n",
       "        vertical-align: middle;\n",
       "    }\n",
       "\n",
       "    .dataframe tbody tr th {\n",
       "        vertical-align: top;\n",
       "    }\n",
       "\n",
       "    .dataframe thead th {\n",
       "        text-align: right;\n",
       "    }\n",
       "</style>\n",
       "<table border=\"1\" class=\"dataframe\">\n",
       "  <thead>\n",
       "    <tr style=\"text-align: right;\">\n",
       "      <th></th>\n",
       "      <th>mean radius</th>\n",
       "      <th>mean texture</th>\n",
       "      <th>mean perimeter</th>\n",
       "      <th>mean area</th>\n",
       "      <th>mean smoothness</th>\n",
       "    </tr>\n",
       "  </thead>\n",
       "  <tbody>\n",
       "    <tr>\n",
       "      <th>2</th>\n",
       "      <td>19.69</td>\n",
       "      <td>21.25</td>\n",
       "      <td>130.00</td>\n",
       "      <td>1203.0</td>\n",
       "      <td>0.10960</td>\n",
       "    </tr>\n",
       "    <tr>\n",
       "      <th>3</th>\n",
       "      <td>11.42</td>\n",
       "      <td>20.38</td>\n",
       "      <td>77.58</td>\n",
       "      <td>386.1</td>\n",
       "      <td>0.14250</td>\n",
       "    </tr>\n",
       "    <tr>\n",
       "      <th>8</th>\n",
       "      <td>13.00</td>\n",
       "      <td>21.82</td>\n",
       "      <td>87.50</td>\n",
       "      <td>519.8</td>\n",
       "      <td>0.12730</td>\n",
       "    </tr>\n",
       "    <tr>\n",
       "      <th>13</th>\n",
       "      <td>15.85</td>\n",
       "      <td>23.95</td>\n",
       "      <td>103.70</td>\n",
       "      <td>782.7</td>\n",
       "      <td>0.08401</td>\n",
       "    </tr>\n",
       "    <tr>\n",
       "      <th>14</th>\n",
       "      <td>13.73</td>\n",
       "      <td>22.61</td>\n",
       "      <td>93.60</td>\n",
       "      <td>578.3</td>\n",
       "      <td>0.11310</td>\n",
       "    </tr>\n",
       "    <tr>\n",
       "      <th>...</th>\n",
       "      <td>...</td>\n",
       "      <td>...</td>\n",
       "      <td>...</td>\n",
       "      <td>...</td>\n",
       "      <td>...</td>\n",
       "    </tr>\n",
       "    <tr>\n",
       "      <th>549</th>\n",
       "      <td>10.82</td>\n",
       "      <td>24.21</td>\n",
       "      <td>68.89</td>\n",
       "      <td>361.6</td>\n",
       "      <td>0.08192</td>\n",
       "    </tr>\n",
       "    <tr>\n",
       "      <th>550</th>\n",
       "      <td>10.86</td>\n",
       "      <td>21.48</td>\n",
       "      <td>68.51</td>\n",
       "      <td>360.5</td>\n",
       "      <td>0.07431</td>\n",
       "    </tr>\n",
       "    <tr>\n",
       "      <th>560</th>\n",
       "      <td>14.05</td>\n",
       "      <td>27.15</td>\n",
       "      <td>91.38</td>\n",
       "      <td>600.4</td>\n",
       "      <td>0.09929</td>\n",
       "    </tr>\n",
       "    <tr>\n",
       "      <th>564</th>\n",
       "      <td>21.56</td>\n",
       "      <td>22.39</td>\n",
       "      <td>142.00</td>\n",
       "      <td>1479.0</td>\n",
       "      <td>0.11100</td>\n",
       "    </tr>\n",
       "    <tr>\n",
       "      <th>567</th>\n",
       "      <td>20.60</td>\n",
       "      <td>29.33</td>\n",
       "      <td>140.10</td>\n",
       "      <td>1265.0</td>\n",
       "      <td>0.11780</td>\n",
       "    </tr>\n",
       "  </tbody>\n",
       "</table>\n",
       "<p>176 rows × 5 columns</p>\n",
       "</div>"
      ],
      "text/plain": [
       "     mean radius  mean texture  mean perimeter  mean area  mean smoothness\n",
       "2          19.69         21.25          130.00     1203.0          0.10960\n",
       "3          11.42         20.38           77.58      386.1          0.14250\n",
       "8          13.00         21.82           87.50      519.8          0.12730\n",
       "13         15.85         23.95          103.70      782.7          0.08401\n",
       "14         13.73         22.61           93.60      578.3          0.11310\n",
       "..           ...           ...             ...        ...              ...\n",
       "549        10.82         24.21           68.89      361.6          0.08192\n",
       "550        10.86         21.48           68.51      360.5          0.07431\n",
       "560        14.05         27.15           91.38      600.4          0.09929\n",
       "564        21.56         22.39          142.00     1479.0          0.11100\n",
       "567        20.60         29.33          140.10     1265.0          0.11780\n",
       "\n",
       "[176 rows x 5 columns]"
      ]
     },
     "execution_count": 56,
     "metadata": {},
     "output_type": "execute_result"
    }
   ],
   "source": [
    "df = pd.read_csv('sample_dataset.csv').iloc[:,0:5].dropna()\n",
    "df"
   ]
  },
  {
   "cell_type": "code",
   "execution_count": 57,
   "id": "8339604f-68ed-4fa3-a96d-edc7010d2557",
   "metadata": {},
   "outputs": [
    {
     "data": {
      "text/plain": [
       "<Axes: >"
      ]
     },
     "execution_count": 57,
     "metadata": {},
     "output_type": "execute_result"
    },
    {
     "data": {
      "image/png": "[encoded data removed]",
      "text/plain": [
       "<Figure size 640x480 with 1 Axes>"
      ]
     },
     "metadata": {},
     "output_type": "display_data"
    }
   ],
   "source": [
    "import matplotlib.pyplot as plt\n",
    "\n",
    "df['mean radius'].hist()"
   ]
  },
  {
   "cell_type": "markdown",
   "id": "053f1075-8a87-4728-a5df-b09096c62ce5",
   "metadata": {},
   "source": [
    "### Yeo-Johnson power transformation with standardization"
   ]
  },
  {
   "cell_type": "code",
   "execution_count": 58,
   "id": "2d1828d4-a8a0-4489-ba1b-25e000e50419",
   "metadata": {},
   "outputs": [
    {
     "data": {
      "image/png": "[encoded data removed]",
      "text/plain": [
       "<IPython.core.display.Image object>"
      ]
     },
     "execution_count": 58,
     "metadata": {},
     "output_type": "execute_result"
    }
   ],
   "source": [
    "# !pip install IPython\n",
    "from IPython.display import Image\n",
    "\n",
    "\"\"\"\n",
    "The optimal parameter λ for stabilizing variance and minimizing skewness is estimated through maximum likelihood.\n",
    "\"\"\"\n",
    "Image(\"yeo-johnson_transformation.png\")"
   ]
  },
  {
   "cell_type": "code",
   "execution_count": 59,
   "id": "ee0c286b-d460-42ff-836c-c75603d9eea3",
   "metadata": {},
   "outputs": [
    {
     "data": {
      "text/plain": [
       "(array([ 4.,  7., 13., 34., 39., 22., 20., 27.,  9.,  1.]),\n",
       " array([-2.54500997, -2.03906968, -1.53312938, -1.02718909, -0.52124879,\n",
       "        -0.01530849,  0.4906318 ,  0.9965721 ,  1.50251239,  2.00845269,\n",
       "         2.51439299]),\n",
       " <BarContainer object of 10 artists>)"
      ]
     },
     "execution_count": 59,
     "metadata": {},
     "output_type": "execute_result"
    },
    {
     "data": {
      "image/png": "[encoded data removed]",
      "text/plain": [
       "<Figure size 640x480 with 1 Axes>"
      ]
     },
     "metadata": {},
     "output_type": "display_data"
    }
   ],
   "source": [
    "from sklearn.preprocessing import PowerTransformer\n",
    "\n",
    "transformer = PowerTransformer() # 'yeo-johnson',standardize=True\n",
    "t = transformer.fit_transform(df)\n",
    "plt.hist(t[:,0])"
   ]
  },
  {
   "cell_type": "markdown",
   "id": "54c2af0a-945b-4ad6-981e-14ea0bfe8511",
   "metadata": {},
   "source": [
    "### Yeo-Johnson power transformation with no standardization"
   ]
  },
  {
   "cell_type": "code",
   "execution_count": 60,
   "id": "a71035f9-4173-4c9c-b006-b82c31b053af",
   "metadata": {},
   "outputs": [
    {
     "data": {
      "text/plain": [
       "(array([ 4.,  7., 13., 34., 39., 22., 20., 27.,  9.,  1.]),\n",
       " array([1.15402495, 1.17204755, 1.19007015, 1.20809274, 1.22611534,\n",
       "        1.24413794, 1.26216054, 1.28018313, 1.29820573, 1.31622833,\n",
       "        1.33425092]),\n",
       " <BarContainer object of 10 artists>)"
      ]
     },
     "execution_count": 60,
     "metadata": {},
     "output_type": "execute_result"
    },
    {
     "data": {
      "image/png": "[encoded data removed]",
      "text/plain": [
       "<Figure size 640x480 with 1 Axes>"
      ]
     },
     "metadata": {},
     "output_type": "display_data"
    }
   ],
   "source": [
    "transformer = PowerTransformer('yeo-johnson',standardize=False)\n",
    "t = transformer.fit_transform(df)\n",
    "plt.hist(t[:,0])"
   ]
  },
  {
   "cell_type": "markdown",
   "id": "4d7dbf4f-c30f-4515-9fdb-84784c20f37b",
   "metadata": {},
   "source": [
    "### Box-Cox transformation (only works with positive features)"
   ]
  },
  {
   "cell_type": "code",
   "execution_count": 61,
   "id": "d6522296-66c8-40d8-875b-8d35752cf4e6",
   "metadata": {},
   "outputs": [
    {
     "data": {
      "image/png": "[encoded data removed]",
      "text/plain": [
       "<IPython.core.display.Image object>"
      ]
     },
     "execution_count": 61,
     "metadata": {},
     "output_type": "execute_result"
    }
   ],
   "source": [
    "\"\"\"\n",
    "The optimal parameter λ for stabilizing variance and minimizing skewness is estimated through maximum likelihood.\n",
    "\"\"\"\n",
    "Image(\"box-cox_transformation.png\")"
   ]
  },
  {
   "cell_type": "code",
   "execution_count": 62,
   "id": "4aca9fb6-bb87-47b2-8306-26ec39fded20",
   "metadata": {},
   "outputs": [
    {
     "data": {
      "text/plain": [
       "(array([ 4.,  7., 12., 34., 40., 22., 20., 28.,  8.,  1.]),\n",
       " array([-2.55704078, -2.04914825, -1.54125572, -1.03336319, -0.52547065,\n",
       "        -0.01757812,  0.49031441,  0.99820694,  1.50609948,  2.01399201,\n",
       "         2.52188454]),\n",
       " <BarContainer object of 10 artists>)"
      ]
     },
     "execution_count": 62,
     "metadata": {},
     "output_type": "execute_result"
    },
    {
     "data": {
      "image/png": "[encoded data removed]",
      "text/plain": [
       "<Figure size 640x480 with 1 Axes>"
      ]
     },
     "metadata": {},
     "output_type": "display_data"
    }
   ],
   "source": [
    "transformer = PowerTransformer('box-cox')\n",
    "t = transformer.fit_transform(df)\n",
    "plt.hist(t[:,0])"
   ]
  },
  {
   "cell_type": "code",
   "execution_count": 63,
   "id": "73faafc2-a0c4-4d9d-8550-ee3fa6964066",
   "metadata": {},
   "outputs": [
    {
     "data": {
      "text/plain": [
       "(array([ 8., 27., 44., 49., 28., 12.,  5.,  2.,  0.,  1.]),\n",
       " array([ 9.71 , 12.667, 15.624, 18.581, 21.538, 24.495, 27.452, 30.409,\n",
       "        33.366, 36.323, 39.28 ]),\n",
       " <BarContainer object of 10 artists>)"
      ]
     },
     "execution_count": 63,
     "metadata": {},
     "output_type": "execute_result"
    },
    {
     "data": {
      "image/png": "[encoded data removed]",
      "text/plain": [
       "<Figure size 640x480 with 1 Axes>"
      ]
     },
     "metadata": {},
     "output_type": "display_data"
    }
   ],
   "source": [
    "plt.hist(df['mean texture'])"
   ]
  },
  {
   "cell_type": "code",
   "execution_count": 64,
   "id": "ac4350c7-c3ea-443a-a4cf-73a9c8e0da90",
   "metadata": {},
   "outputs": [
    {
     "data": {
      "text/plain": [
       "(array([ 2., 10., 20., 32., 37., 42., 20., 10.,  2.,  1.]),\n",
       " array([-2.81207169, -2.2030934 , -1.5941151 , -0.9851368 , -0.3761585 ,\n",
       "         0.2328198 ,  0.8417981 ,  1.45077639,  2.05975469,  2.66873299,\n",
       "         3.27771129]),\n",
       " <BarContainer object of 10 artists>)"
      ]
     },
     "execution_count": 64,
     "metadata": {},
     "output_type": "execute_result"
    },
    {
     "data": {
      "image/png": "[encoded data removed]",
      "text/plain": [
       "<Figure size 640x480 with 1 Axes>"
      ]
     },
     "metadata": {},
     "output_type": "display_data"
    }
   ],
   "source": [
    "plt.hist(t[:,1])"
   ]
  },
  {
   "cell_type": "markdown",
   "id": "60f21ca8-59f8-4344-a0dc-8660013c3bf9",
   "metadata": {},
   "source": [
    "## Binning (useful to discretize numerical variables into categorical variables when dealing with machine learning models such as Bayesian models )"
   ]
  },
  {
   "cell_type": "code",
   "execution_count": 65,
   "id": "cf666c00-4e3b-4568-8a7d-fa539b7bd178",
   "metadata": {},
   "outputs": [
    {
     "data": {
      "text/html": [
       "<div>\n",
       "<style scoped>\n",
       "    .dataframe tbody tr th:only-of-type {\n",
       "        vertical-align: middle;\n",
       "    }\n",
       "\n",
       "    .dataframe tbody tr th {\n",
       "        vertical-align: top;\n",
       "    }\n",
       "\n",
       "    .dataframe thead th {\n",
       "        text-align: right;\n",
       "    }\n",
       "</style>\n",
       "<table border=\"1\" class=\"dataframe\">\n",
       "  <thead>\n",
       "    <tr style=\"text-align: right;\">\n",
       "      <th></th>\n",
       "      <th>mean radius</th>\n",
       "      <th>mean texture</th>\n",
       "      <th>mean perimeter</th>\n",
       "      <th>mean area</th>\n",
       "      <th>mean smoothness</th>\n",
       "    </tr>\n",
       "  </thead>\n",
       "  <tbody>\n",
       "    <tr>\n",
       "      <th>2</th>\n",
       "      <td>19.69</td>\n",
       "      <td>21.25</td>\n",
       "      <td>130.00</td>\n",
       "      <td>1203.0</td>\n",
       "      <td>0.10960</td>\n",
       "    </tr>\n",
       "    <tr>\n",
       "      <th>3</th>\n",
       "      <td>11.42</td>\n",
       "      <td>20.38</td>\n",
       "      <td>77.58</td>\n",
       "      <td>386.1</td>\n",
       "      <td>0.14250</td>\n",
       "    </tr>\n",
       "    <tr>\n",
       "      <th>8</th>\n",
       "      <td>13.00</td>\n",
       "      <td>21.82</td>\n",
       "      <td>87.50</td>\n",
       "      <td>519.8</td>\n",
       "      <td>0.12730</td>\n",
       "    </tr>\n",
       "    <tr>\n",
       "      <th>13</th>\n",
       "      <td>15.85</td>\n",
       "      <td>23.95</td>\n",
       "      <td>103.70</td>\n",
       "      <td>782.7</td>\n",
       "      <td>0.08401</td>\n",
       "    </tr>\n",
       "    <tr>\n",
       "      <th>14</th>\n",
       "      <td>13.73</td>\n",
       "      <td>22.61</td>\n",
       "      <td>93.60</td>\n",
       "      <td>578.3</td>\n",
       "      <td>0.11310</td>\n",
       "    </tr>\n",
       "    <tr>\n",
       "      <th>...</th>\n",
       "      <td>...</td>\n",
       "      <td>...</td>\n",
       "      <td>...</td>\n",
       "      <td>...</td>\n",
       "      <td>...</td>\n",
       "    </tr>\n",
       "    <tr>\n",
       "      <th>549</th>\n",
       "      <td>10.82</td>\n",
       "      <td>24.21</td>\n",
       "      <td>68.89</td>\n",
       "      <td>361.6</td>\n",
       "      <td>0.08192</td>\n",
       "    </tr>\n",
       "    <tr>\n",
       "      <th>550</th>\n",
       "      <td>10.86</td>\n",
       "      <td>21.48</td>\n",
       "      <td>68.51</td>\n",
       "      <td>360.5</td>\n",
       "      <td>0.07431</td>\n",
       "    </tr>\n",
       "    <tr>\n",
       "      <th>560</th>\n",
       "      <td>14.05</td>\n",
       "      <td>27.15</td>\n",
       "      <td>91.38</td>\n",
       "      <td>600.4</td>\n",
       "      <td>0.09929</td>\n",
       "    </tr>\n",
       "    <tr>\n",
       "      <th>564</th>\n",
       "      <td>21.56</td>\n",
       "      <td>22.39</td>\n",
       "      <td>142.00</td>\n",
       "      <td>1479.0</td>\n",
       "      <td>0.11100</td>\n",
       "    </tr>\n",
       "    <tr>\n",
       "      <th>567</th>\n",
       "      <td>20.60</td>\n",
       "      <td>29.33</td>\n",
       "      <td>140.10</td>\n",
       "      <td>1265.0</td>\n",
       "      <td>0.11780</td>\n",
       "    </tr>\n",
       "  </tbody>\n",
       "</table>\n",
       "<p>176 rows × 5 columns</p>\n",
       "</div>"
      ],
      "text/plain": [
       "     mean radius  mean texture  mean perimeter  mean area  mean smoothness\n",
       "2          19.69         21.25          130.00     1203.0          0.10960\n",
       "3          11.42         20.38           77.58      386.1          0.14250\n",
       "8          13.00         21.82           87.50      519.8          0.12730\n",
       "13         15.85         23.95          103.70      782.7          0.08401\n",
       "14         13.73         22.61           93.60      578.3          0.11310\n",
       "..           ...           ...             ...        ...              ...\n",
       "549        10.82         24.21           68.89      361.6          0.08192\n",
       "550        10.86         21.48           68.51      360.5          0.07431\n",
       "560        14.05         27.15           91.38      600.4          0.09929\n",
       "564        21.56         22.39          142.00     1479.0          0.11100\n",
       "567        20.60         29.33          140.10     1265.0          0.11780\n",
       "\n",
       "[176 rows x 5 columns]"
      ]
     },
     "execution_count": 65,
     "metadata": {},
     "output_type": "execute_result"
    }
   ],
   "source": [
    "from sklearn.preprocessing import KBinsDiscretizer\n",
    "\n",
    "df = pd.read_csv('sample_dataset.csv').iloc[:,0:5].dropna()\n",
    "df"
   ]
  },
  {
   "cell_type": "markdown",
   "id": "7964836a-066f-4a98-87ac-9d6983c07544",
   "metadata": {},
   "source": [
    "### Bins with uniform width"
   ]
  },
  {
   "cell_type": "code",
   "execution_count": 66,
   "id": "fc489081-8262-4cb7-b78e-9562185eeb2b",
   "metadata": {},
   "outputs": [
    {
     "name": "stderr",
     "output_type": "stream",
     "text": [
      "/Library/Frameworks/Python.framework/Versions/3.8/lib/python3.8/site-packages/sklearn/preprocessing/_discretization.py:248: FutureWarning: In version 1.5 onwards, subsample=200_000 will be used by default. Set subsample explicitly to silence this warning in the mean time. Set subsample=None to disable subsampling explicitly.\n",
      "  warnings.warn(\n"
     ]
    },
    {
     "data": {
      "text/plain": [
       "<176x25 sparse matrix of type '<class 'numpy.float64'>'\n",
       "\twith 880 stored elements in Compressed Sparse Row format>"
      ]
     },
     "execution_count": 66,
     "metadata": {},
     "output_type": "execute_result"
    }
   ],
   "source": [
    "transformer = KBinsDiscretizer(strategy='uniform',n_bins=5)\n",
    "transformer.fit_transform(df)"
   ]
  },
  {
   "cell_type": "code",
   "execution_count": 67,
   "id": "7eddb349-7f4b-4782-9efc-c733c7af6369",
   "metadata": {},
   "outputs": [
    {
     "name": "stderr",
     "output_type": "stream",
     "text": [
      "/Library/Frameworks/Python.framework/Versions/3.8/lib/python3.8/site-packages/sklearn/preprocessing/_discretization.py:248: FutureWarning: In version 1.5 onwards, subsample=200_000 will be used by default. Set subsample explicitly to silence this warning in the mean time. Set subsample=None to disable subsampling explicitly.\n",
      "  warnings.warn(\n"
     ]
    },
    {
     "data": {
      "text/plain": [
       "array([[0., 0., 1., ..., 1., 0., 0.],\n",
       "       [1., 0., 0., ..., 0., 0., 1.],\n",
       "       [0., 1., 0., ..., 0., 0., 1.],\n",
       "       ...,\n",
       "       [0., 1., 0., ..., 1., 0., 0.],\n",
       "       [0., 0., 0., ..., 1., 0., 0.],\n",
       "       [0., 0., 0., ..., 0., 1., 0.]])"
      ]
     },
     "execution_count": 67,
     "metadata": {},
     "output_type": "execute_result"
    }
   ],
   "source": [
    "transformer = KBinsDiscretizer(strategy='uniform',n_bins=5,encode='onehot-dense')\n",
    "transformer.fit_transform(df)"
   ]
  },
  {
   "cell_type": "markdown",
   "id": "cb11e731-81ac-4f3f-9c00-d5ef2d0f8cb0",
   "metadata": {},
   "source": [
    "### (recommended to use encode='ordinal' instead of 'onehot-dense')"
   ]
  },
  {
   "cell_type": "code",
   "execution_count": 68,
   "id": "ef6f13de-1b1e-48c4-9694-f7744f9add36",
   "metadata": {},
   "outputs": [
    {
     "name": "stderr",
     "output_type": "stream",
     "text": [
      "/Library/Frameworks/Python.framework/Versions/3.8/lib/python3.8/site-packages/sklearn/preprocessing/_discretization.py:248: FutureWarning: In version 1.5 onwards, subsample=200_000 will be used by default. Set subsample explicitly to silence this warning in the mean time. Set subsample=None to disable subsampling explicitly.\n",
      "  warnings.warn(\n"
     ]
    },
    {
     "data": {
      "text/plain": [
       "array([[2., 1., 2., 2., 2.],\n",
       "       [0., 1., 0., 0., 4.],\n",
       "       [1., 2., 1., 0., 4.],\n",
       "       [1., 2., 1., 1., 1.],\n",
       "       [1., 2., 1., 0., 3.],\n",
       "       [2., 2., 2., 2., 2.],\n",
       "       [1., 1., 1., 0., 2.],\n",
       "       [0., 0., 0., 0., 2.],\n",
       "       [2., 1., 2., 1., 3.],\n",
       "       [1., 1., 1., 0., 2.],\n",
       "       [2., 2., 2., 1., 3.],\n",
       "       [2., 2., 2., 2., 1.],\n",
       "       [1., 1., 1., 0., 1.],\n",
       "       [1., 1., 1., 0., 2.],\n",
       "       [2., 2., 2., 1., 1.],\n",
       "       [1., 1., 1., 0., 2.],\n",
       "       [2., 1., 2., 1., 2.],\n",
       "       [0., 1., 0., 0., 1.],\n",
       "       [2., 1., 2., 1., 3.],\n",
       "       [1., 1., 1., 0., 1.],\n",
       "       [0., 0., 0., 0., 2.],\n",
       "       [0., 0., 0., 0., 0.],\n",
       "       [1., 2., 1., 0., 3.],\n",
       "       [0., 1., 0., 0., 2.],\n",
       "       [0., 0., 0., 0., 2.],\n",
       "       [1., 1., 1., 0., 2.],\n",
       "       [1., 0., 1., 0., 4.],\n",
       "       [3., 2., 3., 2., 4.],\n",
       "       [0., 1., 0., 0., 2.],\n",
       "       [1., 0., 1., 0., 4.],\n",
       "       [1., 1., 1., 0., 0.],\n",
       "       [0., 1., 0., 0., 3.],\n",
       "       [2., 1., 2., 1., 2.],\n",
       "       [2., 1., 2., 2., 1.],\n",
       "       [1., 1., 1., 1., 3.],\n",
       "       [2., 2., 2., 2., 2.],\n",
       "       [2., 2., 2., 1., 1.],\n",
       "       [1., 2., 1., 0., 1.],\n",
       "       [0., 0., 0., 0., 3.],\n",
       "       [0., 1., 0., 0., 2.],\n",
       "       [0., 1., 0., 0., 2.],\n",
       "       [1., 1., 1., 0., 3.],\n",
       "       [0., 1., 0., 0., 1.],\n",
       "       [0., 0., 0., 0., 1.],\n",
       "       [2., 1., 2., 2., 1.],\n",
       "       [3., 2., 3., 3., 1.],\n",
       "       [0., 0., 0., 0., 2.],\n",
       "       [2., 2., 2., 1., 2.],\n",
       "       [1., 1., 1., 1., 2.],\n",
       "       [1., 0., 0., 0., 2.],\n",
       "       [2., 1., 2., 1., 2.],\n",
       "       [0., 0., 0., 0., 1.],\n",
       "       [0., 0., 0., 0., 1.],\n",
       "       [0., 1., 0., 0., 2.],\n",
       "       [2., 2., 2., 2., 1.],\n",
       "       [1., 1., 1., 0., 2.],\n",
       "       [1., 1., 1., 1., 1.],\n",
       "       [1., 2., 1., 0., 2.],\n",
       "       [3., 2., 3., 2., 1.],\n",
       "       [4., 1., 4., 4., 3.],\n",
       "       [2., 2., 2., 1., 2.],\n",
       "       [1., 1., 1., 0., 2.],\n",
       "       [2., 3., 2., 2., 1.],\n",
       "       [2., 4., 2., 1., 2.],\n",
       "       [0., 1., 0., 0., 1.],\n",
       "       [2., 1., 2., 2., 2.],\n",
       "       [2., 1., 2., 1., 2.],\n",
       "       [1., 1., 1., 0., 2.],\n",
       "       [2., 2., 2., 1., 1.],\n",
       "       [1., 1., 1., 1., 0.],\n",
       "       [1., 1., 1., 0., 1.],\n",
       "       [1., 1., 1., 0., 0.],\n",
       "       [0., 1., 0., 0., 3.],\n",
       "       [2., 1., 2., 1., 1.],\n",
       "       [2., 2., 2., 2., 2.],\n",
       "       [0., 0., 0., 0., 0.],\n",
       "       [1., 0., 1., 0., 0.],\n",
       "       [0., 1., 0., 0., 1.],\n",
       "       [1., 0., 1., 0., 2.],\n",
       "       [0., 0., 0., 0., 1.],\n",
       "       [2., 1., 2., 2., 3.],\n",
       "       [1., 1., 1., 0., 1.],\n",
       "       [2., 2., 3., 2., 2.],\n",
       "       [0., 2., 0., 0., 0.],\n",
       "       [1., 0., 1., 0., 1.],\n",
       "       [1., 1., 0., 0., 1.],\n",
       "       [0., 0., 0., 0., 0.],\n",
       "       [1., 1., 0., 0., 0.],\n",
       "       [3., 1., 2., 2., 1.],\n",
       "       [3., 1., 3., 2., 3.],\n",
       "       [1., 0., 0., 0., 1.],\n",
       "       [1., 0., 1., 0., 1.],\n",
       "       [1., 1., 1., 0., 2.],\n",
       "       [0., 0., 0., 0., 1.],\n",
       "       [1., 1., 0., 0., 1.],\n",
       "       [1., 0., 1., 0., 1.],\n",
       "       [0., 1., 0., 0., 2.],\n",
       "       [0., 1., 0., 0., 1.],\n",
       "       [0., 1., 0., 0., 1.],\n",
       "       [1., 0., 1., 1., 1.],\n",
       "       [1., 1., 1., 1., 3.],\n",
       "       [1., 1., 1., 0., 1.],\n",
       "       [2., 1., 1., 1., 2.],\n",
       "       [3., 2., 2., 2., 2.],\n",
       "       [1., 1., 0., 0., 1.],\n",
       "       [1., 1., 1., 0., 1.],\n",
       "       [1., 1., 1., 1., 2.],\n",
       "       [1., 3., 1., 0., 0.],\n",
       "       [0., 0., 0., 0., 3.],\n",
       "       [0., 0., 0., 0., 0.],\n",
       "       [0., 2., 0., 0., 0.],\n",
       "       [2., 2., 2., 2., 2.],\n",
       "       [0., 0., 0., 0., 2.],\n",
       "       [0., 1., 0., 0., 2.],\n",
       "       [1., 1., 1., 1., 3.],\n",
       "       [3., 2., 3., 2., 3.],\n",
       "       [1., 1., 1., 0., 2.],\n",
       "       [0., 0., 0., 0., 0.],\n",
       "       [1., 0., 0., 0., 1.],\n",
       "       [0., 1., 0., 0., 2.],\n",
       "       [1., 1., 1., 0., 0.],\n",
       "       [2., 1., 2., 1., 2.],\n",
       "       [0., 1., 0., 0., 2.],\n",
       "       [1., 1., 1., 1., 3.],\n",
       "       [0., 1., 0., 0., 2.],\n",
       "       [0., 1., 0., 0., 1.],\n",
       "       [0., 1., 0., 0., 2.],\n",
       "       [0., 2., 0., 0., 1.],\n",
       "       [1., 2., 1., 1., 2.],\n",
       "       [3., 1., 2., 2., 3.],\n",
       "       [0., 1., 0., 0., 1.],\n",
       "       [0., 2., 0., 0., 2.],\n",
       "       [2., 3., 2., 1., 2.],\n",
       "       [1., 1., 1., 1., 1.],\n",
       "       [2., 2., 2., 2., 2.],\n",
       "       [1., 3., 1., 0., 1.],\n",
       "       [2., 2., 2., 1., 2.],\n",
       "       [0., 1., 0., 0., 1.],\n",
       "       [1., 1., 1., 0., 0.],\n",
       "       [1., 1., 1., 0., 1.],\n",
       "       [2., 2., 2., 1., 1.],\n",
       "       [0., 3., 0., 0., 1.],\n",
       "       [0., 0., 0., 0., 2.],\n",
       "       [2., 1., 2., 1., 2.],\n",
       "       [1., 0., 1., 1., 2.],\n",
       "       [1., 1., 1., 0., 1.],\n",
       "       [2., 1., 1., 1., 0.],\n",
       "       [1., 2., 0., 0., 1.],\n",
       "       [1., 0., 0., 0., 0.],\n",
       "       [1., 1., 1., 0., 0.],\n",
       "       [1., 1., 1., 0., 1.],\n",
       "       [3., 1., 3., 2., 2.],\n",
       "       [1., 2., 1., 0., 3.],\n",
       "       [3., 1., 3., 3., 1.],\n",
       "       [1., 2., 1., 1., 3.],\n",
       "       [0., 0., 0., 0., 1.],\n",
       "       [1., 0., 1., 1., 1.],\n",
       "       [1., 1., 1., 0., 2.],\n",
       "       [2., 1., 2., 1., 2.],\n",
       "       [0., 1., 0., 0., 1.],\n",
       "       [1., 1., 1., 0., 2.],\n",
       "       [1., 0., 1., 0., 3.],\n",
       "       [0., 1., 0., 0., 2.],\n",
       "       [0., 1., 0., 0., 2.],\n",
       "       [3., 1., 3., 2., 2.],\n",
       "       [0., 2., 0., 0., 3.],\n",
       "       [0., 0., 0., 0., 2.],\n",
       "       [1., 2., 1., 1., 1.],\n",
       "       [1., 3., 1., 0., 1.],\n",
       "       [0., 1., 0., 0., 1.],\n",
       "       [0., 1., 0., 0., 1.],\n",
       "       [0., 2., 0., 0., 1.],\n",
       "       [0., 1., 0., 0., 0.],\n",
       "       [1., 2., 1., 0., 2.],\n",
       "       [3., 2., 3., 2., 2.],\n",
       "       [3., 3., 3., 2., 3.]])"
      ]
     },
     "execution_count": 68,
     "metadata": {},
     "output_type": "execute_result"
    }
   ],
   "source": [
    "transformer = KBinsDiscretizer(strategy='uniform',n_bins=5,encode='ordinal')\n",
    "transformer.fit_transform(df)"
   ]
  },
  {
   "cell_type": "markdown",
   "id": "b62e7dc9-e996-4814-addc-c0268a2212b5",
   "metadata": {},
   "source": [
    "### Binning using quantiles (have each bins contain nearly the same number of values)"
   ]
  },
  {
   "cell_type": "code",
   "execution_count": 69,
   "id": "a4e183de-6431-44f6-bbca-3d6c9dddd16a",
   "metadata": {},
   "outputs": [
    {
     "data": {
      "text/plain": [
       "array([[2., 2., 2., 2., 2.],\n",
       "       [0., 1., 0., 0., 2.],\n",
       "       [1., 2., 1., 1., 2.],\n",
       "       [2., 2., 2., 2., 0.],\n",
       "       [1., 2., 1., 1., 2.],\n",
       "       [2., 2., 2., 2., 1.],\n",
       "       [1., 0., 1., 1., 2.],\n",
       "       [0., 0., 0., 0., 1.],\n",
       "       [2., 0., 2., 2., 2.],\n",
       "       [1., 2., 1., 1., 2.],\n",
       "       [2., 2., 2., 2., 2.],\n",
       "       [2., 2., 2., 2., 1.],\n",
       "       [1., 1., 1., 1., 1.],\n",
       "       [1., 2., 1., 1., 1.],\n",
       "       [2., 2., 2., 2., 1.],\n",
       "       [1., 1., 1., 1., 2.],\n",
       "       [2., 1., 2., 2., 2.],\n",
       "       [0., 1., 0., 0., 0.],\n",
       "       [2., 1., 2., 2., 2.],\n",
       "       [1., 1., 1., 1., 0.],\n",
       "       [0., 0., 0., 0., 1.],\n",
       "       [0., 0., 0., 0., 0.],\n",
       "       [1., 2., 1., 1., 2.],\n",
       "       [0., 1., 0., 0., 2.],\n",
       "       [0., 0., 0., 0., 1.],\n",
       "       [1., 0., 1., 1., 1.],\n",
       "       [1., 0., 1., 1., 2.],\n",
       "       [2., 2., 2., 2., 2.],\n",
       "       [0., 1., 0., 0., 1.],\n",
       "       [1., 0., 1., 1., 2.],\n",
       "       [1., 1., 1., 1., 0.],\n",
       "       [0., 1., 0., 0., 2.],\n",
       "       [2., 1., 2., 2., 2.],\n",
       "       [2., 1., 2., 2., 0.],\n",
       "       [1., 0., 1., 1., 2.],\n",
       "       [2., 2., 2., 2., 1.],\n",
       "       [2., 2., 2., 2., 1.],\n",
       "       [1., 2., 1., 1., 1.],\n",
       "       [0., 0., 0., 0., 2.],\n",
       "       [0., 1., 0., 0., 2.],\n",
       "       [0., 0., 1., 0., 2.],\n",
       "       [1., 1., 1., 1., 2.],\n",
       "       [0., 1., 0., 0., 1.],\n",
       "       [0., 0., 0., 0., 1.],\n",
       "       [2., 0., 2., 2., 0.],\n",
       "       [2., 2., 2., 2., 0.],\n",
       "       [0., 0., 0., 0., 1.],\n",
       "       [2., 2., 2., 2., 2.],\n",
       "       [1., 0., 1., 1., 1.],\n",
       "       [1., 0., 1., 0., 2.],\n",
       "       [2., 1., 2., 2., 1.],\n",
       "       [0., 0., 0., 0., 1.],\n",
       "       [0., 0., 0., 0., 1.],\n",
       "       [0., 1., 0., 0., 1.],\n",
       "       [2., 2., 2., 2., 0.],\n",
       "       [1., 1., 1., 1., 1.],\n",
       "       [2., 0., 1., 2., 0.],\n",
       "       [1., 2., 1., 1., 1.],\n",
       "       [2., 2., 2., 2., 1.],\n",
       "       [2., 1., 2., 2., 2.],\n",
       "       [2., 2., 2., 2., 1.],\n",
       "       [1., 0., 1., 1., 2.],\n",
       "       [2., 2., 2., 2., 0.],\n",
       "       [2., 2., 2., 2., 1.],\n",
       "       [0., 1., 0., 0., 1.],\n",
       "       [2., 1., 2., 2., 2.],\n",
       "       [2., 0., 2., 2., 1.],\n",
       "       [1., 0., 1., 1., 2.],\n",
       "       [2., 2., 2., 2., 0.],\n",
       "       [2., 1., 2., 2., 0.],\n",
       "       [1., 0., 1., 1., 1.],\n",
       "       [1., 0., 1., 1., 0.],\n",
       "       [0., 1., 0., 0., 2.],\n",
       "       [2., 1., 2., 2., 0.],\n",
       "       [2., 2., 2., 2., 1.],\n",
       "       [0., 0., 0., 0., 0.],\n",
       "       [1., 0., 1., 1., 0.],\n",
       "       [0., 1., 0., 0., 0.],\n",
       "       [1., 0., 1., 1., 1.],\n",
       "       [0., 0., 0., 0., 0.],\n",
       "       [2., 1., 2., 2., 2.],\n",
       "       [1., 1., 1., 1., 0.],\n",
       "       [2., 2., 2., 2., 2.],\n",
       "       [0., 2., 0., 0., 0.],\n",
       "       [1., 0., 1., 1., 0.],\n",
       "       [1., 0., 1., 1., 0.],\n",
       "       [0., 0., 0., 0., 0.],\n",
       "       [1., 0., 1., 1., 0.],\n",
       "       [2., 1., 2., 2., 0.],\n",
       "       [2., 2., 2., 2., 2.],\n",
       "       [0., 0., 0., 0., 0.],\n",
       "       [1., 0., 1., 1., 1.],\n",
       "       [1., 1., 1., 1., 1.],\n",
       "       [0., 0., 0., 0., 0.],\n",
       "       [1., 1., 0., 1., 0.],\n",
       "       [1., 0., 1., 1., 1.],\n",
       "       [0., 1., 0., 0., 1.],\n",
       "       [0., 0., 0., 0., 0.],\n",
       "       [0., 1., 0., 0., 0.],\n",
       "       [1., 0., 1., 1., 0.],\n",
       "       [2., 1., 2., 2., 2.],\n",
       "       [1., 0., 1., 1., 0.],\n",
       "       [2., 1., 2., 2., 1.],\n",
       "       [2., 2., 2., 2., 1.],\n",
       "       [0., 1., 0., 0., 1.],\n",
       "       [1., 0., 1., 1., 0.],\n",
       "       [2., 0., 2., 2., 1.],\n",
       "       [1., 2., 1., 1., 0.],\n",
       "       [0., 0., 0., 0., 2.],\n",
       "       [0., 0., 0., 0., 0.],\n",
       "       [0., 2., 1., 0., 0.],\n",
       "       [2., 2., 2., 2., 1.],\n",
       "       [0., 0., 0., 0., 1.],\n",
       "       [0., 0., 0., 0., 2.],\n",
       "       [2., 1., 2., 2., 2.],\n",
       "       [2., 2., 2., 2., 2.],\n",
       "       [1., 1., 1., 1., 2.],\n",
       "       [0., 0., 0., 0., 0.],\n",
       "       [1., 0., 0., 1., 0.],\n",
       "       [0., 1., 0., 0., 1.],\n",
       "       [1., 2., 1., 1., 0.],\n",
       "       [2., 1., 2., 2., 2.],\n",
       "       [0., 2., 0., 0., 1.],\n",
       "       [2., 2., 2., 2., 2.],\n",
       "       [0., 2., 0., 0., 1.],\n",
       "       [0., 1., 0., 0., 0.],\n",
       "       [0., 0., 0., 0., 2.],\n",
       "       [0., 2., 0., 0., 0.],\n",
       "       [1., 2., 2., 1., 1.],\n",
       "       [2., 1., 2., 2., 2.],\n",
       "       [0., 1., 0., 0., 0.],\n",
       "       [0., 2., 0., 0., 2.],\n",
       "       [2., 2., 2., 2., 1.],\n",
       "       [1., 1., 1., 1., 1.],\n",
       "       [2., 2., 2., 2., 2.],\n",
       "       [1., 2., 1., 1., 1.],\n",
       "       [2., 2., 2., 2., 1.],\n",
       "       [0., 1., 0., 0., 0.],\n",
       "       [1., 1., 1., 1., 0.],\n",
       "       [1., 1., 1., 1., 0.],\n",
       "       [2., 2., 2., 2., 1.],\n",
       "       [0., 2., 0., 0., 0.],\n",
       "       [0., 0., 0., 0., 2.],\n",
       "       [2., 1., 2., 2., 2.],\n",
       "       [2., 0., 2., 2., 2.],\n",
       "       [1., 0., 1., 1., 1.],\n",
       "       [2., 1., 2., 2., 0.],\n",
       "       [0., 2., 0., 1., 0.],\n",
       "       [1., 0., 1., 1., 0.],\n",
       "       [1., 1., 1., 1., 0.],\n",
       "       [1., 1., 1., 1., 1.],\n",
       "       [2., 2., 2., 2., 2.],\n",
       "       [1., 2., 1., 1., 2.],\n",
       "       [2., 1., 2., 2., 1.],\n",
       "       [2., 2., 2., 2., 2.],\n",
       "       [0., 0., 0., 0., 0.],\n",
       "       [1., 0., 1., 1., 0.],\n",
       "       [1., 1., 1., 1., 2.],\n",
       "       [2., 1., 2., 2., 2.],\n",
       "       [0., 0., 0., 0., 1.],\n",
       "       [1., 1., 1., 1., 2.],\n",
       "       [1., 0., 1., 1., 2.],\n",
       "       [0., 1., 0., 0., 2.],\n",
       "       [0., 1., 0., 0., 1.],\n",
       "       [2., 2., 2., 2., 2.],\n",
       "       [0., 2., 0., 0., 2.],\n",
       "       [0., 0., 0., 0., 1.],\n",
       "       [1., 2., 1., 1., 0.],\n",
       "       [1., 2., 1., 1., 0.],\n",
       "       [0., 0., 0., 0., 0.],\n",
       "       [0., 1., 0., 0., 0.],\n",
       "       [0., 2., 0., 0., 0.],\n",
       "       [0., 2., 0., 0., 0.],\n",
       "       [1., 2., 1., 1., 1.],\n",
       "       [2., 2., 2., 2., 2.],\n",
       "       [2., 2., 2., 2., 2.]])"
      ]
     },
     "execution_count": 69,
     "metadata": {},
     "output_type": "execute_result"
    }
   ],
   "source": [
    "transformer = KBinsDiscretizer(strategy='quantile',n_bins=3,encode='ordinal')\n",
    "transformer.fit_transform(df)"
   ]
  },
  {
   "cell_type": "code",
   "execution_count": 70,
   "id": "75213416-aac6-49c5-bcb0-202afcc1c86c",
   "metadata": {},
   "outputs": [
    {
     "data": {
      "text/plain": [
       "(array([0., 1., 2.]), array([59, 58, 59]))"
      ]
     },
     "execution_count": 70,
     "metadata": {},
     "output_type": "execute_result"
    }
   ],
   "source": [
    "np.unique(transformer.fit_transform(df)[:,0],return_counts=True)"
   ]
  },
  {
   "cell_type": "markdown",
   "id": "5f70805d-cf72-4d23-ab38-8502d6ea4f75",
   "metadata": {},
   "source": [
    "### Binning using K-Means (to automatically detect centers and widths of the bins)"
   ]
  },
  {
   "cell_type": "code",
   "execution_count": 71,
   "id": "4dd121c6-9222-4fca-acd9-003339aae46e",
   "metadata": {},
   "outputs": [
    {
     "name": "stderr",
     "output_type": "stream",
     "text": [
      "/Library/Frameworks/Python.framework/Versions/3.8/lib/python3.8/site-packages/sklearn/preprocessing/_discretization.py:248: FutureWarning: In version 1.5 onwards, subsample=200_000 will be used by default. Set subsample explicitly to silence this warning in the mean time. Set subsample=None to disable subsampling explicitly.\n",
      "  warnings.warn(\n",
      "/Library/Frameworks/Python.framework/Versions/3.8/lib/python3.8/site-packages/threadpoolctl.py:1019: RuntimeWarning: libc not found. The ctypes module in Python 3.8 is maybe too old for this OS.\n",
      "  warnings.warn(\n"
     ]
    },
    {
     "data": {
      "text/plain": [
       "array([[6., 5., 6., 6., 5.],\n",
       "       [1., 4., 1., 1., 9.],\n",
       "       [2., 5., 2., 2., 8.],\n",
       "       [4., 6., 4., 4., 2.],\n",
       "       [3., 5., 3., 3., 6.],\n",
       "       [6., 5., 6., 6., 4.],\n",
       "       [2., 2., 2., 2., 5.],\n",
       "       [0., 1., 0., 0., 4.],\n",
       "       [5., 3., 5., 5., 6.],\n",
       "       [4., 5., 3., 3., 5.],\n",
       "       [5., 6., 5., 5., 7.],\n",
       "       [6., 7., 6., 6., 3.],\n",
       "       [2., 3., 2., 2., 3.],\n",
       "       [3., 4., 2., 2., 4.],\n",
       "       [6., 6., 6., 5., 3.],\n",
       "       [3., 4., 2., 2., 5.],\n",
       "       [6., 3., 6., 5., 5.],\n",
       "       [1., 3., 1., 1., 2.],\n",
       "       [6., 4., 5., 5., 6.],\n",
       "       [2., 4., 2., 2., 1.],\n",
       "       [0., 1., 0., 0., 4.],\n",
       "       [0., 1., 0., 0., 1.],\n",
       "       [2., 6., 2., 2., 6.],\n",
       "       [0., 3., 0., 0., 5.],\n",
       "       [0., 2., 0., 0., 4.],\n",
       "       [3., 2., 3., 3., 4.],\n",
       "       [3., 0., 2., 2., 8.],\n",
       "       [7., 6., 7., 6., 8.],\n",
       "       [0., 4., 0., 0., 4.],\n",
       "       [2., 2., 2., 2., 9.],\n",
       "       [3., 4., 3., 3., 1.],\n",
       "       [1., 4., 1., 0., 6.],\n",
       "       [6., 3., 5., 5., 5.],\n",
       "       [6., 4., 6., 6., 2.],\n",
       "       [4., 3., 4., 3., 6.],\n",
       "       [6., 6., 6., 6., 4.],\n",
       "       [6., 5., 5., 5., 3.],\n",
       "       [2., 5., 2., 2., 3.],\n",
       "       [1., 1., 1., 1., 6.],\n",
       "       [1., 3., 1., 1., 5.],\n",
       "       [1., 3., 1., 1., 5.],\n",
       "       [2., 4., 2., 2., 6.],\n",
       "       [0., 4., 0., 0., 3.],\n",
       "       [1., 1., 1., 1., 3.],\n",
       "       [6., 2., 6., 6., 2.],\n",
       "       [8., 5., 8., 8., 2.],\n",
       "       [1., 0., 1., 1., 3.],\n",
       "       [5., 6., 5., 5., 5.],\n",
       "       [4., 3., 3., 3., 4.],\n",
       "       [2., 1., 1., 2., 4.],\n",
       "       [5., 4., 4., 4., 4.],\n",
       "       [1., 2., 1., 1., 3.],\n",
       "       [0., 2., 0., 0., 3.],\n",
       "       [1., 3., 1., 1., 4.],\n",
       "       [6., 5., 6., 6., 2.],\n",
       "       [3., 4., 3., 3., 4.],\n",
       "       [4., 3., 4., 4., 3.],\n",
       "       [2., 5., 2., 2., 4.],\n",
       "       [7., 5., 7., 6., 3.],\n",
       "       [9., 3., 9., 9., 6.],\n",
       "       [5., 6., 5., 5., 4.],\n",
       "       [3., 3., 3., 3., 4.],\n",
       "       [6., 8., 6., 6., 2.],\n",
       "       [5., 9., 5., 5., 4.],\n",
       "       [1., 3., 1., 1., 3.],\n",
       "       [6., 4., 6., 6., 5.],\n",
       "       [5., 3., 5., 5., 4.],\n",
       "       [3., 3., 3., 3., 5.],\n",
       "       [5., 5., 5., 5., 2.],\n",
       "       [4., 4., 4., 4., 1.],\n",
       "       [2., 3., 2., 2., 3.],\n",
       "       [3., 3., 3., 3., 0.],\n",
       "       [1., 3., 1., 1., 7.],\n",
       "       [6., 4., 5., 5., 3.],\n",
       "       [6., 7., 6., 6., 4.],\n",
       "       [1., 2., 1., 1., 1.],\n",
       "       [2., 1., 2., 2., 0.],\n",
       "       [1., 4., 1., 1., 1.],\n",
       "       [2., 1., 2., 2., 4.],\n",
       "       [1., 1., 1., 1., 2.],\n",
       "       [6., 4., 6., 6., 6.],\n",
       "       [2., 4., 2., 2., 2.],\n",
       "       [7., 6., 7., 6., 5.],\n",
       "       [1., 6., 1., 1., 1.],\n",
       "       [2., 1., 2., 2., 2.],\n",
       "       [2., 3., 1., 2., 2.],\n",
       "       [2., 2., 1., 2., 1.],\n",
       "       [2., 3., 1., 2., 1.],\n",
       "       [7., 4., 6., 6., 1.],\n",
       "       [7., 5., 7., 6., 6.],\n",
       "       [2., 2., 1., 1., 2.],\n",
       "       [3., 1., 3., 3., 3.],\n",
       "       [2., 4., 2., 2., 3.],\n",
       "       [1., 2., 1., 1., 2.],\n",
       "       [2., 4., 1., 2., 2.],\n",
       "       [2., 2., 2., 2., 3.],\n",
       "       [0., 3., 0., 0., 4.],\n",
       "       [0., 3., 0., 0., 2.],\n",
       "       [1., 4., 1., 1., 2.],\n",
       "       [4., 2., 3., 3., 3.],\n",
       "       [4., 4., 4., 4., 7.],\n",
       "       [3., 3., 2., 3., 2.],\n",
       "       [5., 3., 4., 4., 4.],\n",
       "       [7., 7., 7., 6., 4.],\n",
       "       [2., 3., 1., 1., 3.],\n",
       "       [3., 2., 2., 3., 2.],\n",
       "       [4., 2., 4., 4., 4.],\n",
       "       [3., 7., 2., 2., 1.],\n",
       "       [1., 1., 1., 1., 7.],\n",
       "       [1., 2., 1., 1., 1.],\n",
       "       [1., 5., 1., 1., 0.],\n",
       "       [6., 5., 6., 6., 4.],\n",
       "       [0., 1., 0., 0., 4.],\n",
       "       [0., 3., 0., 0., 5.],\n",
       "       [4., 4., 4., 4., 6.],\n",
       "       [7., 5., 7., 7., 6.],\n",
       "       [3., 4., 2., 2., 5.],\n",
       "       [1., 2., 1., 1., 1.],\n",
       "       [2., 2., 1., 2., 2.],\n",
       "       [1., 4., 1., 1., 4.],\n",
       "       [2., 5., 2., 2., 1.],\n",
       "       [5., 4., 5., 5., 5.],\n",
       "       [1., 5., 1., 1., 4.],\n",
       "       [4., 5., 4., 4., 6.],\n",
       "       [1., 5., 1., 1., 4.],\n",
       "       [1., 4., 1., 1., 2.],\n",
       "       [1., 2., 1., 1., 5.],\n",
       "       [1., 5., 1., 1., 2.],\n",
       "       [4., 5., 4., 3., 4.],\n",
       "       [7., 4., 7., 6., 6.],\n",
       "       [1., 3., 1., 1., 3.],\n",
       "       [1., 6., 1., 1., 4.],\n",
       "       [5., 7., 5., 5., 4.],\n",
       "       [4., 3., 3., 3., 3.],\n",
       "       [6., 6., 6., 6., 4.],\n",
       "       [3., 8., 2., 2., 3.],\n",
       "       [5., 7., 5., 5., 4.],\n",
       "       [1., 3., 1., 1., 2.],\n",
       "       [2., 3., 2., 2., 1.],\n",
       "       [2., 4., 2., 2., 2.],\n",
       "       [5., 6., 5., 5., 3.],\n",
       "       [1., 7., 1., 1., 2.],\n",
       "       [1., 2., 1., 1., 5.],\n",
       "       [5., 4., 4., 4., 4.],\n",
       "       [4., 0., 4., 4., 5.],\n",
       "       [2., 3., 2., 2., 3.],\n",
       "       [5., 4., 4., 4., 1.],\n",
       "       [2., 5., 1., 2., 2.],\n",
       "       [2., 1., 1., 2., 1.],\n",
       "       [2., 4., 2., 2., 1.],\n",
       "       [2., 3., 2., 2., 3.],\n",
       "       [7., 5., 7., 6., 5.],\n",
       "       [3., 6., 3., 3., 6.],\n",
       "       [8., 4., 8., 8., 3.],\n",
       "       [4., 6., 4., 4., 6.],\n",
       "       [1., 2., 1., 1., 2.],\n",
       "       [4., 2., 3., 3., 2.],\n",
       "       [3., 4., 2., 2., 5.],\n",
       "       [6., 4., 5., 5., 5.],\n",
       "       [0., 2., 0., 0., 3.],\n",
       "       [3., 4., 2., 2., 5.],\n",
       "       [3., 1., 3., 3., 7.],\n",
       "       [1., 3., 1., 1., 5.],\n",
       "       [1., 3., 1., 1., 4.],\n",
       "       [7., 4., 7., 6., 5.],\n",
       "       [1., 6., 1., 1., 7.],\n",
       "       [1., 2., 1., 1., 4.],\n",
       "       [4., 6., 3., 3., 2.],\n",
       "       [2., 7., 2., 2., 2.],\n",
       "       [0., 3., 0., 0., 3.],\n",
       "       [0., 4., 0., 0., 2.],\n",
       "       [1., 6., 1., 1., 2.],\n",
       "       [1., 5., 1., 1., 1.],\n",
       "       [3., 7., 3., 3., 4.],\n",
       "       [7., 5., 7., 7., 5.],\n",
       "       [7., 7., 7., 6., 6.]])"
      ]
     },
     "execution_count": 71,
     "metadata": {},
     "output_type": "execute_result"
    }
   ],
   "source": [
    "transformer = KBinsDiscretizer(strategy='kmeans',n_bins=10,encode='ordinal')\n",
    "transformer.fit_transform(df)"
   ]
  },
  {
   "cell_type": "markdown",
   "id": "70d5e350-2106-4b27-86ec-48409ad5f90f",
   "metadata": {},
   "source": [
    "## Binarizing"
   ]
  },
  {
   "cell_type": "code",
   "execution_count": 72,
   "id": "429252ce-69ce-470b-845c-73c12c3279dd",
   "metadata": {},
   "outputs": [
    {
     "data": {
      "text/html": [
       "<div>\n",
       "<style scoped>\n",
       "    .dataframe tbody tr th:only-of-type {\n",
       "        vertical-align: middle;\n",
       "    }\n",
       "\n",
       "    .dataframe tbody tr th {\n",
       "        vertical-align: top;\n",
       "    }\n",
       "\n",
       "    .dataframe thead th {\n",
       "        text-align: right;\n",
       "    }\n",
       "</style>\n",
       "<table border=\"1\" class=\"dataframe\">\n",
       "  <thead>\n",
       "    <tr style=\"text-align: right;\">\n",
       "      <th></th>\n",
       "      <th>mean radius</th>\n",
       "      <th>mean texture</th>\n",
       "      <th>mean perimeter</th>\n",
       "      <th>mean area</th>\n",
       "      <th>mean smoothness</th>\n",
       "    </tr>\n",
       "  </thead>\n",
       "  <tbody>\n",
       "    <tr>\n",
       "      <th>2</th>\n",
       "      <td>19.69</td>\n",
       "      <td>21.25</td>\n",
       "      <td>130.00</td>\n",
       "      <td>1203.0</td>\n",
       "      <td>0.10960</td>\n",
       "    </tr>\n",
       "    <tr>\n",
       "      <th>3</th>\n",
       "      <td>11.42</td>\n",
       "      <td>20.38</td>\n",
       "      <td>77.58</td>\n",
       "      <td>386.1</td>\n",
       "      <td>0.14250</td>\n",
       "    </tr>\n",
       "    <tr>\n",
       "      <th>8</th>\n",
       "      <td>13.00</td>\n",
       "      <td>21.82</td>\n",
       "      <td>87.50</td>\n",
       "      <td>519.8</td>\n",
       "      <td>0.12730</td>\n",
       "    </tr>\n",
       "    <tr>\n",
       "      <th>13</th>\n",
       "      <td>15.85</td>\n",
       "      <td>23.95</td>\n",
       "      <td>103.70</td>\n",
       "      <td>782.7</td>\n",
       "      <td>0.08401</td>\n",
       "    </tr>\n",
       "    <tr>\n",
       "      <th>14</th>\n",
       "      <td>13.73</td>\n",
       "      <td>22.61</td>\n",
       "      <td>93.60</td>\n",
       "      <td>578.3</td>\n",
       "      <td>0.11310</td>\n",
       "    </tr>\n",
       "    <tr>\n",
       "      <th>...</th>\n",
       "      <td>...</td>\n",
       "      <td>...</td>\n",
       "      <td>...</td>\n",
       "      <td>...</td>\n",
       "      <td>...</td>\n",
       "    </tr>\n",
       "    <tr>\n",
       "      <th>549</th>\n",
       "      <td>10.82</td>\n",
       "      <td>24.21</td>\n",
       "      <td>68.89</td>\n",
       "      <td>361.6</td>\n",
       "      <td>0.08192</td>\n",
       "    </tr>\n",
       "    <tr>\n",
       "      <th>550</th>\n",
       "      <td>10.86</td>\n",
       "      <td>21.48</td>\n",
       "      <td>68.51</td>\n",
       "      <td>360.5</td>\n",
       "      <td>0.07431</td>\n",
       "    </tr>\n",
       "    <tr>\n",
       "      <th>560</th>\n",
       "      <td>14.05</td>\n",
       "      <td>27.15</td>\n",
       "      <td>91.38</td>\n",
       "      <td>600.4</td>\n",
       "      <td>0.09929</td>\n",
       "    </tr>\n",
       "    <tr>\n",
       "      <th>564</th>\n",
       "      <td>21.56</td>\n",
       "      <td>22.39</td>\n",
       "      <td>142.00</td>\n",
       "      <td>1479.0</td>\n",
       "      <td>0.11100</td>\n",
       "    </tr>\n",
       "    <tr>\n",
       "      <th>567</th>\n",
       "      <td>20.60</td>\n",
       "      <td>29.33</td>\n",
       "      <td>140.10</td>\n",
       "      <td>1265.0</td>\n",
       "      <td>0.11780</td>\n",
       "    </tr>\n",
       "  </tbody>\n",
       "</table>\n",
       "<p>176 rows × 5 columns</p>\n",
       "</div>"
      ],
      "text/plain": [
       "     mean radius  mean texture  mean perimeter  mean area  mean smoothness\n",
       "2          19.69         21.25          130.00     1203.0          0.10960\n",
       "3          11.42         20.38           77.58      386.1          0.14250\n",
       "8          13.00         21.82           87.50      519.8          0.12730\n",
       "13         15.85         23.95          103.70      782.7          0.08401\n",
       "14         13.73         22.61           93.60      578.3          0.11310\n",
       "..           ...           ...             ...        ...              ...\n",
       "549        10.82         24.21           68.89      361.6          0.08192\n",
       "550        10.86         21.48           68.51      360.5          0.07431\n",
       "560        14.05         27.15           91.38      600.4          0.09929\n",
       "564        21.56         22.39          142.00     1479.0          0.11100\n",
       "567        20.60         29.33          140.10     1265.0          0.11780\n",
       "\n",
       "[176 rows x 5 columns]"
      ]
     },
     "execution_count": 72,
     "metadata": {},
     "output_type": "execute_result"
    }
   ],
   "source": [
    "df = pd.read_csv('sample_dataset.csv').iloc[:,0:5].dropna()\n",
    "df"
   ]
  },
  {
   "cell_type": "code",
   "execution_count": 73,
   "id": "f1ea7208-1b74-40af-ae5a-72f22e740bfd",
   "metadata": {},
   "outputs": [
    {
     "data": {
      "text/plain": [
       "array([[1., 1., 1., 1., 0.],\n",
       "       [0., 1., 1., 1., 0.],\n",
       "       [1., 1., 1., 1., 0.],\n",
       "       [1., 1., 1., 1., 0.],\n",
       "       [1., 1., 1., 1., 0.],\n",
       "       [1., 1., 1., 1., 0.],\n",
       "       [1., 1., 1., 1., 0.],\n",
       "       [0., 1., 1., 1., 0.],\n",
       "       [1., 1., 1., 1., 0.],\n",
       "       [1., 1., 1., 1., 0.],\n",
       "       [1., 1., 1., 1., 0.],\n",
       "       [1., 1., 1., 1., 0.],\n",
       "       [1., 1., 1., 1., 0.],\n",
       "       [1., 1., 1., 1., 0.],\n",
       "       [1., 1., 1., 1., 0.],\n",
       "       [1., 1., 1., 1., 0.],\n",
       "       [1., 1., 1., 1., 0.],\n",
       "       [0., 1., 1., 1., 0.],\n",
       "       [1., 1., 1., 1., 0.],\n",
       "       [1., 1., 1., 1., 0.],\n",
       "       [0., 0., 1., 1., 0.],\n",
       "       [0., 1., 1., 1., 0.],\n",
       "       [1., 1., 1., 1., 0.],\n",
       "       [0., 1., 1., 1., 0.],\n",
       "       [0., 1., 1., 1., 0.],\n",
       "       [1., 1., 1., 1., 0.],\n",
       "       [1., 0., 1., 1., 0.],\n",
       "       [1., 1., 1., 1., 0.],\n",
       "       [0., 1., 1., 1., 0.],\n",
       "       [1., 1., 1., 1., 0.],\n",
       "       [1., 1., 1., 1., 0.],\n",
       "       [0., 1., 1., 1., 0.],\n",
       "       [1., 1., 1., 1., 0.],\n",
       "       [1., 1., 1., 1., 0.],\n",
       "       [1., 1., 1., 1., 0.],\n",
       "       [1., 1., 1., 1., 0.],\n",
       "       [1., 1., 1., 1., 0.],\n",
       "       [1., 1., 1., 1., 0.],\n",
       "       [0., 1., 1., 1., 0.],\n",
       "       [0., 1., 1., 1., 0.],\n",
       "       [0., 1., 1., 1., 0.],\n",
       "       [1., 1., 1., 1., 0.],\n",
       "       [0., 1., 1., 1., 0.],\n",
       "       [1., 1., 1., 1., 0.],\n",
       "       [1., 1., 1., 1., 0.],\n",
       "       [1., 1., 1., 1., 0.],\n",
       "       [0., 0., 1., 1., 0.],\n",
       "       [1., 1., 1., 1., 0.],\n",
       "       [1., 1., 1., 1., 0.],\n",
       "       [1., 1., 1., 1., 0.],\n",
       "       [1., 1., 1., 1., 0.],\n",
       "       [0., 1., 1., 1., 0.],\n",
       "       [0., 1., 1., 1., 0.],\n",
       "       [0., 1., 1., 1., 0.],\n",
       "       [1., 1., 1., 1., 0.],\n",
       "       [1., 1., 1., 1., 0.],\n",
       "       [1., 1., 1., 1., 0.],\n",
       "       [1., 1., 1., 1., 0.],\n",
       "       [1., 1., 1., 1., 0.],\n",
       "       [1., 1., 1., 1., 0.],\n",
       "       [1., 1., 1., 1., 0.],\n",
       "       [1., 1., 1., 1., 0.],\n",
       "       [1., 1., 1., 1., 0.],\n",
       "       [1., 1., 1., 1., 0.],\n",
       "       [0., 1., 1., 1., 0.],\n",
       "       [1., 1., 1., 1., 0.],\n",
       "       [1., 1., 1., 1., 0.],\n",
       "       [1., 1., 1., 1., 0.],\n",
       "       [1., 1., 1., 1., 0.],\n",
       "       [1., 1., 1., 1., 0.],\n",
       "       [1., 1., 1., 1., 0.],\n",
       "       [1., 1., 1., 1., 0.],\n",
       "       [0., 1., 1., 1., 0.],\n",
       "       [1., 1., 1., 1., 0.],\n",
       "       [1., 1., 1., 1., 0.],\n",
       "       [0., 1., 1., 1., 0.],\n",
       "       [1., 1., 1., 1., 0.],\n",
       "       [0., 1., 1., 1., 0.],\n",
       "       [1., 1., 1., 1., 0.],\n",
       "       [0., 1., 1., 1., 0.],\n",
       "       [1., 1., 1., 1., 0.],\n",
       "       [1., 1., 1., 1., 0.],\n",
       "       [1., 1., 1., 1., 0.],\n",
       "       [0., 1., 1., 1., 0.],\n",
       "       [1., 1., 1., 1., 0.],\n",
       "       [1., 1., 1., 1., 0.],\n",
       "       [1., 1., 1., 1., 0.],\n",
       "       [1., 1., 1., 1., 0.],\n",
       "       [1., 1., 1., 1., 0.],\n",
       "       [1., 1., 1., 1., 0.],\n",
       "       [1., 1., 1., 1., 0.],\n",
       "       [1., 1., 1., 1., 0.],\n",
       "       [1., 1., 1., 1., 0.],\n",
       "       [0., 1., 1., 1., 0.],\n",
       "       [1., 1., 1., 1., 0.],\n",
       "       [1., 1., 1., 1., 0.],\n",
       "       [0., 1., 1., 1., 0.],\n",
       "       [0., 1., 1., 1., 0.],\n",
       "       [1., 1., 1., 1., 0.],\n",
       "       [1., 1., 1., 1., 0.],\n",
       "       [1., 1., 1., 1., 0.],\n",
       "       [1., 1., 1., 1., 0.],\n",
       "       [1., 1., 1., 1., 0.],\n",
       "       [1., 1., 1., 1., 0.],\n",
       "       [1., 1., 1., 1., 0.],\n",
       "       [1., 1., 1., 1., 0.],\n",
       "       [1., 1., 1., 1., 0.],\n",
       "       [1., 1., 1., 1., 0.],\n",
       "       [0., 1., 1., 1., 0.],\n",
       "       [0., 1., 1., 1., 0.],\n",
       "       [1., 1., 1., 1., 0.],\n",
       "       [1., 1., 1., 1., 0.],\n",
       "       [0., 1., 1., 1., 0.],\n",
       "       [0., 1., 1., 1., 0.],\n",
       "       [1., 1., 1., 1., 0.],\n",
       "       [1., 1., 1., 1., 0.],\n",
       "       [1., 1., 1., 1., 0.],\n",
       "       [0., 1., 1., 1., 0.],\n",
       "       [1., 1., 1., 1., 0.],\n",
       "       [0., 1., 1., 1., 0.],\n",
       "       [1., 1., 1., 1., 0.],\n",
       "       [1., 1., 1., 1., 0.],\n",
       "       [0., 1., 1., 1., 0.],\n",
       "       [1., 1., 1., 1., 0.],\n",
       "       [0., 1., 1., 1., 0.],\n",
       "       [0., 1., 1., 1., 0.],\n",
       "       [0., 1., 1., 1., 0.],\n",
       "       [0., 1., 1., 1., 0.],\n",
       "       [1., 1., 1., 1., 0.],\n",
       "       [1., 1., 1., 1., 0.],\n",
       "       [0., 1., 1., 1., 0.],\n",
       "       [0., 1., 1., 1., 0.],\n",
       "       [1., 1., 1., 1., 0.],\n",
       "       [1., 1., 1., 1., 0.],\n",
       "       [1., 1., 1., 1., 0.],\n",
       "       [1., 1., 1., 1., 0.],\n",
       "       [1., 1., 1., 1., 0.],\n",
       "       [0., 1., 1., 1., 0.],\n",
       "       [1., 1., 1., 1., 0.],\n",
       "       [1., 1., 1., 1., 0.],\n",
       "       [1., 1., 1., 1., 0.],\n",
       "       [1., 1., 1., 1., 0.],\n",
       "       [0., 1., 1., 1., 0.],\n",
       "       [1., 1., 1., 1., 0.],\n",
       "       [1., 0., 1., 1., 0.],\n",
       "       [1., 1., 1., 1., 0.],\n",
       "       [1., 1., 1., 1., 0.],\n",
       "       [1., 1., 1., 1., 0.],\n",
       "       [1., 1., 1., 1., 0.],\n",
       "       [1., 1., 1., 1., 0.],\n",
       "       [1., 1., 1., 1., 0.],\n",
       "       [1., 1., 1., 1., 0.],\n",
       "       [1., 1., 1., 1., 0.],\n",
       "       [1., 1., 1., 1., 0.],\n",
       "       [1., 1., 1., 1., 0.],\n",
       "       [0., 1., 1., 1., 0.],\n",
       "       [1., 1., 1., 1., 0.],\n",
       "       [1., 1., 1., 1., 0.],\n",
       "       [1., 1., 1., 1., 0.],\n",
       "       [0., 1., 1., 1., 0.],\n",
       "       [1., 1., 1., 1., 0.],\n",
       "       [1., 1., 1., 1., 0.],\n",
       "       [0., 1., 1., 1., 0.],\n",
       "       [0., 1., 1., 1., 0.],\n",
       "       [1., 1., 1., 1., 0.],\n",
       "       [0., 1., 1., 1., 0.],\n",
       "       [0., 1., 1., 1., 0.],\n",
       "       [1., 1., 1., 1., 0.],\n",
       "       [1., 1., 1., 1., 0.],\n",
       "       [0., 1., 1., 1., 0.],\n",
       "       [0., 1., 1., 1., 0.],\n",
       "       [0., 1., 1., 1., 0.],\n",
       "       [0., 1., 1., 1., 0.],\n",
       "       [1., 1., 1., 1., 0.],\n",
       "       [1., 1., 1., 1., 0.],\n",
       "       [1., 1., 1., 1., 0.]])"
      ]
     },
     "execution_count": 73,
     "metadata": {},
     "output_type": "execute_result"
    }
   ],
   "source": [
    "from sklearn.preprocessing import Binarizer\n",
    "\n",
    "transformer = Binarizer(threshold=12)\n",
    "transformer.fit_transform(df)"
   ]
  },
  {
   "cell_type": "markdown",
   "id": "fe3c2db1-f05f-4f0c-b518-6b8fdfe26ece",
   "metadata": {},
   "source": [
    "## Applying an arbitrary transformation (applying custom transformation)"
   ]
  },
  {
   "cell_type": "code",
   "execution_count": 74,
   "id": "4ea6d321-6c35-431e-bcac-49b7c63ec738",
   "metadata": {},
   "outputs": [
    {
     "data": {
      "text/html": [
       "<div>\n",
       "<style scoped>\n",
       "    .dataframe tbody tr th:only-of-type {\n",
       "        vertical-align: middle;\n",
       "    }\n",
       "\n",
       "    .dataframe tbody tr th {\n",
       "        vertical-align: top;\n",
       "    }\n",
       "\n",
       "    .dataframe thead th {\n",
       "        text-align: right;\n",
       "    }\n",
       "</style>\n",
       "<table border=\"1\" class=\"dataframe\">\n",
       "  <thead>\n",
       "    <tr style=\"text-align: right;\">\n",
       "      <th></th>\n",
       "      <th>mean radius</th>\n",
       "      <th>mean texture</th>\n",
       "      <th>mean perimeter</th>\n",
       "    </tr>\n",
       "  </thead>\n",
       "  <tbody>\n",
       "    <tr>\n",
       "      <th>1</th>\n",
       "      <td>20.57</td>\n",
       "      <td>17.77</td>\n",
       "      <td>132.90</td>\n",
       "    </tr>\n",
       "    <tr>\n",
       "      <th>2</th>\n",
       "      <td>19.69</td>\n",
       "      <td>21.25</td>\n",
       "      <td>130.00</td>\n",
       "    </tr>\n",
       "    <tr>\n",
       "      <th>3</th>\n",
       "      <td>11.42</td>\n",
       "      <td>20.38</td>\n",
       "      <td>77.58</td>\n",
       "    </tr>\n",
       "    <tr>\n",
       "      <th>5</th>\n",
       "      <td>12.45</td>\n",
       "      <td>15.70</td>\n",
       "      <td>82.57</td>\n",
       "    </tr>\n",
       "    <tr>\n",
       "      <th>7</th>\n",
       "      <td>13.71</td>\n",
       "      <td>20.83</td>\n",
       "      <td>90.20</td>\n",
       "    </tr>\n",
       "    <tr>\n",
       "      <th>...</th>\n",
       "      <td>...</td>\n",
       "      <td>...</td>\n",
       "      <td>...</td>\n",
       "    </tr>\n",
       "    <tr>\n",
       "      <th>562</th>\n",
       "      <td>15.22</td>\n",
       "      <td>30.62</td>\n",
       "      <td>103.40</td>\n",
       "    </tr>\n",
       "    <tr>\n",
       "      <th>563</th>\n",
       "      <td>20.92</td>\n",
       "      <td>25.09</td>\n",
       "      <td>143.00</td>\n",
       "    </tr>\n",
       "    <tr>\n",
       "      <th>564</th>\n",
       "      <td>21.56</td>\n",
       "      <td>22.39</td>\n",
       "      <td>142.00</td>\n",
       "    </tr>\n",
       "    <tr>\n",
       "      <th>566</th>\n",
       "      <td>16.60</td>\n",
       "      <td>28.08</td>\n",
       "      <td>108.30</td>\n",
       "    </tr>\n",
       "    <tr>\n",
       "      <th>567</th>\n",
       "      <td>20.60</td>\n",
       "      <td>29.33</td>\n",
       "      <td>140.10</td>\n",
       "    </tr>\n",
       "  </tbody>\n",
       "</table>\n",
       "<p>385 rows × 3 columns</p>\n",
       "</div>"
      ],
      "text/plain": [
       "     mean radius  mean texture  mean perimeter\n",
       "1          20.57         17.77          132.90\n",
       "2          19.69         21.25          130.00\n",
       "3          11.42         20.38           77.58\n",
       "5          12.45         15.70           82.57\n",
       "7          13.71         20.83           90.20\n",
       "..           ...           ...             ...\n",
       "562        15.22         30.62          103.40\n",
       "563        20.92         25.09          143.00\n",
       "564        21.56         22.39          142.00\n",
       "566        16.60         28.08          108.30\n",
       "567        20.60         29.33          140.10\n",
       "\n",
       "[385 rows x 3 columns]"
      ]
     },
     "execution_count": 74,
     "metadata": {},
     "output_type": "execute_result"
    }
   ],
   "source": [
    "from sklearn.preprocessing import FunctionTransformer\n",
    "\n",
    "df = pd.read_csv('sample_dataset.csv').iloc[:,0:3].dropna()\n",
    "df"
   ]
  },
  {
   "cell_type": "code",
   "execution_count": 75,
   "id": "e3786bca-da7b-4e5a-b98e-e5c216db7892",
   "metadata": {},
   "outputs": [
    {
     "data": {
      "text/html": [
       "<div>\n",
       "<style scoped>\n",
       "    .dataframe tbody tr th:only-of-type {\n",
       "        vertical-align: middle;\n",
       "    }\n",
       "\n",
       "    .dataframe tbody tr th {\n",
       "        vertical-align: top;\n",
       "    }\n",
       "\n",
       "    .dataframe thead th {\n",
       "        text-align: right;\n",
       "    }\n",
       "</style>\n",
       "<table border=\"1\" class=\"dataframe\">\n",
       "  <thead>\n",
       "    <tr style=\"text-align: right;\">\n",
       "      <th></th>\n",
       "      <th>mean radius</th>\n",
       "      <th>mean texture</th>\n",
       "      <th>mean perimeter</th>\n",
       "    </tr>\n",
       "  </thead>\n",
       "  <tbody>\n",
       "    <tr>\n",
       "      <th>1</th>\n",
       "      <td>3.023834</td>\n",
       "      <td>2.877512</td>\n",
       "      <td>4.889597</td>\n",
       "    </tr>\n",
       "    <tr>\n",
       "      <th>2</th>\n",
       "      <td>2.980111</td>\n",
       "      <td>3.056357</td>\n",
       "      <td>4.867534</td>\n",
       "    </tr>\n",
       "    <tr>\n",
       "      <th>3</th>\n",
       "      <td>2.435366</td>\n",
       "      <td>3.014554</td>\n",
       "      <td>4.351310</td>\n",
       "    </tr>\n",
       "    <tr>\n",
       "      <th>5</th>\n",
       "      <td>2.521721</td>\n",
       "      <td>2.753661</td>\n",
       "      <td>4.413646</td>\n",
       "    </tr>\n",
       "    <tr>\n",
       "      <th>7</th>\n",
       "      <td>2.618125</td>\n",
       "      <td>3.036394</td>\n",
       "      <td>4.502029</td>\n",
       "    </tr>\n",
       "    <tr>\n",
       "      <th>...</th>\n",
       "      <td>...</td>\n",
       "      <td>...</td>\n",
       "      <td>...</td>\n",
       "    </tr>\n",
       "    <tr>\n",
       "      <th>562</th>\n",
       "      <td>2.722610</td>\n",
       "      <td>3.421653</td>\n",
       "      <td>4.638605</td>\n",
       "    </tr>\n",
       "    <tr>\n",
       "      <th>563</th>\n",
       "      <td>3.040706</td>\n",
       "      <td>3.222469</td>\n",
       "      <td>4.962845</td>\n",
       "    </tr>\n",
       "    <tr>\n",
       "      <th>564</th>\n",
       "      <td>3.070840</td>\n",
       "      <td>3.108614</td>\n",
       "      <td>4.955827</td>\n",
       "    </tr>\n",
       "    <tr>\n",
       "      <th>566</th>\n",
       "      <td>2.809403</td>\n",
       "      <td>3.335058</td>\n",
       "      <td>4.684905</td>\n",
       "    </tr>\n",
       "    <tr>\n",
       "      <th>567</th>\n",
       "      <td>3.025291</td>\n",
       "      <td>3.378611</td>\n",
       "      <td>4.942356</td>\n",
       "    </tr>\n",
       "  </tbody>\n",
       "</table>\n",
       "<p>385 rows × 3 columns</p>\n",
       "</div>"
      ],
      "text/plain": [
       "     mean radius  mean texture  mean perimeter\n",
       "1       3.023834      2.877512        4.889597\n",
       "2       2.980111      3.056357        4.867534\n",
       "3       2.435366      3.014554        4.351310\n",
       "5       2.521721      2.753661        4.413646\n",
       "7       2.618125      3.036394        4.502029\n",
       "..           ...           ...             ...\n",
       "562     2.722610      3.421653        4.638605\n",
       "563     3.040706      3.222469        4.962845\n",
       "564     3.070840      3.108614        4.955827\n",
       "566     2.809403      3.335058        4.684905\n",
       "567     3.025291      3.378611        4.942356\n",
       "\n",
       "[385 rows x 3 columns]"
      ]
     },
     "execution_count": 75,
     "metadata": {},
     "output_type": "execute_result"
    }
   ],
   "source": [
    "transformer = FunctionTransformer(np.log)\n",
    "transformer.fit_transform(df)"
   ]
  },
  {
   "cell_type": "code",
   "execution_count": 76,
   "id": "7bf32cad-49c5-44ac-855c-b2ebacef6015",
   "metadata": {},
   "outputs": [
    {
     "data": {
      "text/plain": [
       "array([[3.0238337 , 2.87751164, 4.88959697],\n",
       "       [2.98011089, 3.0563569 , 4.86753445],\n",
       "       [2.4353662 , 3.01455403, 4.35130966],\n",
       "       ...,\n",
       "       [3.07083975, 3.10861443, 4.95582706],\n",
       "       [2.8094027 , 3.33505758, 4.68490515],\n",
       "       [3.02529108, 3.37861088, 4.94235645]])"
      ]
     },
     "execution_count": 76,
     "metadata": {},
     "output_type": "execute_result"
    }
   ],
   "source": [
    "\"\"\"\n",
    "validate=True: converts to a 2-dimensional NumPy array or sparse matrix\n",
    "\"\"\"\n",
    "transformer = FunctionTransformer(np.log,validate=True) \n",
    "transformer.fit_transform(df)"
   ]
  },
  {
   "cell_type": "code",
   "execution_count": 77,
   "id": "f4e7b70e-9c93-43eb-81ed-8b4883f59a1a",
   "metadata": {},
   "outputs": [
    {
     "data": {
      "text/plain": [
       "array([[ 61.71,  53.31, 398.7 ],\n",
       "       [ 59.07,  63.75, 390.  ],\n",
       "       [ 34.26,  61.14, 232.74],\n",
       "       ...,\n",
       "       [ 64.68,  67.17, 426.  ],\n",
       "       [ 49.8 ,  84.24, 324.9 ],\n",
       "       [ 61.8 ,  87.99, 420.3 ]])"
      ]
     },
     "execution_count": 77,
     "metadata": {},
     "output_type": "execute_result"
    }
   ],
   "source": [
    "transformer = FunctionTransformer(lambda x:x*3,validate=True) \n",
    "transformer.fit_transform(df)"
   ]
  },
  {
   "cell_type": "code",
   "execution_count": 78,
   "id": "2dfef524-3e0f-4d87-8dce-afe01c852869",
   "metadata": {},
   "outputs": [
    {
     "data": {
      "text/plain": [
       "array([[ 82.28,  71.08, 531.6 ],\n",
       "       [ 78.76,  85.  , 520.  ],\n",
       "       [ 45.68,  81.52, 310.32],\n",
       "       ...,\n",
       "       [ 86.24,  89.56, 568.  ],\n",
       "       [ 66.4 , 112.32, 433.2 ],\n",
       "       [ 82.4 , 117.32, 560.4 ]])"
      ]
     },
     "execution_count": 78,
     "metadata": {},
     "output_type": "execute_result"
    }
   ],
   "source": [
    "transformer = FunctionTransformer(lambda x,a:x*a,validate=True,kw_args={'a':4}) \n",
    "transformer.fit_transform(df)"
   ]
  },
  {
   "cell_type": "code",
   "execution_count": 79,
   "id": "60a37d0f-f8f6-4907-a803-3eff52de58d1",
   "metadata": {},
   "outputs": [
    {
     "data": {
      "text/plain": [
       "array([[ 82.28,  71.08, 531.6 ],\n",
       "       [ 78.76,  85.  , 520.  ],\n",
       "       [ 45.68,  81.52, 310.32],\n",
       "       ...,\n",
       "       [ 86.24,  89.56, 568.  ],\n",
       "       [ 66.4 , 112.32, 433.2 ],\n",
       "       [ 82.4 , 117.32, 560.4 ]])"
      ]
     },
     "execution_count": 79,
     "metadata": {},
     "output_type": "execute_result"
    }
   ],
   "source": [
    "def f(x,a):\n",
    "    return x*a\n",
    "\n",
    "transformer = FunctionTransformer(f,validate=True,kw_args={'a':4},accept_sparse=True) \n",
    "transformer.fit_transform(df)"
   ]
  },
  {
   "cell_type": "markdown",
   "id": "57c3afad-d406-4a6d-a168-689b0a4420e0",
   "metadata": {},
   "source": [
    "## Exercise 1\n",
    "* Load sample_dataset.csv\n",
    "* Consider only the first 3 columns and remove all the records that have missings\n",
    "* Calculate the mean value of 'mean radius'\n",
    "* Use a ColumnTransformer to apply the following transformations:\n",
    "  * Binarize 'mean radius' using a threshold equal to the mean value\n",
    "  * Binning of 'mean texture' with 10 uniform bins and one-hot encoded dense output\n",
    "  * Binning of 'mean perimeter' with 5 quantile bins and ordinal encoding output"
   ]
  },
  {
   "cell_type": "code",
   "execution_count": 80,
   "id": "f8636da4-2e8e-4b08-a537-6f6af0b7e930",
   "metadata": {},
   "outputs": [
    {
     "data": {
      "text/html": [
       "<div>\n",
       "<style scoped>\n",
       "    .dataframe tbody tr th:only-of-type {\n",
       "        vertical-align: middle;\n",
       "    }\n",
       "\n",
       "    .dataframe tbody tr th {\n",
       "        vertical-align: top;\n",
       "    }\n",
       "\n",
       "    .dataframe thead th {\n",
       "        text-align: right;\n",
       "    }\n",
       "</style>\n",
       "<table border=\"1\" class=\"dataframe\">\n",
       "  <thead>\n",
       "    <tr style=\"text-align: right;\">\n",
       "      <th></th>\n",
       "      <th>mean radius</th>\n",
       "      <th>mean texture</th>\n",
       "      <th>mean perimeter</th>\n",
       "    </tr>\n",
       "  </thead>\n",
       "  <tbody>\n",
       "    <tr>\n",
       "      <th>1</th>\n",
       "      <td>20.57</td>\n",
       "      <td>17.77</td>\n",
       "      <td>132.90</td>\n",
       "    </tr>\n",
       "    <tr>\n",
       "      <th>2</th>\n",
       "      <td>19.69</td>\n",
       "      <td>21.25</td>\n",
       "      <td>130.00</td>\n",
       "    </tr>\n",
       "    <tr>\n",
       "      <th>3</th>\n",
       "      <td>11.42</td>\n",
       "      <td>20.38</td>\n",
       "      <td>77.58</td>\n",
       "    </tr>\n",
       "    <tr>\n",
       "      <th>5</th>\n",
       "      <td>12.45</td>\n",
       "      <td>15.70</td>\n",
       "      <td>82.57</td>\n",
       "    </tr>\n",
       "    <tr>\n",
       "      <th>7</th>\n",
       "      <td>13.71</td>\n",
       "      <td>20.83</td>\n",
       "      <td>90.20</td>\n",
       "    </tr>\n",
       "    <tr>\n",
       "      <th>...</th>\n",
       "      <td>...</td>\n",
       "      <td>...</td>\n",
       "      <td>...</td>\n",
       "    </tr>\n",
       "    <tr>\n",
       "      <th>562</th>\n",
       "      <td>15.22</td>\n",
       "      <td>30.62</td>\n",
       "      <td>103.40</td>\n",
       "    </tr>\n",
       "    <tr>\n",
       "      <th>563</th>\n",
       "      <td>20.92</td>\n",
       "      <td>25.09</td>\n",
       "      <td>143.00</td>\n",
       "    </tr>\n",
       "    <tr>\n",
       "      <th>564</th>\n",
       "      <td>21.56</td>\n",
       "      <td>22.39</td>\n",
       "      <td>142.00</td>\n",
       "    </tr>\n",
       "    <tr>\n",
       "      <th>566</th>\n",
       "      <td>16.60</td>\n",
       "      <td>28.08</td>\n",
       "      <td>108.30</td>\n",
       "    </tr>\n",
       "    <tr>\n",
       "      <th>567</th>\n",
       "      <td>20.60</td>\n",
       "      <td>29.33</td>\n",
       "      <td>140.10</td>\n",
       "    </tr>\n",
       "  </tbody>\n",
       "</table>\n",
       "<p>385 rows × 3 columns</p>\n",
       "</div>"
      ],
      "text/plain": [
       "     mean radius  mean texture  mean perimeter\n",
       "1          20.57         17.77          132.90\n",
       "2          19.69         21.25          130.00\n",
       "3          11.42         20.38           77.58\n",
       "5          12.45         15.70           82.57\n",
       "7          13.71         20.83           90.20\n",
       "..           ...           ...             ...\n",
       "562        15.22         30.62          103.40\n",
       "563        20.92         25.09          143.00\n",
       "564        21.56         22.39          142.00\n",
       "566        16.60         28.08          108.30\n",
       "567        20.60         29.33          140.10\n",
       "\n",
       "[385 rows x 3 columns]"
      ]
     },
     "execution_count": 80,
     "metadata": {},
     "output_type": "execute_result"
    }
   ],
   "source": [
    "import pandas as pd\n",
    "import numpy as np\n",
    "from sklearn.compose import ColumnTransformer\n",
    "from sklearn.preprocessing import Binarizer, KBinsDiscretizer\n",
    "\n",
    "df = pd.read_csv('sample_dataset.csv').iloc[:,0:3].dropna()\n",
    "df"
   ]
  },
  {
   "cell_type": "code",
   "execution_count": 81,
   "id": "8f341ce5-0d1f-4966-8c3e-13f83eebb3ca",
   "metadata": {},
   "outputs": [
    {
     "data": {
      "text/plain": [
       "14.107932467532468"
      ]
     },
     "execution_count": 81,
     "metadata": {},
     "output_type": "execute_result"
    }
   ],
   "source": [
    "df['mean radius'].mean()"
   ]
  },
  {
   "cell_type": "code",
   "execution_count": 82,
   "id": "2a2e4ae3-e7e4-4d62-885e-37569637270a",
   "metadata": {},
   "outputs": [
    {
     "name": "stderr",
     "output_type": "stream",
     "text": [
      "/Library/Frameworks/Python.framework/Versions/3.8/lib/python3.8/site-packages/sklearn/preprocessing/_discretization.py:248: FutureWarning: In version 1.5 onwards, subsample=200_000 will be used by default. Set subsample explicitly to silence this warning in the mean time. Set subsample=None to disable subsampling explicitly.\n",
      "  warnings.warn(\n"
     ]
    },
    {
     "data": {
      "text/plain": [
       "array([[1., 0., 0., ..., 0., 0., 4.],\n",
       "       [1., 0., 0., ..., 0., 0., 4.],\n",
       "       [0., 0., 0., ..., 0., 0., 1.],\n",
       "       ...,\n",
       "       [1., 0., 0., ..., 0., 0., 4.],\n",
       "       [1., 0., 0., ..., 0., 0., 3.],\n",
       "       [1., 0., 0., ..., 0., 0., 4.]])"
      ]
     },
     "execution_count": 82,
     "metadata": {},
     "output_type": "execute_result"
    }
   ],
   "source": [
    "transformer = ColumnTransformer([\n",
    "    ('mean_radius',Binarizer(threshold=df['mean radius'].mean()),[0]),\n",
    "    ('mean_texture',KBinsDiscretizer(strategy='uniform',n_bins=10,encode='onehot-dense'),[1]),\n",
    "    ('mean_perimeter',KBinsDiscretizer(strategy='quantile',n_bins=5,encode='ordinal'),[2])\n",
    "])\n",
    "transformer.fit_transform(df)"
   ]
  },
  {
   "cell_type": "markdown",
   "id": "91dff538-1807-4e07-a17e-3f611b4d6ebe",
   "metadata": {},
   "source": [
    "## Exercise 2\n",
    "* Load sample_dataset.csv\n",
    "* Consider only the first 3 columns and remove all the records that have missings\n",
    "* Use a ColumnTransformer to apply the following transformations:\n",
    "  * Yeo-Johnson power transformation of 'mean radius'\n",
    "  * Box-Cox transformation of 'mean texture'\n",
    "  * Calculate the logarithm of 'mean perimeter'"
   ]
  },
  {
   "cell_type": "code",
   "execution_count": 83,
   "id": "07d42f3c-f153-4a7e-bc1e-15bbd721a49f",
   "metadata": {},
   "outputs": [
    {
     "data": {
      "text/html": [
       "<div>\n",
       "<style scoped>\n",
       "    .dataframe tbody tr th:only-of-type {\n",
       "        vertical-align: middle;\n",
       "    }\n",
       "\n",
       "    .dataframe tbody tr th {\n",
       "        vertical-align: top;\n",
       "    }\n",
       "\n",
       "    .dataframe thead th {\n",
       "        text-align: right;\n",
       "    }\n",
       "</style>\n",
       "<table border=\"1\" class=\"dataframe\">\n",
       "  <thead>\n",
       "    <tr style=\"text-align: right;\">\n",
       "      <th></th>\n",
       "      <th>mean radius</th>\n",
       "      <th>mean texture</th>\n",
       "      <th>mean perimeter</th>\n",
       "    </tr>\n",
       "  </thead>\n",
       "  <tbody>\n",
       "    <tr>\n",
       "      <th>1</th>\n",
       "      <td>20.57</td>\n",
       "      <td>17.77</td>\n",
       "      <td>132.90</td>\n",
       "    </tr>\n",
       "    <tr>\n",
       "      <th>2</th>\n",
       "      <td>19.69</td>\n",
       "      <td>21.25</td>\n",
       "      <td>130.00</td>\n",
       "    </tr>\n",
       "    <tr>\n",
       "      <th>3</th>\n",
       "      <td>11.42</td>\n",
       "      <td>20.38</td>\n",
       "      <td>77.58</td>\n",
       "    </tr>\n",
       "    <tr>\n",
       "      <th>5</th>\n",
       "      <td>12.45</td>\n",
       "      <td>15.70</td>\n",
       "      <td>82.57</td>\n",
       "    </tr>\n",
       "    <tr>\n",
       "      <th>7</th>\n",
       "      <td>13.71</td>\n",
       "      <td>20.83</td>\n",
       "      <td>90.20</td>\n",
       "    </tr>\n",
       "    <tr>\n",
       "      <th>...</th>\n",
       "      <td>...</td>\n",
       "      <td>...</td>\n",
       "      <td>...</td>\n",
       "    </tr>\n",
       "    <tr>\n",
       "      <th>562</th>\n",
       "      <td>15.22</td>\n",
       "      <td>30.62</td>\n",
       "      <td>103.40</td>\n",
       "    </tr>\n",
       "    <tr>\n",
       "      <th>563</th>\n",
       "      <td>20.92</td>\n",
       "      <td>25.09</td>\n",
       "      <td>143.00</td>\n",
       "    </tr>\n",
       "    <tr>\n",
       "      <th>564</th>\n",
       "      <td>21.56</td>\n",
       "      <td>22.39</td>\n",
       "      <td>142.00</td>\n",
       "    </tr>\n",
       "    <tr>\n",
       "      <th>566</th>\n",
       "      <td>16.60</td>\n",
       "      <td>28.08</td>\n",
       "      <td>108.30</td>\n",
       "    </tr>\n",
       "    <tr>\n",
       "      <th>567</th>\n",
       "      <td>20.60</td>\n",
       "      <td>29.33</td>\n",
       "      <td>140.10</td>\n",
       "    </tr>\n",
       "  </tbody>\n",
       "</table>\n",
       "<p>385 rows × 3 columns</p>\n",
       "</div>"
      ],
      "text/plain": [
       "     mean radius  mean texture  mean perimeter\n",
       "1          20.57         17.77          132.90\n",
       "2          19.69         21.25          130.00\n",
       "3          11.42         20.38           77.58\n",
       "5          12.45         15.70           82.57\n",
       "7          13.71         20.83           90.20\n",
       "..           ...           ...             ...\n",
       "562        15.22         30.62          103.40\n",
       "563        20.92         25.09          143.00\n",
       "564        21.56         22.39          142.00\n",
       "566        16.60         28.08          108.30\n",
       "567        20.60         29.33          140.10\n",
       "\n",
       "[385 rows x 3 columns]"
      ]
     },
     "execution_count": 83,
     "metadata": {},
     "output_type": "execute_result"
    }
   ],
   "source": [
    "import pandas as pd\n",
    "import numpy as np\n",
    "from sklearn.compose import ColumnTransformer\n",
    "from sklearn.preprocessing import PowerTransformer, FunctionTransformer\n",
    "\n",
    "df = pd.read_csv('sample_dataset.csv').iloc[:,0:3].dropna()\n",
    "df"
   ]
  },
  {
   "cell_type": "code",
   "execution_count": 84,
   "id": "e8be8ee4-b662-425c-9ca7-6c511841d093",
   "metadata": {},
   "outputs": [
    {
     "data": {
      "text/plain": [
       "array([[ 1.63387527, -0.25875216,  4.88959697],\n",
       "       [ 1.48019619,  0.54975195,  4.86753445],\n",
       "       [-0.76778428,  0.36164667,  4.35130966],\n",
       "       ...,\n",
       "       [ 1.79501356,  0.78415653,  4.95582706],\n",
       "       [ 0.84387904,  1.79038799,  4.68490515],\n",
       "       [ 1.63893431,  1.98216688,  4.94235645]])"
      ]
     },
     "execution_count": 84,
     "metadata": {},
     "output_type": "execute_result"
    }
   ],
   "source": [
    "transformer = ColumnTransformer([\n",
    "    ('mean_radius',PowerTransformer(),[0]), # 'yeo-johnson'\n",
    "    ('mean_texture',PowerTransformer('box-cox'),[1]),\n",
    "    ('mean_perimeter',FunctionTransformer(lambda x:np.log(x),validate=True),[2])\n",
    "])\n",
    "transformer.fit_transform(df)"
   ]
  },
  {
   "cell_type": "markdown",
   "id": "74009b3b-4bea-4a80-98a0-dd092fbabf6f",
   "metadata": {},
   "source": [
    "# Pipelines"
   ]
  },
  {
   "cell_type": "code",
   "execution_count": 85,
   "id": "ec2bd869-0f40-4db8-ac1b-e5e5a8e4c061",
   "metadata": {},
   "outputs": [
    {
     "data": {
      "text/plain": [
       "array([[-1.43683573],\n",
       "       [ 0.02299615],\n",
       "       [ 0.02299615],\n",
       "       [ 1.39084342]])"
      ]
     },
     "execution_count": 85,
     "metadata": {},
     "output_type": "execute_result"
    }
   ],
   "source": [
    "import numpy as np\n",
    "from sklearn.impute import SimpleImputer\n",
    "from sklearn.preprocessing import PowerTransformer\n",
    "\n",
    "X = [[1],[2],[np.nan],[3]]\n",
    "cleaner = SimpleImputer()\n",
    "transformer = PowerTransformer()\n",
    "X_cleaned = cleaner.fit_transform(X)\n",
    "X_final = transformer.fit_transform(X_cleaned)\n",
    "X_final"
   ]
  },
  {
   "cell_type": "markdown",
   "id": "420079b7-dcd3-4e2f-bfd0-a962a2a99636",
   "metadata": {},
   "source": [
    "## Define a transformation pipeline"
   ]
  },
  {
   "cell_type": "code",
   "execution_count": 86,
   "id": "e405e086-64d4-4564-8818-43b6e7ba7728",
   "metadata": {},
   "outputs": [
    {
     "data": {
      "text/plain": [
       "array([[-1.43683573],\n",
       "       [ 0.02299615],\n",
       "       [ 0.02299615],\n",
       "       [ 1.39084342]])"
      ]
     },
     "execution_count": 86,
     "metadata": {},
     "output_type": "execute_result"
    }
   ],
   "source": [
    "from sklearn.pipeline import make_pipeline, Pipeline\n",
    "\n",
    "pipeline = make_pipeline(SimpleImputer(),PowerTransformer())\n",
    "pipeline.fit_transform(X)"
   ]
  },
  {
   "cell_type": "markdown",
   "id": "c3a1fa69-4d26-4a0b-972e-4eb2d900b2d0",
   "metadata": {},
   "source": [
    "### The pipeline object (more recommended to use Pipeline than make_pipeline)"
   ]
  },
  {
   "cell_type": "code",
   "execution_count": 87,
   "id": "ef9ef8c9-bb75-445c-8c57-94fb55bc5b24",
   "metadata": {},
   "outputs": [
    {
     "data": {
      "text/plain": [
       "array([[-1.43683573],\n",
       "       [ 0.02299615],\n",
       "       [ 0.02299615],\n",
       "       [ 1.39084342]])"
      ]
     },
     "execution_count": 87,
     "metadata": {},
     "output_type": "execute_result"
    }
   ],
   "source": [
    "pipeline = Pipeline([\n",
    "    ('cleaner',SimpleImputer()),\n",
    "    ('transformer',PowerTransformer())\n",
    "])\n",
    "pipeline.fit_transform(X)"
   ]
  },
  {
   "cell_type": "code",
   "execution_count": 88,
   "id": "44233393-8a86-4cee-82ad-610fe2dca96d",
   "metadata": {},
   "outputs": [
    {
     "data": {
      "text/html": [
       "<style>#sk-container-id-2 {color: black;}#sk-container-id-2 pre{padding: 0;}#sk-container-id-2 div.sk-toggleable {background-color: white;}#sk-container-id-2 label.sk-toggleable__label {cursor: pointer;display: block;width: 100%;margin-bottom: 0;padding: 0.3em;box-sizing: border-box;text-align: center;}#sk-container-id-2 label.sk-toggleable__label-arrow:before {content: \"▸\";float: left;margin-right: 0.25em;color: #696969;}#sk-container-id-2 label.sk-toggleable__label-arrow:hover:before {color: black;}#sk-container-id-2 div.sk-estimator:hover label.sk-toggleable__label-arrow:before {color: black;}#sk-container-id-2 div.sk-toggleable__content {max-height: 0;max-width: 0;overflow: hidden;text-align: left;background-color: #f0f8ff;}#sk-container-id-2 div.sk-toggleable__content pre {margin: 0.2em;color: black;border-radius: 0.25em;background-color: #f0f8ff;}#sk-container-id-2 input.sk-toggleable__control:checked~div.sk-toggleable__content {max-height: 200px;max-width: 100%;overflow: auto;}#sk-container-id-2 input.sk-toggleable__control:checked~label.sk-toggleable__label-arrow:before {content: \"▾\";}#sk-container-id-2 div.sk-estimator input.sk-toggleable__control:checked~label.sk-toggleable__label {background-color: #d4ebff;}#sk-container-id-2 div.sk-label input.sk-toggleable__control:checked~label.sk-toggleable__label {background-color: #d4ebff;}#sk-container-id-2 input.sk-hidden--visually {border: 0;clip: rect(1px 1px 1px 1px);clip: rect(1px, 1px, 1px, 1px);height: 1px;margin: -1px;overflow: hidden;padding: 0;position: absolute;width: 1px;}#sk-container-id-2 div.sk-estimator {font-family: monospace;background-color: #f0f8ff;border: 1px dotted black;border-radius: 0.25em;box-sizing: border-box;margin-bottom: 0.5em;}#sk-container-id-2 div.sk-estimator:hover {background-color: #d4ebff;}#sk-container-id-2 div.sk-parallel-item::after {content: \"\";width: 100%;border-bottom: 1px solid gray;flex-grow: 1;}#sk-container-id-2 div.sk-label:hover label.sk-toggleable__label {background-color: #d4ebff;}#sk-container-id-2 div.sk-serial::before {content: \"\";position: absolute;border-left: 1px solid gray;box-sizing: border-box;top: 0;bottom: 0;left: 50%;z-index: 0;}#sk-container-id-2 div.sk-serial {display: flex;flex-direction: column;align-items: center;background-color: white;padding-right: 0.2em;padding-left: 0.2em;position: relative;}#sk-container-id-2 div.sk-item {position: relative;z-index: 1;}#sk-container-id-2 div.sk-parallel {display: flex;align-items: stretch;justify-content: center;background-color: white;position: relative;}#sk-container-id-2 div.sk-item::before, #sk-container-id-2 div.sk-parallel-item::before {content: \"\";position: absolute;border-left: 1px solid gray;box-sizing: border-box;top: 0;bottom: 0;left: 50%;z-index: -1;}#sk-container-id-2 div.sk-parallel-item {display: flex;flex-direction: column;z-index: 1;position: relative;background-color: white;}#sk-container-id-2 div.sk-parallel-item:first-child::after {align-self: flex-end;width: 50%;}#sk-container-id-2 div.sk-parallel-item:last-child::after {align-self: flex-start;width: 50%;}#sk-container-id-2 div.sk-parallel-item:only-child::after {width: 0;}#sk-container-id-2 div.sk-dashed-wrapped {border: 1px dashed gray;margin: 0 0.4em 0.5em 0.4em;box-sizing: border-box;padding-bottom: 0.4em;background-color: white;}#sk-container-id-2 div.sk-label label {font-family: monospace;font-weight: bold;display: inline-block;line-height: 1.2em;}#sk-container-id-2 div.sk-label-container {text-align: center;}#sk-container-id-2 div.sk-container {/* jupyter's `normalize.less` sets `[hidden] { display: none; }` but bootstrap.min.css set `[hidden] { display: none !important; }` so we also need the `!important` here to be able to override the default hidden behavior on the sphinx rendered scikit-learn.org. See: https://github.com/scikit-learn/scikit-learn/issues/21755 */display: inline-block !important;position: relative;}#sk-container-id-2 div.sk-text-repr-fallback {display: none;}</style><div id=\"sk-container-id-2\" class=\"sk-top-container\"><div class=\"sk-text-repr-fallback\"><pre>Pipeline(steps=[(&#x27;cleaner&#x27;, SimpleImputer(strategy=&#x27;median&#x27;)),\n",
       "                (&#x27;transformer&#x27;, PowerTransformer())])</pre><b>In a Jupyter environment, please rerun this cell to show the HTML representation or trust the notebook. <br />On GitHub, the HTML representation is unable to render, please try loading this page with nbviewer.org.</b></div><div class=\"sk-container\" hidden><div class=\"sk-item sk-dashed-wrapped\"><div class=\"sk-label-container\"><div class=\"sk-label sk-toggleable\"><input class=\"sk-toggleable__control sk-hidden--visually\" id=\"sk-estimator-id-2\" type=\"checkbox\" ><label for=\"sk-estimator-id-2\" class=\"sk-toggleable__label sk-toggleable__label-arrow\">Pipeline</label><div class=\"sk-toggleable__content\"><pre>Pipeline(steps=[(&#x27;cleaner&#x27;, SimpleImputer(strategy=&#x27;median&#x27;)),\n",
       "                (&#x27;transformer&#x27;, PowerTransformer())])</pre></div></div></div><div class=\"sk-serial\"><div class=\"sk-item\"><div class=\"sk-estimator sk-toggleable\"><input class=\"sk-toggleable__control sk-hidden--visually\" id=\"sk-estimator-id-3\" type=\"checkbox\" ><label for=\"sk-estimator-id-3\" class=\"sk-toggleable__label sk-toggleable__label-arrow\">SimpleImputer</label><div class=\"sk-toggleable__content\"><pre>SimpleImputer(strategy=&#x27;median&#x27;)</pre></div></div></div><div class=\"sk-item\"><div class=\"sk-estimator sk-toggleable\"><input class=\"sk-toggleable__control sk-hidden--visually\" id=\"sk-estimator-id-4\" type=\"checkbox\" ><label for=\"sk-estimator-id-4\" class=\"sk-toggleable__label sk-toggleable__label-arrow\">PowerTransformer</label><div class=\"sk-toggleable__content\"><pre>PowerTransformer()</pre></div></div></div></div></div></div></div>"
      ],
      "text/plain": [
       "Pipeline(steps=[('cleaner', SimpleImputer(strategy='median')),\n",
       "                ('transformer', PowerTransformer())])"
      ]
     },
     "execution_count": 88,
     "metadata": {},
     "output_type": "execute_result"
    }
   ],
   "source": [
    "pipeline.set_params(cleaner__strategy='median')"
   ]
  },
  {
   "cell_type": "code",
   "execution_count": 89,
   "id": "0379a055-83f2-49f2-a0d8-5afeb0889132",
   "metadata": {},
   "outputs": [
    {
     "data": {
      "text/plain": [
       "array([[-1.43683573],\n",
       "       [ 0.02299615],\n",
       "       [ 0.02299615],\n",
       "       [ 1.39084342]])"
      ]
     },
     "execution_count": 89,
     "metadata": {},
     "output_type": "execute_result"
    }
   ],
   "source": [
    "pipeline.fit_transform(X)"
   ]
  },
  {
   "cell_type": "markdown",
   "id": "3fb7efef-566e-4572-9494-f739b4ebad20",
   "metadata": {},
   "source": [
    "## Pipelines and ColumnTransformer together"
   ]
  },
  {
   "cell_type": "code",
   "execution_count": 90,
   "id": "0c637970-4eed-497d-b381-57714156c14a",
   "metadata": {},
   "outputs": [
    {
     "data": {
      "text/plain": [
       "array([[ 13.28,  10.38, 122.8 , ...,   1.  ,   0.  ,   0.  ],\n",
       "       [ 20.57,  17.77, 132.9 , ...,   1.  ,   0.  ,   0.  ],\n",
       "       [ 19.69,  21.25, 130.  , ...,   1.  ,   0.  ,   0.  ],\n",
       "       ...,\n",
       "       [ 16.6 ,  28.08, 108.3 , ...,   1.  ,   0.  ,   0.  ],\n",
       "       [ 20.6 ,  29.33, 140.1 , ...,   1.  ,   0.  ,   0.  ],\n",
       "       [  7.76,  18.86,  47.92, ...,   1.  ,   0.  ,   0.  ]])"
      ]
     },
     "execution_count": 90,
     "metadata": {},
     "output_type": "execute_result"
    }
   ],
   "source": [
    "import pandas as pd\n",
    "import numpy as np\n",
    "\n",
    "from sklearn.impute import SimpleImputer\n",
    "from sklearn.preprocessing import OneHotEncoder\n",
    "from sklearn.compose import ColumnTransformer, make_column_selector\n",
    "from sklearn.pipeline import Pipeline\n",
    "\n",
    "df = pd.read_csv('sample_dataset.csv')\n",
    "pipeline_categorical = Pipeline([\n",
    "    ('cleaner',SimpleImputer(strategy='most_frequent')),\n",
    "    ('encoder',OneHotEncoder(sparse_output=False))\n",
    "])\n",
    "column_transformer = ColumnTransformer([\n",
    "    ('numerical_variable',SimpleImputer(strategy='median'),make_column_selector(dtype_exclude='object')),\n",
    "    ('categorical_variable',pipeline_categorical,make_column_selector(dtype_include='object'))\n",
    "])\n",
    "column_transformer.fit_transform(df)"
   ]
  },
  {
   "cell_type": "code",
   "execution_count": 91,
   "id": "46a418f2-7d09-4748-9cac-d09ad4daf593",
   "metadata": {},
   "outputs": [
    {
     "data": {
      "text/html": [
       "<style>#sk-container-id-3 {color: black;}#sk-container-id-3 pre{padding: 0;}#sk-container-id-3 div.sk-toggleable {background-color: white;}#sk-container-id-3 label.sk-toggleable__label {cursor: pointer;display: block;width: 100%;margin-bottom: 0;padding: 0.3em;box-sizing: border-box;text-align: center;}#sk-container-id-3 label.sk-toggleable__label-arrow:before {content: \"▸\";float: left;margin-right: 0.25em;color: #696969;}#sk-container-id-3 label.sk-toggleable__label-arrow:hover:before {color: black;}#sk-container-id-3 div.sk-estimator:hover label.sk-toggleable__label-arrow:before {color: black;}#sk-container-id-3 div.sk-toggleable__content {max-height: 0;max-width: 0;overflow: hidden;text-align: left;background-color: #f0f8ff;}#sk-container-id-3 div.sk-toggleable__content pre {margin: 0.2em;color: black;border-radius: 0.25em;background-color: #f0f8ff;}#sk-container-id-3 input.sk-toggleable__control:checked~div.sk-toggleable__content {max-height: 200px;max-width: 100%;overflow: auto;}#sk-container-id-3 input.sk-toggleable__control:checked~label.sk-toggleable__label-arrow:before {content: \"▾\";}#sk-container-id-3 div.sk-estimator input.sk-toggleable__control:checked~label.sk-toggleable__label {background-color: #d4ebff;}#sk-container-id-3 div.sk-label input.sk-toggleable__control:checked~label.sk-toggleable__label {background-color: #d4ebff;}#sk-container-id-3 input.sk-hidden--visually {border: 0;clip: rect(1px 1px 1px 1px);clip: rect(1px, 1px, 1px, 1px);height: 1px;margin: -1px;overflow: hidden;padding: 0;position: absolute;width: 1px;}#sk-container-id-3 div.sk-estimator {font-family: monospace;background-color: #f0f8ff;border: 1px dotted black;border-radius: 0.25em;box-sizing: border-box;margin-bottom: 0.5em;}#sk-container-id-3 div.sk-estimator:hover {background-color: #d4ebff;}#sk-container-id-3 div.sk-parallel-item::after {content: \"\";width: 100%;border-bottom: 1px solid gray;flex-grow: 1;}#sk-container-id-3 div.sk-label:hover label.sk-toggleable__label {background-color: #d4ebff;}#sk-container-id-3 div.sk-serial::before {content: \"\";position: absolute;border-left: 1px solid gray;box-sizing: border-box;top: 0;bottom: 0;left: 50%;z-index: 0;}#sk-container-id-3 div.sk-serial {display: flex;flex-direction: column;align-items: center;background-color: white;padding-right: 0.2em;padding-left: 0.2em;position: relative;}#sk-container-id-3 div.sk-item {position: relative;z-index: 1;}#sk-container-id-3 div.sk-parallel {display: flex;align-items: stretch;justify-content: center;background-color: white;position: relative;}#sk-container-id-3 div.sk-item::before, #sk-container-id-3 div.sk-parallel-item::before {content: \"\";position: absolute;border-left: 1px solid gray;box-sizing: border-box;top: 0;bottom: 0;left: 50%;z-index: -1;}#sk-container-id-3 div.sk-parallel-item {display: flex;flex-direction: column;z-index: 1;position: relative;background-color: white;}#sk-container-id-3 div.sk-parallel-item:first-child::after {align-self: flex-end;width: 50%;}#sk-container-id-3 div.sk-parallel-item:last-child::after {align-self: flex-start;width: 50%;}#sk-container-id-3 div.sk-parallel-item:only-child::after {width: 0;}#sk-container-id-3 div.sk-dashed-wrapped {border: 1px dashed gray;margin: 0 0.4em 0.5em 0.4em;box-sizing: border-box;padding-bottom: 0.4em;background-color: white;}#sk-container-id-3 div.sk-label label {font-family: monospace;font-weight: bold;display: inline-block;line-height: 1.2em;}#sk-container-id-3 div.sk-label-container {text-align: center;}#sk-container-id-3 div.sk-container {/* jupyter's `normalize.less` sets `[hidden] { display: none; }` but bootstrap.min.css set `[hidden] { display: none !important; }` so we also need the `!important` here to be able to override the default hidden behavior on the sphinx rendered scikit-learn.org. See: https://github.com/scikit-learn/scikit-learn/issues/21755 */display: inline-block !important;position: relative;}#sk-container-id-3 div.sk-text-repr-fallback {display: none;}</style><div id=\"sk-container-id-3\" class=\"sk-top-container\"><div class=\"sk-text-repr-fallback\"><pre>ColumnTransformer(transformers=[(&#x27;numerical_variable&#x27;,\n",
       "                                 SimpleImputer(fill_value=0,\n",
       "                                               strategy=&#x27;constant&#x27;),\n",
       "                                 &lt;sklearn.compose._column_transformer.make_column_selector object at 0x7ff5433be520&gt;),\n",
       "                                (&#x27;categorical_variable&#x27;,\n",
       "                                 Pipeline(steps=[(&#x27;cleaner&#x27;,\n",
       "                                                  SimpleImputer(strategy=&#x27;most_frequent&#x27;)),\n",
       "                                                 (&#x27;encoder&#x27;,\n",
       "                                                  OneHotEncoder(sparse_output=False))]),\n",
       "                                 &lt;sklearn.compose._column_transformer.make_column_selector object at 0x7ff5433a8040&gt;)])</pre><b>In a Jupyter environment, please rerun this cell to show the HTML representation or trust the notebook. <br />On GitHub, the HTML representation is unable to render, please try loading this page with nbviewer.org.</b></div><div class=\"sk-container\" hidden><div class=\"sk-item sk-dashed-wrapped\"><div class=\"sk-label-container\"><div class=\"sk-label sk-toggleable\"><input class=\"sk-toggleable__control sk-hidden--visually\" id=\"sk-estimator-id-5\" type=\"checkbox\" ><label for=\"sk-estimator-id-5\" class=\"sk-toggleable__label sk-toggleable__label-arrow\">ColumnTransformer</label><div class=\"sk-toggleable__content\"><pre>ColumnTransformer(transformers=[(&#x27;numerical_variable&#x27;,\n",
       "                                 SimpleImputer(fill_value=0,\n",
       "                                               strategy=&#x27;constant&#x27;),\n",
       "                                 &lt;sklearn.compose._column_transformer.make_column_selector object at 0x7ff5433be520&gt;),\n",
       "                                (&#x27;categorical_variable&#x27;,\n",
       "                                 Pipeline(steps=[(&#x27;cleaner&#x27;,\n",
       "                                                  SimpleImputer(strategy=&#x27;most_frequent&#x27;)),\n",
       "                                                 (&#x27;encoder&#x27;,\n",
       "                                                  OneHotEncoder(sparse_output=False))]),\n",
       "                                 &lt;sklearn.compose._column_transformer.make_column_selector object at 0x7ff5433a8040&gt;)])</pre></div></div></div><div class=\"sk-parallel\"><div class=\"sk-parallel-item\"><div class=\"sk-item\"><div class=\"sk-label-container\"><div class=\"sk-label sk-toggleable\"><input class=\"sk-toggleable__control sk-hidden--visually\" id=\"sk-estimator-id-6\" type=\"checkbox\" ><label for=\"sk-estimator-id-6\" class=\"sk-toggleable__label sk-toggleable__label-arrow\">numerical_variable</label><div class=\"sk-toggleable__content\"><pre>&lt;sklearn.compose._column_transformer.make_column_selector object at 0x7ff5433be520&gt;</pre></div></div></div><div class=\"sk-serial\"><div class=\"sk-item\"><div class=\"sk-estimator sk-toggleable\"><input class=\"sk-toggleable__control sk-hidden--visually\" id=\"sk-estimator-id-7\" type=\"checkbox\" ><label for=\"sk-estimator-id-7\" class=\"sk-toggleable__label sk-toggleable__label-arrow\">SimpleImputer</label><div class=\"sk-toggleable__content\"><pre>SimpleImputer(fill_value=0, strategy=&#x27;constant&#x27;)</pre></div></div></div></div></div></div><div class=\"sk-parallel-item\"><div class=\"sk-item\"><div class=\"sk-label-container\"><div class=\"sk-label sk-toggleable\"><input class=\"sk-toggleable__control sk-hidden--visually\" id=\"sk-estimator-id-8\" type=\"checkbox\" ><label for=\"sk-estimator-id-8\" class=\"sk-toggleable__label sk-toggleable__label-arrow\">categorical_variable</label><div class=\"sk-toggleable__content\"><pre>&lt;sklearn.compose._column_transformer.make_column_selector object at 0x7ff5433a8040&gt;</pre></div></div></div><div class=\"sk-serial\"><div class=\"sk-item\"><div class=\"sk-serial\"><div class=\"sk-item\"><div class=\"sk-estimator sk-toggleable\"><input class=\"sk-toggleable__control sk-hidden--visually\" id=\"sk-estimator-id-9\" type=\"checkbox\" ><label for=\"sk-estimator-id-9\" class=\"sk-toggleable__label sk-toggleable__label-arrow\">SimpleImputer</label><div class=\"sk-toggleable__content\"><pre>SimpleImputer(strategy=&#x27;most_frequent&#x27;)</pre></div></div></div><div class=\"sk-item\"><div class=\"sk-estimator sk-toggleable\"><input class=\"sk-toggleable__control sk-hidden--visually\" id=\"sk-estimator-id-10\" type=\"checkbox\" ><label for=\"sk-estimator-id-10\" class=\"sk-toggleable__label sk-toggleable__label-arrow\">OneHotEncoder</label><div class=\"sk-toggleable__content\"><pre>OneHotEncoder(sparse_output=False)</pre></div></div></div></div></div></div></div></div></div></div></div></div>"
      ],
      "text/plain": [
       "ColumnTransformer(transformers=[('numerical_variable',\n",
       "                                 SimpleImputer(fill_value=0,\n",
       "                                               strategy='constant'),\n",
       "                                 <sklearn.compose._column_transformer.make_column_selector object at 0x7ff5433be520>),\n",
       "                                ('categorical_variable',\n",
       "                                 Pipeline(steps=[('cleaner',\n",
       "                                                  SimpleImputer(strategy='most_frequent')),\n",
       "                                                 ('encoder',\n",
       "                                                  OneHotEncoder(sparse_output=False))]),\n",
       "                                 <sklearn.compose._column_transformer.make_column_selector object at 0x7ff5433a8040>)])"
      ]
     },
     "execution_count": 91,
     "metadata": {},
     "output_type": "execute_result"
    }
   ],
   "source": [
    "column_transformer.set_params(numerical_variable__strategy='constant',numerical_variable__fill_value=0)"
   ]
  },
  {
   "cell_type": "code",
   "execution_count": 92,
   "id": "5bcd399b-704e-4eca-b830-204f44d46ab7",
   "metadata": {},
   "outputs": [
    {
     "data": {
      "text/html": [
       "<style>#sk-container-id-4 {color: black;}#sk-container-id-4 pre{padding: 0;}#sk-container-id-4 div.sk-toggleable {background-color: white;}#sk-container-id-4 label.sk-toggleable__label {cursor: pointer;display: block;width: 100%;margin-bottom: 0;padding: 0.3em;box-sizing: border-box;text-align: center;}#sk-container-id-4 label.sk-toggleable__label-arrow:before {content: \"▸\";float: left;margin-right: 0.25em;color: #696969;}#sk-container-id-4 label.sk-toggleable__label-arrow:hover:before {color: black;}#sk-container-id-4 div.sk-estimator:hover label.sk-toggleable__label-arrow:before {color: black;}#sk-container-id-4 div.sk-toggleable__content {max-height: 0;max-width: 0;overflow: hidden;text-align: left;background-color: #f0f8ff;}#sk-container-id-4 div.sk-toggleable__content pre {margin: 0.2em;color: black;border-radius: 0.25em;background-color: #f0f8ff;}#sk-container-id-4 input.sk-toggleable__control:checked~div.sk-toggleable__content {max-height: 200px;max-width: 100%;overflow: auto;}#sk-container-id-4 input.sk-toggleable__control:checked~label.sk-toggleable__label-arrow:before {content: \"▾\";}#sk-container-id-4 div.sk-estimator input.sk-toggleable__control:checked~label.sk-toggleable__label {background-color: #d4ebff;}#sk-container-id-4 div.sk-label input.sk-toggleable__control:checked~label.sk-toggleable__label {background-color: #d4ebff;}#sk-container-id-4 input.sk-hidden--visually {border: 0;clip: rect(1px 1px 1px 1px);clip: rect(1px, 1px, 1px, 1px);height: 1px;margin: -1px;overflow: hidden;padding: 0;position: absolute;width: 1px;}#sk-container-id-4 div.sk-estimator {font-family: monospace;background-color: #f0f8ff;border: 1px dotted black;border-radius: 0.25em;box-sizing: border-box;margin-bottom: 0.5em;}#sk-container-id-4 div.sk-estimator:hover {background-color: #d4ebff;}#sk-container-id-4 div.sk-parallel-item::after {content: \"\";width: 100%;border-bottom: 1px solid gray;flex-grow: 1;}#sk-container-id-4 div.sk-label:hover label.sk-toggleable__label {background-color: #d4ebff;}#sk-container-id-4 div.sk-serial::before {content: \"\";position: absolute;border-left: 1px solid gray;box-sizing: border-box;top: 0;bottom: 0;left: 50%;z-index: 0;}#sk-container-id-4 div.sk-serial {display: flex;flex-direction: column;align-items: center;background-color: white;padding-right: 0.2em;padding-left: 0.2em;position: relative;}#sk-container-id-4 div.sk-item {position: relative;z-index: 1;}#sk-container-id-4 div.sk-parallel {display: flex;align-items: stretch;justify-content: center;background-color: white;position: relative;}#sk-container-id-4 div.sk-item::before, #sk-container-id-4 div.sk-parallel-item::before {content: \"\";position: absolute;border-left: 1px solid gray;box-sizing: border-box;top: 0;bottom: 0;left: 50%;z-index: -1;}#sk-container-id-4 div.sk-parallel-item {display: flex;flex-direction: column;z-index: 1;position: relative;background-color: white;}#sk-container-id-4 div.sk-parallel-item:first-child::after {align-self: flex-end;width: 50%;}#sk-container-id-4 div.sk-parallel-item:last-child::after {align-self: flex-start;width: 50%;}#sk-container-id-4 div.sk-parallel-item:only-child::after {width: 0;}#sk-container-id-4 div.sk-dashed-wrapped {border: 1px dashed gray;margin: 0 0.4em 0.5em 0.4em;box-sizing: border-box;padding-bottom: 0.4em;background-color: white;}#sk-container-id-4 div.sk-label label {font-family: monospace;font-weight: bold;display: inline-block;line-height: 1.2em;}#sk-container-id-4 div.sk-label-container {text-align: center;}#sk-container-id-4 div.sk-container {/* jupyter's `normalize.less` sets `[hidden] { display: none; }` but bootstrap.min.css set `[hidden] { display: none !important; }` so we also need the `!important` here to be able to override the default hidden behavior on the sphinx rendered scikit-learn.org. See: https://github.com/scikit-learn/scikit-learn/issues/21755 */display: inline-block !important;position: relative;}#sk-container-id-4 div.sk-text-repr-fallback {display: none;}</style><div id=\"sk-container-id-4\" class=\"sk-top-container\"><div class=\"sk-text-repr-fallback\"><pre>ColumnTransformer(transformers=[(&#x27;numerical_variable&#x27;,\n",
       "                                 SimpleImputer(fill_value=0,\n",
       "                                               strategy=&#x27;constant&#x27;),\n",
       "                                 &lt;sklearn.compose._column_transformer.make_column_selector object at 0x7ff5433be520&gt;),\n",
       "                                (&#x27;categorical_variable&#x27;,\n",
       "                                 Pipeline(steps=[(&#x27;cleaner&#x27;,\n",
       "                                                  SimpleImputer(fill_value=&#x27;N&#x27;,\n",
       "                                                                strategy=&#x27;constant&#x27;)),\n",
       "                                                 (&#x27;encoder&#x27;,\n",
       "                                                  OneHotEncoder(sparse_output=False))]),\n",
       "                                 &lt;sklearn.compose._column_transformer.make_column_selector object at 0x7ff5433a8040&gt;)])</pre><b>In a Jupyter environment, please rerun this cell to show the HTML representation or trust the notebook. <br />On GitHub, the HTML representation is unable to render, please try loading this page with nbviewer.org.</b></div><div class=\"sk-container\" hidden><div class=\"sk-item sk-dashed-wrapped\"><div class=\"sk-label-container\"><div class=\"sk-label sk-toggleable\"><input class=\"sk-toggleable__control sk-hidden--visually\" id=\"sk-estimator-id-11\" type=\"checkbox\" ><label for=\"sk-estimator-id-11\" class=\"sk-toggleable__label sk-toggleable__label-arrow\">ColumnTransformer</label><div class=\"sk-toggleable__content\"><pre>ColumnTransformer(transformers=[(&#x27;numerical_variable&#x27;,\n",
       "                                 SimpleImputer(fill_value=0,\n",
       "                                               strategy=&#x27;constant&#x27;),\n",
       "                                 &lt;sklearn.compose._column_transformer.make_column_selector object at 0x7ff5433be520&gt;),\n",
       "                                (&#x27;categorical_variable&#x27;,\n",
       "                                 Pipeline(steps=[(&#x27;cleaner&#x27;,\n",
       "                                                  SimpleImputer(fill_value=&#x27;N&#x27;,\n",
       "                                                                strategy=&#x27;constant&#x27;)),\n",
       "                                                 (&#x27;encoder&#x27;,\n",
       "                                                  OneHotEncoder(sparse_output=False))]),\n",
       "                                 &lt;sklearn.compose._column_transformer.make_column_selector object at 0x7ff5433a8040&gt;)])</pre></div></div></div><div class=\"sk-parallel\"><div class=\"sk-parallel-item\"><div class=\"sk-item\"><div class=\"sk-label-container\"><div class=\"sk-label sk-toggleable\"><input class=\"sk-toggleable__control sk-hidden--visually\" id=\"sk-estimator-id-12\" type=\"checkbox\" ><label for=\"sk-estimator-id-12\" class=\"sk-toggleable__label sk-toggleable__label-arrow\">numerical_variable</label><div class=\"sk-toggleable__content\"><pre>&lt;sklearn.compose._column_transformer.make_column_selector object at 0x7ff5433be520&gt;</pre></div></div></div><div class=\"sk-serial\"><div class=\"sk-item\"><div class=\"sk-estimator sk-toggleable\"><input class=\"sk-toggleable__control sk-hidden--visually\" id=\"sk-estimator-id-13\" type=\"checkbox\" ><label for=\"sk-estimator-id-13\" class=\"sk-toggleable__label sk-toggleable__label-arrow\">SimpleImputer</label><div class=\"sk-toggleable__content\"><pre>SimpleImputer(fill_value=0, strategy=&#x27;constant&#x27;)</pre></div></div></div></div></div></div><div class=\"sk-parallel-item\"><div class=\"sk-item\"><div class=\"sk-label-container\"><div class=\"sk-label sk-toggleable\"><input class=\"sk-toggleable__control sk-hidden--visually\" id=\"sk-estimator-id-14\" type=\"checkbox\" ><label for=\"sk-estimator-id-14\" class=\"sk-toggleable__label sk-toggleable__label-arrow\">categorical_variable</label><div class=\"sk-toggleable__content\"><pre>&lt;sklearn.compose._column_transformer.make_column_selector object at 0x7ff5433a8040&gt;</pre></div></div></div><div class=\"sk-serial\"><div class=\"sk-item\"><div class=\"sk-serial\"><div class=\"sk-item\"><div class=\"sk-estimator sk-toggleable\"><input class=\"sk-toggleable__control sk-hidden--visually\" id=\"sk-estimator-id-15\" type=\"checkbox\" ><label for=\"sk-estimator-id-15\" class=\"sk-toggleable__label sk-toggleable__label-arrow\">SimpleImputer</label><div class=\"sk-toggleable__content\"><pre>SimpleImputer(fill_value=&#x27;N&#x27;, strategy=&#x27;constant&#x27;)</pre></div></div></div><div class=\"sk-item\"><div class=\"sk-estimator sk-toggleable\"><input class=\"sk-toggleable__control sk-hidden--visually\" id=\"sk-estimator-id-16\" type=\"checkbox\" ><label for=\"sk-estimator-id-16\" class=\"sk-toggleable__label sk-toggleable__label-arrow\">OneHotEncoder</label><div class=\"sk-toggleable__content\"><pre>OneHotEncoder(sparse_output=False)</pre></div></div></div></div></div></div></div></div></div></div></div></div>"
      ],
      "text/plain": [
       "ColumnTransformer(transformers=[('numerical_variable',\n",
       "                                 SimpleImputer(fill_value=0,\n",
       "                                               strategy='constant'),\n",
       "                                 <sklearn.compose._column_transformer.make_column_selector object at 0x7ff5433be520>),\n",
       "                                ('categorical_variable',\n",
       "                                 Pipeline(steps=[('cleaner',\n",
       "                                                  SimpleImputer(fill_value='N',\n",
       "                                                                strategy='constant')),\n",
       "                                                 ('encoder',\n",
       "                                                  OneHotEncoder(sparse_output=False))]),\n",
       "                                 <sklearn.compose._column_transformer.make_column_selector object at 0x7ff5433a8040>)])"
      ]
     },
     "execution_count": 92,
     "metadata": {},
     "output_type": "execute_result"
    }
   ],
   "source": [
    "column_transformer.set_params(categorical_variable__cleaner__strategy='constant',categorical_variable__cleaner__fill_value='N')"
   ]
  },
  {
   "cell_type": "code",
   "execution_count": 93,
   "id": "2ff2425a-a9fa-427c-afd2-4e07cfb51256",
   "metadata": {},
   "outputs": [
    {
     "data": {
      "text/plain": [
       "array([[  0.  ,  10.38, 122.8 , ...,   0.  ,   0.  ,   0.  ],\n",
       "       [ 20.57,  17.77, 132.9 , ...,   0.  ,   0.  ,   0.  ],\n",
       "       [ 19.69,  21.25, 130.  , ...,   0.  ,   0.  ,   0.  ],\n",
       "       ...,\n",
       "       [ 16.6 ,  28.08, 108.3 , ...,   0.  ,   0.  ,   0.  ],\n",
       "       [ 20.6 ,  29.33, 140.1 , ...,   0.  ,   0.  ,   0.  ],\n",
       "       [  7.76,   0.  ,  47.92, ...,   0.  ,   0.  ,   0.  ]])"
      ]
     },
     "execution_count": 93,
     "metadata": {},
     "output_type": "execute_result"
    }
   ],
   "source": [
    "column_transformer.fit_transform(df)"
   ]
  },
  {
   "cell_type": "markdown",
   "id": "77fbcf31-fd5e-4ded-ba7b-131375c87a32",
   "metadata": {},
   "source": [
    "## Exercise 1\n",
    "* Load **sample_dataset.csv** and select only the features: mean radius, area error, mean perimeter\n",
    "* Apply the following transformations using ColumnTransformer and Pipeline:\n",
    "  * Numerical features:\n",
    "    * Cleaning using the mean value\n",
    "    * Transformation using the Yeo-Johnson transformation\n",
    "  * Categorical features:\n",
    "    * Cleaning using the most probable value\n",
    "    * One-hot encoding with dense output"
   ]
  },
  {
   "cell_type": "code",
   "execution_count": 94,
   "id": "d6efdd85-5017-407f-8e8a-b6405ed43c7b",
   "metadata": {},
   "outputs": [
    {
     "data": {
      "text/plain": [
       "array([[ 0.14898924,  1.31305907,  1.        ,  0.        ,  0.        ],\n",
       "       [ 1.77124869,  1.61013246,  1.        ,  0.        ,  0.        ],\n",
       "       [ 1.59585762,  1.52800056,  1.        ,  0.        ,  0.        ],\n",
       "       ...,\n",
       "       [ 0.88394456,  0.82431697,  1.        ,  0.        ,  0.        ],\n",
       "       [ 1.77704665,  1.80409019,  1.        ,  0.        ,  0.        ],\n",
       "       [-2.82849654, -2.89045255,  1.        ,  0.        ,  0.        ]])"
      ]
     },
     "execution_count": 94,
     "metadata": {},
     "output_type": "execute_result"
    }
   ],
   "source": [
    "import pandas as pd\n",
    "from sklearn.compose import ColumnTransformer, make_column_selector\n",
    "from sklearn.pipeline import Pipeline\n",
    "from sklearn.impute import SimpleImputer\n",
    "from sklearn.preprocessing import PowerTransformer, OneHotEncoder\n",
    "\n",
    "df = pd.read_csv('sample_dataset.csv')[['mean radius','area error','mean perimeter']]\n",
    "numerical_column_transformer = Pipeline([\n",
    "    ('cleaner',SimpleImputer(strategy='mean')),\n",
    "    ('transformer',PowerTransformer('yeo-johnson'))\n",
    "])\n",
    "categorical_column_transformer = Pipeline([\n",
    "    ('cleaner',SimpleImputer(strategy='most_frequent')),\n",
    "    ('encoder',OneHotEncoder(sparse_output=False))\n",
    "])\n",
    "column_transformer = ColumnTransformer([\n",
    "    ('numerical_features',numerical_column_transformer,make_column_selector(dtype_exclude='object')),\n",
    "    ('categorical_features',categorical_column_transformer,make_column_selector(dtype_include='object'))\n",
    "])\n",
    "column_transformer.fit_transform(df)"
   ]
  },
  {
   "cell_type": "markdown",
   "id": "03e40c63-a390-4944-b1ee-a275df780df1",
   "metadata": {},
   "source": [
    "## Exercise 2\n",
    "* Modify the transformations of the previous exercise according to these settings and using set_params:\n",
    "  * Numerical features: change the cleaning value to the median value\n",
    "  * Categorical features: change the cleaning value to 'N' constant value"
   ]
  },
  {
   "cell_type": "code",
   "execution_count": 95,
   "id": "3d3931df-8d7b-4470-8731-c013d16a0733",
   "metadata": {},
   "outputs": [
    {
     "data": {
      "text/plain": [
       "array([[-0.05595843,  1.33240917,  1.        ,  0.        ,  0.        ,\n",
       "         0.        ],\n",
       "       [ 1.7769574 ,  1.61842447,  1.        ,  0.        ,  0.        ,\n",
       "         0.        ],\n",
       "       [ 1.61194824,  1.53959677,  1.        ,  0.        ,  0.        ,\n",
       "         0.        ],\n",
       "       ...,\n",
       "       [ 0.93017209,  0.85656352,  1.        ,  0.        ,  0.        ,\n",
       "         0.        ],\n",
       "       [ 1.78239184,  1.80382233,  1.        ,  0.        ,  0.        ,\n",
       "         0.        ],\n",
       "       [-2.91245388, -2.95836497,  1.        ,  0.        ,  0.        ,\n",
       "         0.        ]])"
      ]
     },
     "execution_count": 95,
     "metadata": {},
     "output_type": "execute_result"
    }
   ],
   "source": [
    "column_transformer.set_params(\n",
    "    numerical_features__cleaner__strategy='median',\n",
    "    categorical_features__cleaner__strategy='constant',\n",
    "    categorical_features__cleaner__fill_value='N'\n",
    ")\n",
    "column_transformer.fit_transform(df)"
   ]
  },
  {
   "cell_type": "markdown",
   "id": "fba87e07-d4e2-4473-9ba2-fda3e038008b",
   "metadata": {},
   "source": [
    "# Scaling"
   ]
  },
  {
   "cell_type": "markdown",
   "id": "829ba36d-27a4-451b-9bd7-c6161d1021e1",
   "metadata": {},
   "source": [
    "* Scaling transforms the columns in order to make them have the **same order of magnitude**. Sometimes it's necessary because different orders of magnitude may affect the importance of the features **perceived** by the model.\n",
    "\n",
    "* It doesn't change the **correlation** between the features and the target, so it doesn't affect the **predictive power** of the features.\n",
    "\n",
    "* Additionally, some models require features that are in an **interval around 0** (logistic regression, KNN, neural networks...)"
   ]
  },
  {
   "cell_type": "markdown",
   "id": "11ab3d55-ca46-4405-a2c8-e27d04537d7e",
   "metadata": {},
   "source": [
    "## Normalization, Standardization, Robust scaling"
   ]
  },
  {
   "cell_type": "code",
   "execution_count": 96,
   "id": "bf875f5f-8ecd-4a6e-9e70-c26e7e622276",
   "metadata": {},
   "outputs": [
    {
     "data": {
      "text/html": [
       "<div>\n",
       "<style scoped>\n",
       "    .dataframe tbody tr th:only-of-type {\n",
       "        vertical-align: middle;\n",
       "    }\n",
       "\n",
       "    .dataframe tbody tr th {\n",
       "        vertical-align: top;\n",
       "    }\n",
       "\n",
       "    .dataframe thead th {\n",
       "        text-align: right;\n",
       "    }\n",
       "</style>\n",
       "<table border=\"1\" class=\"dataframe\">\n",
       "  <thead>\n",
       "    <tr style=\"text-align: right;\">\n",
       "      <th></th>\n",
       "      <th>mean radius</th>\n",
       "      <th>mean texture</th>\n",
       "      <th>mean perimeter</th>\n",
       "    </tr>\n",
       "  </thead>\n",
       "  <tbody>\n",
       "    <tr>\n",
       "      <th>1</th>\n",
       "      <td>20.57</td>\n",
       "      <td>17.77</td>\n",
       "      <td>132.90</td>\n",
       "    </tr>\n",
       "    <tr>\n",
       "      <th>2</th>\n",
       "      <td>19.69</td>\n",
       "      <td>21.25</td>\n",
       "      <td>130.00</td>\n",
       "    </tr>\n",
       "    <tr>\n",
       "      <th>3</th>\n",
       "      <td>11.42</td>\n",
       "      <td>20.38</td>\n",
       "      <td>77.58</td>\n",
       "    </tr>\n",
       "    <tr>\n",
       "      <th>5</th>\n",
       "      <td>12.45</td>\n",
       "      <td>15.70</td>\n",
       "      <td>82.57</td>\n",
       "    </tr>\n",
       "    <tr>\n",
       "      <th>7</th>\n",
       "      <td>13.71</td>\n",
       "      <td>20.83</td>\n",
       "      <td>90.20</td>\n",
       "    </tr>\n",
       "    <tr>\n",
       "      <th>...</th>\n",
       "      <td>...</td>\n",
       "      <td>...</td>\n",
       "      <td>...</td>\n",
       "    </tr>\n",
       "    <tr>\n",
       "      <th>562</th>\n",
       "      <td>15.22</td>\n",
       "      <td>30.62</td>\n",
       "      <td>103.40</td>\n",
       "    </tr>\n",
       "    <tr>\n",
       "      <th>563</th>\n",
       "      <td>20.92</td>\n",
       "      <td>25.09</td>\n",
       "      <td>143.00</td>\n",
       "    </tr>\n",
       "    <tr>\n",
       "      <th>564</th>\n",
       "      <td>21.56</td>\n",
       "      <td>22.39</td>\n",
       "      <td>142.00</td>\n",
       "    </tr>\n",
       "    <tr>\n",
       "      <th>566</th>\n",
       "      <td>16.60</td>\n",
       "      <td>28.08</td>\n",
       "      <td>108.30</td>\n",
       "    </tr>\n",
       "    <tr>\n",
       "      <th>567</th>\n",
       "      <td>20.60</td>\n",
       "      <td>29.33</td>\n",
       "      <td>140.10</td>\n",
       "    </tr>\n",
       "  </tbody>\n",
       "</table>\n",
       "<p>385 rows × 3 columns</p>\n",
       "</div>"
      ],
      "text/plain": [
       "     mean radius  mean texture  mean perimeter\n",
       "1          20.57         17.77          132.90\n",
       "2          19.69         21.25          130.00\n",
       "3          11.42         20.38           77.58\n",
       "5          12.45         15.70           82.57\n",
       "7          13.71         20.83           90.20\n",
       "..           ...           ...             ...\n",
       "562        15.22         30.62          103.40\n",
       "563        20.92         25.09          143.00\n",
       "564        21.56         22.39          142.00\n",
       "566        16.60         28.08          108.30\n",
       "567        20.60         29.33          140.10\n",
       "\n",
       "[385 rows x 3 columns]"
      ]
     },
     "execution_count": 96,
     "metadata": {},
     "output_type": "execute_result"
    }
   ],
   "source": [
    "import pandas as pd\n",
    "\n",
    "X = pd.read_csv('sample_dataset.csv').iloc[:,0:3].dropna()\n",
    "X"
   ]
  },
  {
   "cell_type": "markdown",
   "id": "5e9a0237-0de6-4aa3-9349-242af16d3035",
   "metadata": {},
   "source": [
    "### Normalization (0-1 scaling)"
   ]
  },
  {
   "cell_type": "code",
   "execution_count": 97,
   "id": "2c525bc8-a691-45df-a355-820cd4e673aa",
   "metadata": {},
   "outputs": [
    {
     "data": {
      "text/plain": [
       "array([[0.63004759, 0.27257355, 0.60432679],\n",
       "       [0.58687012, 0.3902604 , 0.58368915],\n",
       "       [0.18110004, 0.36083869, 0.21064617],\n",
       "       ...,\n",
       "       [0.67862225, 0.42881299, 0.66908625],\n",
       "       [0.43525833, 0.62123774, 0.42926274],\n",
       "       [0.63151955, 0.66351031, 0.65556504]])"
      ]
     },
     "execution_count": 97,
     "metadata": {},
     "output_type": "execute_result"
    }
   ],
   "source": [
    "from sklearn.preprocessing import MinMaxScaler\n",
    "\n",
    "scaler = MinMaxScaler()\n",
    "X_scaled = scaler.fit_transform(X)\n",
    "X_scaled"
   ]
  },
  {
   "cell_type": "code",
   "execution_count": 98,
   "id": "f0a1a8d9-06e0-4816-9263-cdad1ff453ce",
   "metadata": {},
   "outputs": [
    {
     "data": {
      "text/plain": [
       "array([[1., 1., 1.]])"
      ]
     },
     "execution_count": 98,
     "metadata": {},
     "output_type": "execute_result"
    }
   ],
   "source": [
    "import numpy as np\n",
    "\n",
    "np.apply_over_axes(np.max,X_scaled,0)"
   ]
  },
  {
   "cell_type": "code",
   "execution_count": 99,
   "id": "f7f1a352-76bb-4561-8591-b9526b38e9cc",
   "metadata": {},
   "outputs": [
    {
     "data": {
      "text/plain": [
       "array([[0., 0., 0.]])"
      ]
     },
     "execution_count": 99,
     "metadata": {},
     "output_type": "execute_result"
    }
   ],
   "source": [
    "np.apply_over_axes(np.min,X_scaled,0)"
   ]
  },
  {
   "cell_type": "markdown",
   "id": "de7b837e-a2d3-435a-9037-12cf6a3bc0b7",
   "metadata": {},
   "source": [
    "### Standardization (very sensitive to the presence of the outlier)"
   ]
  },
  {
   "cell_type": "code",
   "execution_count": 100,
   "id": "7c1c810e-a7f0-47d8-8ac9-ae846cc9de6f",
   "metadata": {},
   "outputs": [
    {
     "data": {
      "text/plain": [
       "array([[ 1.87149535, -0.35527432,  1.7252216 ],\n",
       "       [ 1.61663638,  0.44774298,  1.6034021 ],\n",
       "       [-0.77845877,  0.24698866, -0.59859036],\n",
       "       ...,\n",
       "       [ 2.1582117 ,  0.71080038,  2.10748279],\n",
       "       [ 0.72173384,  2.02377982,  0.6918562 ],\n",
       "       [ 1.88018373,  2.31221994,  2.02767001]])"
      ]
     },
     "execution_count": 100,
     "metadata": {},
     "output_type": "execute_result"
    }
   ],
   "source": [
    "from sklearn.preprocessing import StandardScaler\n",
    "\n",
    "scaler = StandardScaler()\n",
    "X_scaled = scaler.fit_transform(X)\n",
    "X_scaled"
   ]
  },
  {
   "cell_type": "code",
   "execution_count": 101,
   "id": "77b0fba3-c6e3-41db-a482-eae754a478cf",
   "metadata": {},
   "outputs": [
    {
     "data": {
      "text/plain": [
       "array([[-7.38226219e-17, -2.86062660e-16, -1.84556555e-17]])"
      ]
     },
     "execution_count": 101,
     "metadata": {},
     "output_type": "execute_result"
    }
   ],
   "source": [
    "np.apply_over_axes(np.mean,X_scaled,0) # Nearly 0 for each features"
   ]
  },
  {
   "cell_type": "code",
   "execution_count": 102,
   "id": "1a9073c3-37de-4a59-b1d9-e499f342ddf4",
   "metadata": {},
   "outputs": [
    {
     "data": {
      "text/plain": [
       "array([[1., 1., 1.]])"
      ]
     },
     "execution_count": 102,
     "metadata": {},
     "output_type": "execute_result"
    }
   ],
   "source": [
    "np.apply_over_axes(np.var,X_scaled,0)"
   ]
  },
  {
   "cell_type": "markdown",
   "id": "f1848710-3574-40c3-88e6-fe84cf21ec35",
   "metadata": {},
   "source": [
    "### Robust scaling"
   ]
  },
  {
   "cell_type": "code",
   "execution_count": 103,
   "id": "ec00e862-db4a-492f-8bb6-319e832c9475",
   "metadata": {},
   "outputs": [
    {
     "data": {
      "text/plain": [
       "array([[ 1.78484108, -0.18650089,  1.64689365],\n",
       "       [ 1.56968215,  0.43161634,  1.54510355],\n",
       "       [-0.45232274,  0.27708703, -0.29484029],\n",
       "       ...,\n",
       "       [ 2.02689487,  0.63410302,  1.96630397],\n",
       "       [ 0.81418093,  1.64476021,  0.78343278],\n",
       "       [ 1.79217604,  1.86678508,  1.8996139 ]])"
      ]
     },
     "execution_count": 103,
     "metadata": {},
     "output_type": "execute_result"
    }
   ],
   "source": [
    "from sklearn.preprocessing import RobustScaler\n",
    "\n",
    "scaler = RobustScaler()\n",
    "X_scaled = scaler.fit_transform(X)\n",
    "X_scaled"
   ]
  },
  {
   "cell_type": "code",
   "execution_count": 104,
   "id": "80dc5956-8c40-4605-9fa0-70b57b0ba820",
   "metadata": {},
   "outputs": [
    {
     "data": {
      "text/plain": [
       "array([[0., 0., 0.]])"
      ]
     },
     "execution_count": 104,
     "metadata": {},
     "output_type": "execute_result"
    }
   ],
   "source": [
    "np.apply_over_axes(np.median,X_scaled,0)"
   ]
  },
  {
   "cell_type": "code",
   "execution_count": 105,
   "id": "2f4faa42-c01f-4fef-b8f6-a38002e3f54a",
   "metadata": {},
   "outputs": [
    {
     "data": {
      "text/plain": [
       "array([[ 20.57,  17.77, 132.9 ],\n",
       "       [ 19.69,  21.25, 130.  ],\n",
       "       [ 11.42,  20.38,  77.58],\n",
       "       ...,\n",
       "       [ 21.56,  22.39, 142.  ],\n",
       "       [ 16.6 ,  28.08, 108.3 ],\n",
       "       [ 20.6 ,  29.33, 140.1 ]])"
      ]
     },
     "execution_count": 105,
     "metadata": {},
     "output_type": "execute_result"
    }
   ],
   "source": [
    "scaler.inverse_transform(X_scaled)"
   ]
  },
  {
   "cell_type": "code",
   "execution_count": 106,
   "id": "f35e8f1b-7762-47ed-90ab-e656769438f2",
   "metadata": {},
   "outputs": [
    {
     "data": {
      "text/html": [
       "<div>\n",
       "<style scoped>\n",
       "    .dataframe tbody tr th:only-of-type {\n",
       "        vertical-align: middle;\n",
       "    }\n",
       "\n",
       "    .dataframe tbody tr th {\n",
       "        vertical-align: top;\n",
       "    }\n",
       "\n",
       "    .dataframe thead th {\n",
       "        text-align: right;\n",
       "    }\n",
       "</style>\n",
       "<table border=\"1\" class=\"dataframe\">\n",
       "  <thead>\n",
       "    <tr style=\"text-align: right;\">\n",
       "      <th></th>\n",
       "      <th>mean radius</th>\n",
       "      <th>mean texture</th>\n",
       "      <th>mean perimeter</th>\n",
       "    </tr>\n",
       "  </thead>\n",
       "  <tbody>\n",
       "    <tr>\n",
       "      <th>1</th>\n",
       "      <td>20.57</td>\n",
       "      <td>17.77</td>\n",
       "      <td>132.90</td>\n",
       "    </tr>\n",
       "    <tr>\n",
       "      <th>2</th>\n",
       "      <td>19.69</td>\n",
       "      <td>21.25</td>\n",
       "      <td>130.00</td>\n",
       "    </tr>\n",
       "    <tr>\n",
       "      <th>3</th>\n",
       "      <td>11.42</td>\n",
       "      <td>20.38</td>\n",
       "      <td>77.58</td>\n",
       "    </tr>\n",
       "    <tr>\n",
       "      <th>5</th>\n",
       "      <td>12.45</td>\n",
       "      <td>15.70</td>\n",
       "      <td>82.57</td>\n",
       "    </tr>\n",
       "    <tr>\n",
       "      <th>7</th>\n",
       "      <td>13.71</td>\n",
       "      <td>20.83</td>\n",
       "      <td>90.20</td>\n",
       "    </tr>\n",
       "    <tr>\n",
       "      <th>...</th>\n",
       "      <td>...</td>\n",
       "      <td>...</td>\n",
       "      <td>...</td>\n",
       "    </tr>\n",
       "    <tr>\n",
       "      <th>562</th>\n",
       "      <td>15.22</td>\n",
       "      <td>30.62</td>\n",
       "      <td>103.40</td>\n",
       "    </tr>\n",
       "    <tr>\n",
       "      <th>563</th>\n",
       "      <td>20.92</td>\n",
       "      <td>25.09</td>\n",
       "      <td>143.00</td>\n",
       "    </tr>\n",
       "    <tr>\n",
       "      <th>564</th>\n",
       "      <td>21.56</td>\n",
       "      <td>22.39</td>\n",
       "      <td>142.00</td>\n",
       "    </tr>\n",
       "    <tr>\n",
       "      <th>566</th>\n",
       "      <td>16.60</td>\n",
       "      <td>28.08</td>\n",
       "      <td>108.30</td>\n",
       "    </tr>\n",
       "    <tr>\n",
       "      <th>567</th>\n",
       "      <td>20.60</td>\n",
       "      <td>29.33</td>\n",
       "      <td>140.10</td>\n",
       "    </tr>\n",
       "  </tbody>\n",
       "</table>\n",
       "<p>385 rows × 3 columns</p>\n",
       "</div>"
      ],
      "text/plain": [
       "     mean radius  mean texture  mean perimeter\n",
       "1          20.57         17.77          132.90\n",
       "2          19.69         21.25          130.00\n",
       "3          11.42         20.38           77.58\n",
       "5          12.45         15.70           82.57\n",
       "7          13.71         20.83           90.20\n",
       "..           ...           ...             ...\n",
       "562        15.22         30.62          103.40\n",
       "563        20.92         25.09          143.00\n",
       "564        21.56         22.39          142.00\n",
       "566        16.60         28.08          108.30\n",
       "567        20.60         29.33          140.10\n",
       "\n",
       "[385 rows x 3 columns]"
      ]
     },
     "execution_count": 106,
     "metadata": {},
     "output_type": "execute_result"
    }
   ],
   "source": [
    "X.iloc[:,0:3]"
   ]
  },
  {
   "cell_type": "markdown",
   "id": "ec6e131f-f097-4e41-bd5d-bd2f4afc0e1f",
   "metadata": {},
   "source": [
    "## Exercise\n",
    "* Load **sample_dataset.csv**\n",
    "* Numerical variables must be cleaned using the median value, then normalized\n",
    "* Change the scaler to standard scaler and transform the dataset again"
   ]
  },
  {
   "cell_type": "code",
   "execution_count": 107,
   "id": "650ec1c0-44ac-47c4-b811-80dae0945935",
   "metadata": {},
   "outputs": [
    {
     "data": {
      "text/plain": [
       "array([[0.29812107, 0.0226581 , 0.54598853, ..., 0.59838328, 0.41886396,\n",
       "        0.        ],\n",
       "       [0.64314449, 0.27257355, 0.61578329, ..., 0.23343849, 0.16286239,\n",
       "        0.        ],\n",
       "       [0.60149557, 0.3902604 , 0.59574321, ..., 0.40358833, 0.21343303,\n",
       "        0.        ],\n",
       "       ...,\n",
       "       [0.45525108, 0.62123774, 0.44578813, ..., 0.1285489 , 0.1519087 ,\n",
       "        0.        ],\n",
       "       [0.64456434, 0.66351031, 0.66553797, ..., 0.49704259, 0.45231536,\n",
       "        0.        ],\n",
       "       [0.03686876, 0.30943524, 0.02853984, ..., 0.25729495, 0.10068215,\n",
       "        1.        ]])"
      ]
     },
     "execution_count": 107,
     "metadata": {},
     "output_type": "execute_result"
    }
   ],
   "source": [
    "import pandas as pd\n",
    "from sklearn.compose import ColumnTransformer, make_column_selector\n",
    "from sklearn.impute import SimpleImputer\n",
    "from sklearn.pipeline import Pipeline\n",
    "from sklearn.preprocessing import MinMaxScaler, StandardScaler\n",
    "\n",
    "df = pd.read_csv('sample_dataset.csv')\n",
    "column_transformer = ColumnTransformer([\n",
    "    ('cleaner',SimpleImputer(strategy='median'),make_column_selector(dtype_exclude='object'))\n",
    "])\n",
    "pipeline = Pipeline([\n",
    "    ('cleaner',column_transformer),\n",
    "    ('scaler',MinMaxScaler())\n",
    "])\n",
    "pipeline.fit_transform(df)"
   ]
  },
  {
   "cell_type": "code",
   "execution_count": 108,
   "id": "3fcf7013-6275-4eba-885b-0ae018aef802",
   "metadata": {},
   "outputs": [
    {
     "data": {
      "text/plain": [
       "array([[-0.20432818, -2.19476665,  1.37036991, ...,  3.03221728,\n",
       "         2.07178429, -1.29767572],\n",
       "       [ 2.05135617, -0.36634812,  1.81225729, ..., -0.24951395,\n",
       "        -0.21771061, -1.29767572],\n",
       "       [ 1.77906506,  0.49466628,  1.68537874, ...,  1.28054226,\n",
       "         0.23455702, -1.29767572],\n",
       "       ...,\n",
       "       [ 0.82295193,  2.18453076,  0.73597713, ..., -1.19272357,\n",
       "        -0.3156726 , -1.29767572],\n",
       "       [ 2.06063882,  2.49380318,  2.12726612, ...,  2.12092077,\n",
       "         2.37094965, -1.29767572],\n",
       "       [-1.91233609, -0.09666258, -1.90572191, ..., -0.03498695,\n",
       "        -0.77380622,  0.77060855]])"
      ]
     },
     "execution_count": 108,
     "metadata": {},
     "output_type": "execute_result"
    }
   ],
   "source": [
    "pipeline.set_params(scaler=StandardScaler())\n",
    "pipeline.fit_transform(df)"
   ]
  },
  {
   "cell_type": "code",
   "execution_count": null,
   "id": "b065dd2d-54e8-4cdd-b0ba-803b45aca82f",
   "metadata": {},
   "outputs": [],
   "source": []
  }
 ],
 "metadata": {
  "kernelspec": {
   "display_name": "Python 3 (ipykernel)",
   "language": "python",
   "name": "python3"
  },
  "language_info": {
   "codemirror_mode": {
    "name": "ipython",
    "version": 3
   },
   "file_extension": ".py",
   "mimetype": "text/x-python",
   "name": "python",
   "nbconvert_exporter": "python",
   "pygments_lexer": "ipython3",
   "version": "3.8.10"
  }
 },
 "nbformat": 4,
 "nbformat_minor": 5
}
